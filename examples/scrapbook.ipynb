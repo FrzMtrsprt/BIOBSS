{
 "cells": [
  {
   "cell_type": "code",
   "execution_count": 1,
   "metadata": {},
   "outputs": [],
   "source": [
    "import plotly.graph_objects as go\n",
    "import pandas as pd\n",
    "import matplotlib.pyplot as plt\n",
    "import plotly.express as px\n",
    "from plotly_resampler import register_plotly_resampler\n"
   ]
  },
  {
   "cell_type": "code",
   "execution_count": 4,
   "metadata": {},
   "outputs": [],
   "source": [
    "import importlib\n",
    "import sys\n",
    "import pandas as pd\n",
    "import numpy as np\n",
    "\n",
    "sys.path.append(\"../\")\n",
    "import biobss\n",
    "import os\n",
    "os.getcwd()\n",
    "import neurokit2 as nk\n",
    "sample_data = pd.read_pickle(\"../sample_data/EDA_Chest.pkl\")\n",
    "sample_data = sample_data.flatten()"
   ]
  },
  {
   "cell_type": "code",
   "execution_count": 8,
   "metadata": {},
   "outputs": [],
   "source": [
    "clean=biobss.pipeline.Bio_Process(\n",
    "    process_method=biobss.edatools.eda_clean,argmap={\"sampling_rate\":\"sampling_rate\"},method=\"neurokit\")\n",
    "decompose = biobss.pipeline.Bio_Process(process_method=biobss.edatools.eda_decompose,method=\"highpass\")\n",
    "\n",
    "find_peaks = biobss.pipeline.Bio_Process(process_method=biobss.edatools.eda_peaks.find_peaks,method=\"neurokit\",\n",
    "                                         returns_event=True,event_args={\"event_name\":\"SCR_Peaks\",\"dict_index\":\"SCR_Peaks\"},return_index=1)\n",
    "\n",
    "\n",
    "\n",
    "\n",
    "\n",
    "pipeline = biobss.pipeline.Bio_Pipeline(windowed_process=True,window_size=60,step_size=20)\n",
    "\n",
    "pipeline.preprocess_queue.add_process(clean)\n",
    "pipeline.preprocess_queue.add_process(decompose)\n",
    "pipeline.preprocess_queue.add_process(find_peaks,input_signals=[\"EDA_Phasic\"])\n",
    "\n",
    "\n",
    "channel=biobss.pipeline.Bio_Channel(signal=sample_data,name=\"EDA_Raw\",sampling_rate=700)\n",
    "pipeline.set_input(sample_data,sampling_rate=700,name='EDA_Raw')\n",
    "pipeline.run_pipeline()"
   ]
  },
  {
   "cell_type": "code",
   "execution_count": 12,
   "metadata": {},
   "outputs": [
    {
     "data": {
      "text/plain": [
       "2.957429e+04      20702\n",
       "5.625429e+04      39378\n",
       "5.968857e+04      41782\n",
       "7.280143e+04      50961\n",
       "8.659714e+04      60618\n",
       "                 ...   \n",
       "5.867129e+06    4106990\n",
       "5.869956e+06    4108969\n",
       "5.879857e+06    4115900\n",
       "5.896196e+06    4127337\n",
       "5.900130e+06    4130091\n",
       "Name: SCR_Peaks, Length: 184, dtype: int64"
      ]
     },
     "execution_count": 12,
     "metadata": {},
     "output_type": "execute_result"
    }
   ],
   "source": [
    "pipeline.data.events['SCR_Peaks'].content"
   ]
  }
 ],
 "metadata": {
  "kernelspec": {
   "display_name": "Python 3.8.12 ('biolib')",
   "language": "python",
   "name": "python3"
  },
  "language_info": {
   "codemirror_mode": {
    "name": "ipython",
    "version": 3
   },
   "file_extension": ".py",
   "mimetype": "text/x-python",
   "name": "python",
   "nbconvert_exporter": "python",
   "pygments_lexer": "ipython3",
   "version": "3.8.12"
  },
  "orig_nbformat": 4,
  "vscode": {
   "interpreter": {
    "hash": "2fa1c4f98c7b87941450f311ed7a57ace56542b965a97c9ab1a41e28cb5fe538"
   }
  }
 },
 "nbformat": 4,
 "nbformat_minor": 2
}
