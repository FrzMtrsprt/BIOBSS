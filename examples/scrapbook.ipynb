{
 "cells": [
  {
   "cell_type": "code",
   "execution_count": 1,
   "metadata": {},
   "outputs": [],
   "source": [
    "import plotly.graph_objects as go\n",
    "import pandas as pd\n",
    "import matplotlib.pyplot as plt\n",
    "import plotly.express as px\n",
    "from plotly_resampler import register_plotly_resampler\n"
   ]
  },
  {
   "cell_type": "code",
   "execution_count": 2,
   "metadata": {},
   "outputs": [],
   "source": [
    "import importlib\n",
    "import sys\n",
    "import pandas as pd\n",
    "import numpy as np\n",
    "\n",
    "sys.path.append(\"../\")\n",
    "import biobss\n",
    "import os\n",
    "os.getcwd()\n",
    "import neurokit2 as nk\n",
    "sample_data = pd.read_pickle(\"../sample_data/EDA_Chest.pkl\")\n",
    "sample_data = sample_data.flatten()"
   ]
  },
  {
   "cell_type": "code",
   "execution_count": 3,
   "metadata": {},
   "outputs": [
    {
     "ename": "ValueError",
     "evalue": "If result is a dictionary, dict_index must be specified! in either in the event_args or as a return_index",
     "output_type": "error",
     "traceback": [
      "\u001b[1;31m---------------------------------------------------------------------------\u001b[0m",
      "\u001b[1;31mValueError\u001b[0m                                Traceback (most recent call last)",
      "\u001b[1;32mc:\\Users\\cagatay.tasci\\Desktop\\Biobss\\pre-release_peaks\\BIOBSS\\examples\\scrapbook.ipynb Cell 3\u001b[0m in \u001b[0;36m<cell line: 21>\u001b[1;34m()\u001b[0m\n\u001b[0;32m     <a href='vscode-notebook-cell:/c%3A/Users/cagatay.tasci/Desktop/Biobss/pre-release_peaks/BIOBSS/examples/scrapbook.ipynb#X23sZmlsZQ%3D%3D?line=18'>19</a>\u001b[0m channel\u001b[39m=\u001b[39mbiobss\u001b[39m.\u001b[39mpipeline\u001b[39m.\u001b[39mBio_Channel(signal\u001b[39m=\u001b[39msample_data,name\u001b[39m=\u001b[39m\u001b[39m\"\u001b[39m\u001b[39mEDA_Raw\u001b[39m\u001b[39m\"\u001b[39m,sampling_rate\u001b[39m=\u001b[39m\u001b[39m700\u001b[39m)\n\u001b[0;32m     <a href='vscode-notebook-cell:/c%3A/Users/cagatay.tasci/Desktop/Biobss/pre-release_peaks/BIOBSS/examples/scrapbook.ipynb#X23sZmlsZQ%3D%3D?line=19'>20</a>\u001b[0m pipeline\u001b[39m.\u001b[39mset_input(sample_data,sampling_rate\u001b[39m=\u001b[39m\u001b[39m700\u001b[39m,name\u001b[39m=\u001b[39m\u001b[39m'\u001b[39m\u001b[39mEDA_Raw\u001b[39m\u001b[39m'\u001b[39m)\n\u001b[1;32m---> <a href='vscode-notebook-cell:/c%3A/Users/cagatay.tasci/Desktop/Biobss/pre-release_peaks/BIOBSS/examples/scrapbook.ipynb#X23sZmlsZQ%3D%3D?line=20'>21</a>\u001b[0m pipeline\u001b[39m.\u001b[39;49mrun_pipeline()\n",
      "File \u001b[1;32mc:\\Users\\cagatay.tasci\\Desktop\\Biobss\\pre-release_peaks\\BIOBSS\\examples\\..\\biobss\\pipeline\\pipeline.py:141\u001b[0m, in \u001b[0;36mBio_Pipeline.run_pipeline\u001b[1;34m(self)\u001b[0m\n\u001b[0;32m    138\u001b[0m \u001b[39mexcept\u001b[39;00m \u001b[39mAttributeError\u001b[39;00m:\n\u001b[0;32m    139\u001b[0m     \u001b[39mraise\u001b[39;00m \u001b[39mValueError\u001b[39;00m(\u001b[39m\"\u001b[39m\u001b[39mInput data must be set before running pipeline\u001b[39m\u001b[39m\"\u001b[39m)\n\u001b[1;32m--> 141\u001b[0m \u001b[39mself\u001b[39m\u001b[39m.\u001b[39mdata \u001b[39m=\u001b[39m \u001b[39mself\u001b[39;49m\u001b[39m.\u001b[39;49mpreprocess_queue\u001b[39m.\u001b[39;49mrun_process_queue(\u001b[39mself\u001b[39;49m\u001b[39m.\u001b[39;49mdata)\n\u001b[0;32m    142\u001b[0m \u001b[39mif\u001b[39;00m \u001b[39mself\u001b[39m\u001b[39m.\u001b[39mwindowed:\n\u001b[0;32m    143\u001b[0m     \u001b[39mself\u001b[39m\u001b[39m.\u001b[39mconvert_windows()\n",
      "File \u001b[1;32mc:\\Users\\cagatay.tasci\\Desktop\\Biobss\\pre-release_peaks\\BIOBSS\\examples\\..\\biobss\\pipeline\\bioprocess_queue.py:50\u001b[0m, in \u001b[0;36mProcess_List.run_process_queue\u001b[1;34m(self, bio_data)\u001b[0m\n\u001b[0;32m     47\u001b[0m     to_be_processed\u001b[39m=\u001b[39m\u001b[39mFalse\u001b[39;00m\n\u001b[0;32m     49\u001b[0m \u001b[39mif\u001b[39;00m(to_be_processed):\n\u001b[1;32m---> 50\u001b[0m     process_result \u001b[39m=\u001b[39m process\u001b[39m.\u001b[39;49mprocess(bio_data[c_name])\n\u001b[0;32m     51\u001b[0m     \u001b[39mif\u001b[39;00m(\u001b[39misinstance\u001b[39m(process_result, Bio_Data)):\n\u001b[0;32m     52\u001b[0m             bio_data\u001b[39m.\u001b[39mjoin(process_result)\n",
      "File \u001b[1;32mc:\\Users\\cagatay.tasci\\Desktop\\Biobss\\pre-release_peaks\\BIOBSS\\examples\\..\\biobss\\pipeline\\bio_process.py:73\u001b[0m, in \u001b[0;36mBio_Process.process\u001b[1;34m(self, signal)\u001b[0m\n\u001b[0;32m     69\u001b[0m             \u001b[39mfor\u001b[39;00m i \u001b[39min\u001b[39;00m \u001b[39mrange\u001b[39m(signal\u001b[39m.\u001b[39mchannel\u001b[39m.\u001b[39mshape[\u001b[39m0\u001b[39m]):\n\u001b[0;32m     70\u001b[0m                 result\u001b[39m.\u001b[39mappend(\u001b[39mself\u001b[39m\u001b[39m.\u001b[39mprocess_method(\n\u001b[0;32m     71\u001b[0m                     signal\u001b[39m.\u001b[39mchannel[i], \u001b[39m*\u001b[39m\u001b[39m*\u001b[39m\u001b[39mself\u001b[39m\u001b[39m.\u001b[39mkwargs))\n\u001b[1;32m---> 73\u001b[0m result \u001b[39m=\u001b[39m \u001b[39mself\u001b[39;49m\u001b[39m.\u001b[39;49m_process_results(signal, result)\n\u001b[0;32m     74\u001b[0m \u001b[39mreturn\u001b[39;00m result\n",
      "File \u001b[1;32mc:\\Users\\cagatay.tasci\\Desktop\\Biobss\\pre-release_peaks\\BIOBSS\\examples\\..\\biobss\\pipeline\\bio_process.py:78\u001b[0m, in \u001b[0;36mBio_Process._process_results\u001b[1;34m(self, signal, result)\u001b[0m\n\u001b[0;32m     76\u001b[0m \u001b[39mdef\u001b[39;00m \u001b[39m_process_results\u001b[39m(\u001b[39mself\u001b[39m, signal: Bio_Channel, result):\n\u001b[0;32m     77\u001b[0m     \u001b[39mif\u001b[39;00m(\u001b[39mself\u001b[39m\u001b[39m.\u001b[39mreturns_event):\n\u001b[1;32m---> 78\u001b[0m         result\u001b[39m=\u001b[39m\u001b[39mself\u001b[39;49m\u001b[39m.\u001b[39;49m_process_event_results(signal,result)\n\u001b[0;32m     79\u001b[0m         \u001b[39mreturn\u001b[39;00m result\n\u001b[0;32m     80\u001b[0m     \u001b[39mif\u001b[39;00m \u001b[39misinstance\u001b[39m(result, Bio_Channel):\n",
      "File \u001b[1;32mc:\\Users\\cagatay.tasci\\Desktop\\Biobss\\pre-release_peaks\\BIOBSS\\examples\\..\\biobss\\pipeline\\bio_process.py:175\u001b[0m, in \u001b[0;36mBio_Process._process_event_results\u001b[1;34m(self, signal, result)\u001b[0m\n\u001b[0;32m    173\u001b[0m     index\u001b[39m=\u001b[39mdict_index\n\u001b[0;32m    174\u001b[0m \u001b[39melse\u001b[39;00m:\n\u001b[1;32m--> 175\u001b[0m     \u001b[39mraise\u001b[39;00m \u001b[39mValueError\u001b[39;00m(\u001b[39m\"\u001b[39m\u001b[39mIf result is a dictionary, dict_index must be specified! in either in the event_args or as a return_index\u001b[39m\u001b[39m\"\u001b[39m)\n\u001b[0;32m    176\u001b[0m result \u001b[39m=\u001b[39m result[\u001b[39mself\u001b[39m\u001b[39m.\u001b[39mindex]\n\u001b[0;32m    177\u001b[0m signal_name \u001b[39m=\u001b[39m index\n",
      "\u001b[1;31mValueError\u001b[0m: If result is a dictionary, dict_index must be specified! in either in the event_args or as a return_index"
     ]
    }
   ],
   "source": [
    "clean=biobss.pipeline.Bio_Process(\n",
    "    process_method=biobss.edatools.eda_clean,argmap={\"sampling_rate\":\"sampling_rate\"},method=\"neurokit\")\n",
    "decompose = biobss.pipeline.Bio_Process(process_method=biobss.edatools.eda_decompose,method=\"highpass\")\n",
    "\n",
    "find_peaks = biobss.pipeline.Bio_Process(process_method=biobss.edatools.eda_peaks.find_peaks,method=\"neurokit\",\n",
    "                                         returns_event=True,event_args={\"event_name\":\"SCR_Peaks\",\"dict_index\":\"SCR_Peaks\"},return_index=1)\n",
    "\n",
    "\n",
    "\n",
    "\n",
    "\n",
    "pipeline = biobss.pipeline.Bio_Pipeline(windowed_process=True,window_size=60,step_size=20)\n",
    "\n",
    "pipeline.preprocess_queue.add_process(clean)\n",
    "pipeline.preprocess_queue.add_process(decompose)\n",
    "pipeline.preprocess_queue.add_process(find_peaks,input_signals=[\"EDA_Phasic\"])\n",
    "\n",
    "\n",
    "channel=biobss.pipeline.Bio_Channel(signal=sample_data,name=\"EDA_Raw\",sampling_rate=700)\n",
    "pipeline.set_input(sample_data,sampling_rate=700,name='EDA_Raw')\n",
    "pipeline.run_pipeline()"
   ]
  },
  {
   "cell_type": "code",
   "execution_count": null,
   "metadata": {},
   "outputs": [],
   "source": []
  }
 ],
 "metadata": {
  "kernelspec": {
   "display_name": "Python 3.8.12 ('biolib')",
   "language": "python",
   "name": "python3"
  },
  "language_info": {
   "codemirror_mode": {
    "name": "ipython",
    "version": 3
   },
   "file_extension": ".py",
   "mimetype": "text/x-python",
   "name": "python",
   "nbconvert_exporter": "python",
   "pygments_lexer": "ipython3",
   "version": "3.8.12"
  },
  "orig_nbformat": 4,
  "vscode": {
   "interpreter": {
    "hash": "2fa1c4f98c7b87941450f311ed7a57ace56542b965a97c9ab1a41e28cb5fe538"
   }
  }
 },
 "nbformat": 4,
 "nbformat_minor": 2
}
