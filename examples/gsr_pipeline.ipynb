{
 "cells": [
  {
   "cell_type": "code",
   "execution_count": 1,
   "metadata": {},
   "outputs": [
    {
     "name": "stderr",
     "output_type": "stream",
     "text": [
      "c:\\Users\\cagatay\\miniconda3\\envs\\biobss_dev\\lib\\site-packages\\plotly_resampler\\aggregation\\aggregators.py:24: UserWarning: Could not import lttbc; will use a (slower) python alternative.\n",
      "  warnings.warn(\"Could not import lttbc; will use a (slower) python alternative.\")\n"
     ]
    }
   ],
   "source": [
    "# imports\n",
    "import sys\n",
    "import pandas as pd\n",
    "import numpy as np\n",
    "import matplotlib.pyplot as plt\n",
    "import os\n",
    "import neurokit2 as nk\n",
    "#import biobss from local to run without installing\n",
    "sys.path.append(\"../\")\n",
    "import biobss\n"
   ]
  },
  {
   "cell_type": "code",
   "execution_count": 2,
   "metadata": {},
   "outputs": [],
   "source": [
    "# Load sample EDA(GSR) data\n",
    "sample_data = pd.read_pickle(\"../sample_data/EDA_Chest.pkl\")\n",
    "# Flatten the data\n",
    "sample_data = sample_data.flatten()\n",
    "# Sample Data Properties\n",
    "sampling_rate = 700\n",
    "# Create a timestamp for plotting, this is not necessary for the pipeline\n",
    "timestamp = np.arange(0, len(sample_data)/sampling_rate, 1/sampling_rate)"
   ]
  },
  {
   "cell_type": "code",
   "execution_count": 3,
   "metadata": {},
   "outputs": [],
   "source": [
    "# # Plot the data\n",
    "# ax=plt.subplot(1,1,1)\n",
    "# ax.figure.set_size_inches(16, 3)\n",
    "# biobss.plottools.create_signal_plot(sample_data, ax, timestamp, 's', 'EDA Signal', 'EDA', None)"
   ]
  },
  {
   "cell_type": "markdown",
   "metadata": {},
   "source": [
    "# <font color='Green'> Adding processes to the Pipeline </font>\n",
    "\n",
    "#### <font color='red'> Adding a process </font>\n",
    "\n",
    "Any process can be added to the pipeline if the input is a signal and ouput is a signal or collection of signals. The process can be added by passing the method to a Bio_Process constructor. The Bio_Process constructor takes the following arguments:\n",
    "\n",
    "- process_method: The method to be added to the pipeline\n",
    "- inplace: If True, result of the process will modify the input signal. If False, the result of the process will be returned as a new signal and added as a new channel.\n",
    "- prefix: The prefix to be added to the output channel name. If inplace is True, prefix will be ignored.\n",
    "  - If inplace is False, the output channel name will be prefix + input channel name.\n",
    "  - <code> (Default: None) (if inplace = False  and prefix = None, prefix will be set to 'processed') </code>\n",
    "- return_index : If a return_index is set, selected index of the result will be set as result. If return_index is None, the whole result will be set as result. (Default: None)\n",
    "- argmap: this dictionary maps different named arguments. For example, Bio_Channel already have a sampling_rate attribute. If the process method requires sampling rate with a different name, it can be mapped to the Bio_Channel attribute.<code> EXAMPLE : argmap = {'sampling_rate': 'fs'} or argmap = {'sampling_rate': 'sample_rate'} </code>\n",
    "- **kwargs: Keyword arguments to be passed to the process method\n",
    "\n",
    "\n",
    "\n",
    "\n",
    "\n",
    "\n",
    "Pipeline processes the given input sequentially. The input is passed from one process to the next."
   ]
  },
  {
   "cell_type": "code",
   "execution_count": 4,
   "metadata": {},
   "outputs": [],
   "source": [
    "# Create steps for the pipeline\n",
    "# EDA decopmosition step, Returns a dictionary with the following keys: EDA_Tonic, EDA_Phasic\n",
    "decompose = biobss.pipeline.Bio_Process(process_name='decompose',process_method=biobss.edatools.eda_decompose,method=\"highpass\")\n",
    "\n",
    "# Filter steps process,return filtered signal for all input signals\n",
    "clean=biobss.pipeline.Bio_Process(process_name='clean',\n",
    "    process_method=biobss.edatools.filter_eda,method=\"neurokit\")\n",
    "\n",
    "# Signal normalization step, return normalized signal for all input signals\n",
    "normalize = biobss.pipeline.Bio_Process(process_name='normalize',\n",
    "    process_method=biobss.preprocess.normalize_signal)\n",
    "\n",
    "# Signal resampling step, return resampled signal for all input signals, signals resampled to 350Hz\n",
    "resample = biobss.pipeline.Bio_Process(process_name='resample',\n",
    "    process_method=biobss.preprocess.resample_signal_object,target_sample_rate=350)\n",
    "\n",
    "# Create feature extraction steps\n",
    "\n",
    "# Extract signal features. input_signals dictionary contains feature prefixes as keys and input signals as values\n",
    "# For example rms of EDA_Tonic is extracted as Tonic_rms in this case\n"
   ]
  },
  {
   "cell_type": "code",
   "execution_count": 5,
   "metadata": {},
   "outputs": [],
   "source": [
    "# BIOBSS Pipeline is created\n",
    "# windowed_process=True means that the pipeline will process the signal in windows\n",
    "# window_size=60 means that the pipeline will process 60 seconds of data at a time\n",
    "# step_size=20 means signal will be shifted by 20 seconds for each window\n",
    "pipeline = biobss.pipeline.Bio_Pipeline(windowed_process=True,window_size=60,step_size=20)"
   ]
  },
  {
   "cell_type": "code",
   "execution_count": 6,
   "metadata": {},
   "outputs": [
    {
     "data": {
      "text/plain": [
       "<biobss.pipeline.bio_channel.Channel at 0x1f49a0d17f0>"
      ]
     },
     "execution_count": 6,
     "metadata": {},
     "output_type": "execute_result"
    }
   ],
   "source": [
    "# Input is created as Bio_Channel object\n",
    "# Bio_Channel object requires following parameters: name, signal, sampling_rate\n",
    "# Optionally timestamp can be provided\n",
    "# If timestamp is provided, resolution of the timestamp should be provided. Possible resolutions are:'min', 's', 'ms', 'us'\n",
    "# If timestamp is not provided, timestamp will be created using sampling_rate. Default resolution is 's'\n",
    "bio_channel=biobss.pipeline.Channel(signal=sample_data,name=\"EDA_Raw\",sampling_rate=700)\n",
    "\n",
    "# a Bio Channel object is created with sample data, with the name EDA_Raw and sampling rate 700\n",
    "# timestamp is not provided, so timestamp will be created using sampling_rate\n",
    "\n",
    "# Simply bio_channel the channel object will print the channel properties\n",
    "bio_channel"
   ]
  },
  {
   "cell_type": "code",
   "execution_count": 7,
   "metadata": {},
   "outputs": [
    {
     "data": {
      "text/plain": [
       "Signal object with 1 channel(s)\n",
       "EDA_Raw (700Hz) (1 windows) ((4144000,))"
      ]
     },
     "execution_count": 7,
     "metadata": {},
     "output_type": "execute_result"
    }
   ],
   "source": [
    "# Pipeline input can be set from an array, a dataframe, pandas series, list, Bio_Channel, Bio_Data\n",
    "\n",
    "# In this case, the pipeline input is set with an array\n",
    "pipeline.set_input(sample_data,sampling_rate=700,name='EDA_Raw')\n",
    "\n",
    "# Alternatively, the pipeline input can be set with a Bio_Channel object, in this case the name and sampling rate are not required as they are already provided in the Bio_Channel object\n",
    "pipeline.set_input(bio_channel)\n",
    "\n",
    "pipeline.input"
   ]
  },
  {
   "cell_type": "code",
   "execution_count": 8,
   "metadata": {},
   "outputs": [],
   "source": [
    "# Pipeline steps are added to the pipeline sequentially, the order of the steps is important as the output of one step is the input of the next step\n",
    "# These steps will be processed in the order they are added to the pipeline\n",
    "pipeline.process_queue.add_process(clean,input_signals=['EDA_Raw'],output_signals=['EDA_Clean'])\n",
    "pipeline.process_queue.add_process(normalize,input_signals=['EDA_Clean'],output_signals=['EDA_Normalized'])\n",
    "pipeline.process_queue.add_process(decompose,input_signals=['EDA_Normalized'],output_signals=['EDA_Tonic','EDA_Phasic'])\n",
    "\n",
    "\n",
    "# Currently all the steps are added to the preprocess_queue\n",
    "# After the preprocess_queue is processed, data will be segmented into windows (if windowed_process=True)\n",
    "# For running process in windows, the process_queue is used\n",
    "\n",
    "## This structure will change in the future"
   ]
  },
  {
   "cell_type": "code",
   "execution_count": 9,
   "metadata": {},
   "outputs": [],
   "source": [
    "# Features are added to the pipeline\n",
    "# pipeline.add_feature_step(signal_features,input_signals=['EDA_Tonic_Resampled'],prefix='Tonic')\n",
    "# pipeline.add_feature_step(signal_features,input_signals=['EDA_Phasic_Resampled'],prefix='Phasic')\n",
    "# pipeline.add_feature_step(stat_features,input_signals=['EDA_Tonic_Resampled'],prefix='Tonic')\n",
    "# pipeline.add_feature_step(stat_features,input_signals=['EDA_Phasic_Resampled'],prefix='Phasic')\n"
   ]
  },
  {
   "cell_type": "code",
   "execution_count": 10,
   "metadata": {},
   "outputs": [
    {
     "data": {
      "text/plain": [
       "Bio_Pipeline:\n",
       "\tProcessors: Process list:\n",
       "\t1: clean(EDA_Raw) -> EDA_Clean\n",
       "\t2: normalize(EDA_Clean) -> EDA_Normalized\n",
       "\t3: decompose(EDA_Normalized) -> EDA_Tonic,EDA_Phasic\n",
       "\n",
       "\tWindow Size(Seconds): 60\n",
       "\tStep Size: 20"
      ]
     },
     "execution_count": 10,
     "metadata": {},
     "output_type": "execute_result"
    }
   ],
   "source": [
    "# Represetation of the pipeline\n",
    "pipeline"
   ]
  },
  {
   "cell_type": "code",
   "execution_count": 11,
   "metadata": {},
   "outputs": [
    {
     "ename": "UnboundLocalError",
     "evalue": "local variable 'signal' referenced before assignment",
     "output_type": "error",
     "traceback": [
      "\u001b[1;31m---------------------------------------------------------------------------\u001b[0m",
      "\u001b[1;31mUnboundLocalError\u001b[0m                         Traceback (most recent call last)",
      "Cell \u001b[1;32mIn[11], line 2\u001b[0m\n\u001b[0;32m      1\u001b[0m \u001b[39m# Pipeline is run, this will process the input data in the pipeline\u001b[39;00m\n\u001b[1;32m----> 2\u001b[0m pipeline\u001b[39m.\u001b[39;49mrun_pipeline()\n",
      "File \u001b[1;32mc:\\Users\\cagatay\\Desktop\\biobss_pre_release\\BIOBSS\\biobss\\pipeline\\pipeline.py:113\u001b[0m, in \u001b[0;36mBio_Pipeline.run_pipeline\u001b[1;34m(self)\u001b[0m\n\u001b[0;32m    107\u001b[0m     \u001b[39mraise\u001b[39;00m \u001b[39mValueError\u001b[39;00m(\u001b[39m\"\u001b[39m\u001b[39mInput data must be set before running pipeline\u001b[39m\u001b[39m\"\u001b[39m)\n\u001b[0;32m    109\u001b[0m \u001b[39m# self.data = self.preprocess_queue.run_process_queue(self.data)\u001b[39;00m\n\u001b[0;32m    110\u001b[0m \u001b[39m# if self.windowed:\u001b[39;00m\n\u001b[0;32m    111\u001b[0m \u001b[39m#     self.convert_windows()\u001b[39;00m\n\u001b[1;32m--> 113\u001b[0m \u001b[39mself\u001b[39m\u001b[39m.\u001b[39mdata \u001b[39m=\u001b[39m \u001b[39mself\u001b[39;49m\u001b[39m.\u001b[39;49mprocess_queue\u001b[39m.\u001b[39;49mrun_process_queue(\u001b[39mself\u001b[39;49m\u001b[39m.\u001b[39;49mdata)\n",
      "File \u001b[1;32mc:\\Users\\cagatay\\Desktop\\biobss_pre_release\\BIOBSS\\biobss\\pipeline\\bioprocess_queue.py:37\u001b[0m, in \u001b[0;36mProcess_List.run_process_queue\u001b[1;34m(self, bio_data)\u001b[0m\n\u001b[0;32m     35\u001b[0m bio_data \u001b[39m=\u001b[39m bio_data\u001b[39m.\u001b[39mcopy()\n\u001b[0;32m     36\u001b[0m \u001b[39mfor\u001b[39;00m i \u001b[39min\u001b[39;00m \u001b[39mrange\u001b[39m(\u001b[39mlen\u001b[39m(\u001b[39mself\u001b[39m\u001b[39m.\u001b[39mprocess_list)):\n\u001b[1;32m---> 37\u001b[0m     bio_data \u001b[39m=\u001b[39m \u001b[39mself\u001b[39;49m\u001b[39m.\u001b[39;49mrun_next(bio_data)\n\u001b[0;32m     38\u001b[0m \u001b[39mreturn\u001b[39;00m bio_data\n",
      "File \u001b[1;32mc:\\Users\\cagatay\\Desktop\\biobss_pre_release\\BIOBSS\\biobss\\pipeline\\bioprocess_queue.py:55\u001b[0m, in \u001b[0;36mProcess_List.run_next\u001b[1;34m(self, bio_data)\u001b[0m\n\u001b[0;32m     52\u001b[0m \u001b[39melif\u001b[39;00m(\u001b[39misinstance\u001b[39m(inputs,\u001b[39mstr\u001b[39m)):\n\u001b[0;32m     53\u001b[0m     args\u001b[39m=\u001b[39m(bio_data[inputs],)\u001b[39m+\u001b[39margs\n\u001b[1;32m---> 55\u001b[0m result\u001b[39m=\u001b[39m\u001b[39mself\u001b[39;49m\u001b[39m.\u001b[39;49mprocess_list[\u001b[39mself\u001b[39;49m\u001b[39m.\u001b[39;49mprocessed_index]\u001b[39m.\u001b[39;49mprocess(\u001b[39m*\u001b[39;49margs,\u001b[39m*\u001b[39;49m\u001b[39m*\u001b[39;49mkwargs)    \n\u001b[0;32m     56\u001b[0m outputs \u001b[39m=\u001b[39m \u001b[39mself\u001b[39m\u001b[39m.\u001b[39moutput_signals[\u001b[39mself\u001b[39m\u001b[39m.\u001b[39mprocessed_index]\n\u001b[0;32m     57\u001b[0m result_cahnnels\u001b[39m=\u001b[39mresult\u001b[39m.\u001b[39mget_channel_names()\n",
      "File \u001b[1;32mc:\\Users\\cagatay\\Desktop\\biobss_pre_release\\BIOBSS\\biobss\\pipeline\\bio_process.py:48\u001b[0m, in \u001b[0;36mBio_Process.process\u001b[1;34m(self, *args, **kwargs)\u001b[0m\n\u001b[0;32m     47\u001b[0m \u001b[39mdef\u001b[39;00m \u001b[39mprocess\u001b[39m(\u001b[39mself\u001b[39m,\u001b[39m*\u001b[39margs, \u001b[39m*\u001b[39m\u001b[39m*\u001b[39mkwargs):\n\u001b[1;32m---> 48\u001b[0m     signal \u001b[39m=\u001b[39m signal\u001b[39m.\u001b[39mcopy()\n\u001b[0;32m     49\u001b[0m     kwargs\u001b[39m.\u001b[39mupdate(\u001b[39mself\u001b[39m\u001b[39m.\u001b[39mkwargs)\n\u001b[0;32m     50\u001b[0m     args\u001b[39m=\u001b[39margs\u001b[39m+\u001b[39m\u001b[39mself\u001b[39m\u001b[39m.\u001b[39margs\n",
      "\u001b[1;31mUnboundLocalError\u001b[0m: local variable 'signal' referenced before assignment"
     ]
    }
   ],
   "source": [
    "# Pipeline is run, this will process the input data in the pipeline\n",
    "pipeline.run_pipeline()"
   ]
  },
  {
   "cell_type": "code",
   "execution_count": 12,
   "metadata": {},
   "outputs": [
    {
     "data": {
      "text/plain": [
       "Signal object with 4 channel(s)\n",
       "EDA_Raw (700Hz) (1 windows) ((4144000,))\n",
       "EDA_Clean (700Hz) (1 windows) ((4144000,))\n",
       "EDA_Normalized (700Hz) (1 windows) ((4144000,))\n",
       "EDA_Tonic (700Hz) (1 windows) ((4144000,))"
      ]
     },
     "execution_count": 12,
     "metadata": {},
     "output_type": "execute_result"
    }
   ],
   "source": [
    "# Represetation of the pipeline data after running\n",
    "pipeline.data\n",
    "\n",
    "# Data is cleaned\n",
    "# Data is normalized\n",
    "# Data is decomposed into tonic and phasic components, these componenets are added to the pipeline data as EDA_Tonic and EDA_Phasic channels\n",
    "# Lastly, data is resampled to 350Hz (All channels are resampled to 350Hz) (target_sample_rate=350)\n",
    "# Data is segmented into windows of 60 seconds with a step size of 20 seconds"
   ]
  },
  {
   "cell_type": "code",
   "execution_count": 13,
   "metadata": {},
   "outputs": [],
   "source": [
    "# Statistical and signal features are extracted from the EDA_Tonic, EDA_Phasic and EDA_Raw channels\n",
    "# Supplied prefix is added to the feature name\n",
    "pipeline.extract_features()"
   ]
  },
  {
   "cell_type": "code",
   "execution_count": 14,
   "metadata": {},
   "outputs": [
    {
     "data": {
      "text/html": [
       "<div>\n",
       "<style scoped>\n",
       "    .dataframe tbody tr th:only-of-type {\n",
       "        vertical-align: middle;\n",
       "    }\n",
       "\n",
       "    .dataframe tbody tr th {\n",
       "        vertical-align: top;\n",
       "    }\n",
       "\n",
       "    .dataframe thead th {\n",
       "        text-align: right;\n",
       "    }\n",
       "</style>\n",
       "<table border=\"1\" class=\"dataframe\">\n",
       "  <thead>\n",
       "    <tr style=\"text-align: right;\">\n",
       "      <th></th>\n",
       "    </tr>\n",
       "  </thead>\n",
       "  <tbody>\n",
       "  </tbody>\n",
       "</table>\n",
       "</div>"
      ],
      "text/plain": [
       "Empty DataFrame\n",
       "Columns: []\n",
       "Index: []"
      ]
     },
     "execution_count": 14,
     "metadata": {},
     "output_type": "execute_result"
    }
   ],
   "source": [
    "# Represetation of the pipeline features after extraction\n",
    "# Each row is a feature vector for a window\n",
    "# index is the timestamp of the window (this can be selected as start, end or center of the window)\n",
    "pipeline.features"
   ]
  },
  {
   "cell_type": "code",
   "execution_count": 20,
   "metadata": {},
   "outputs": [
    {
     "data": {
      "text/plain": [
       "[<matplotlib.lines.Line2D at 0x1e7a8ede6a0>]"
      ]
     },
     "execution_count": 20,
     "metadata": {},
     "output_type": "execute_result"
    },
    {
     "data": {
      "image/png": "[encoded data removed]",
      "text/plain": [
       "<Figure size 640x480 with 1 Axes>"
      ]
     },
     "metadata": {},
     "output_type": "display_data"
    }
   ],
   "source": [
    "plt.plot(pipeline.data['EDA_Normalized'].channel)"
   ]
  }
 ],
 "metadata": {
  "kernelspec": {
   "display_name": "biobss_dev",
   "language": "python",
   "name": "python3"
  },
  "language_info": {
   "codemirror_mode": {
    "name": "ipython",
    "version": 3
   },
   "file_extension": ".py",
   "mimetype": "text/x-python",
   "name": "python",
   "nbconvert_exporter": "python",
   "pygments_lexer": "ipython3",
   "version": "3.8.0"
  },
  "orig_nbformat": 4,
  "vscode": {
   "interpreter": {
    "hash": "e2da08f22468fb3696c83331e9a8c56525a02dc4129e32fd96f2f3d0a3b229d8"
   }
  }
 },
 "nbformat": 4,
 "nbformat_minor": 2
}
