{
 "cells": [
  {
   "attachments": {},
   "cell_type": "markdown",
   "metadata": {},
   "source": [
    "__BIOBSS - GSR Pipeline using different Python packages__\n",
    "\n",
    "_This notebook includes guidelines to help using pipeline module for GSR signal processing and feature extraction._"
   ]
  },
  {
   "cell_type": "code",
   "execution_count": 1,
   "metadata": {},
   "outputs": [],
   "source": [
    "# imports\n",
    "import sys\n",
    "import pandas as pd\n",
    "import numpy as np\n",
    "import matplotlib.pyplot as plt\n",
    "import os\n",
    "import neurokit2 as nk\n",
    "#import biobss from local to run without installing\n",
    "sys.path.append(\"../\")\n",
    "import biobss\n",
    "import neurokit2\n",
    "import flirt\n"
   ]
  },
  {
   "attachments": {},
   "cell_type": "markdown",
   "metadata": {},
   "source": [
    "# Table of Contents\n",
    "1. [GSR Sample Data](#sampledata)<br>\n",
    "2. [Create Bio Process Objects](#create_bioprocess)<br>\n",
    "4. [Create Feature Objects](#create_feature)<br>\n",
    "5. [Create Bio Pipeline Object](#create_pipeline)<br>\n",
    "6. [Create Bio Channel Objects](#create_biochannel)<br>\n",
    "7. [Set Pipeline Inputs](#set_input)<br>\n",
    "8. [Add Bio Process Objects to Pipeline](#add_bioprocess)<br>\n",
    "9. [Add Feature Objects to Pipeline](#add_feature)\n",
    "10. [Run Pipeline](#run_pipeline)<br>\n",
    "11. [Extract Features](#extract_features)<br>"
   ]
  },
  {
   "attachments": {},
   "cell_type": "markdown",
   "metadata": {},
   "source": [
    "### __GSR Sample Data__\n",
    "<a id=\"sampledata\"></a>"
   ]
  },
  {
   "cell_type": "code",
   "execution_count": 2,
   "metadata": {},
   "outputs": [],
   "source": [
    "#Load the sample data\n",
    "data, info = biobss.utils.load_sample_data(data_type='EDA')\n",
    "sample_data = np.asarray(data['EDA'])\n",
    "sampling_rate = info['sampling_rate']\n",
    "L = info['signal_length']\n",
    "\n",
    "# Create a timestamp for plotting, this is not necessary for the pipeline\n",
    "timestamp = np.arange(0, len(sample_data)/sampling_rate, 1/sampling_rate)\n",
    "\n",
    "signals={'Raw':sample_data}"
   ]
  },
  {
   "attachments": {},
   "cell_type": "markdown",
   "metadata": {},
   "source": [
    "### <font color='Green'>__Create Bio Process Objects__ </font>\n",
    "<a id=\"create_bioprocess\"></a>"
   ]
  },
  {
   "attachments": {},
   "cell_type": "markdown",
   "metadata": {},
   "source": [
    "Any process can be added to the pipeline if the input is a signal and ouput is a signal or collection of signals. The process can be added by passing the method to a Bio_Process constructor. The Bio_Process constructor takes the following arguments:\n",
    "\n",
    "- process_method: The method to be added to the pipeline\n",
    "- inplace: If True, result of the process will modify the input signal. If False, the result of the process will be returned as a new signal and added as a new channel.\n",
    "- prefix: The prefix to be added to the output channel name. If inplace is True, prefix will be ignored.\n",
    "  - If inplace is False, the output channel name will be prefix + input channel name.\n",
    "  - <code> (Default: None) (if inplace = False  and prefix = None, prefix will be set to 'processed') </code>\n",
    "- return_index : If a return_index is set, selected index of the result will be set as result. If return_index is None, the whole result will be set as result. (Default: None)\n",
    "- argmap: this dictionary maps different named arguments. For example, Bio_Channel already have a sampling_rate attribute. If the process method requires sampling rate with a different name, it can be mapped to the Bio_Channel attribute.<code> EXAMPLE : argmap = {'sampling_rate': 'fs'} or argmap = {'sampling_rate': 'sample_rate'} </code>\n",
    "- **kwargs: Keyword arguments to be passed to the process method\n",
    "\n",
    "\n",
    "\n",
    "\n",
    "\n",
    "\n",
    "Pipeline processes the given input sequentially. The input is passed from one process to the next."
   ]
  },
  {
   "attachments": {},
   "cell_type": "markdown",
   "metadata": {},
   "source": [
    "BIOBSS provides functionality to generate a pipeline using desired functions from different packages. In this example, bio process objects are created from Neurokit2 and BIOBSS packages as defined below."
   ]
  },
  {
   "cell_type": "code",
   "execution_count": 4,
   "metadata": {},
   "outputs": [],
   "source": [
    "# Create steps for the pipeline\n",
    "# EDA decopmosition step, Returns a dictionary with the following keys: EDA_Tonic, EDA_Phasic\n",
    "decompose = biobss.pipeline.Bio_Process(process_name ='decompose' ,process_method=biobss.edatools.eda_decompose,method=\"highpass\")\n"
   ]
  },
  {
   "cell_type": "code",
   "execution_count": 5,
   "metadata": {},
   "outputs": [],
   "source": [
    "# Create steps for the pipeline\n",
    "\n",
    "# Filter steps process,return filtered signal for all input signals\n",
    "clean=biobss.pipeline.Bio_Process(process_name= 'clean',\n",
    "    process_method=neurokit2.eda_clean, sampling_rate = sampling_rate)"
   ]
  },
  {
   "cell_type": "code",
   "execution_count": 7,
   "metadata": {},
   "outputs": [],
   "source": [
    "# Signal normalization step, return normalized signal for all input signals\n",
    "normalize = biobss.pipeline.Bio_Process(process_name= 'normalize',\n",
    "    process_method=biobss.preprocess.normalize_signal)"
   ]
  },
  {
   "cell_type": "code",
   "execution_count": 8,
   "metadata": {},
   "outputs": [],
   "source": [
    "# Signal resampling step, return resampled signal for all input signals, signals resampled to 350Hz\n",
    "resample = biobss.pipeline.Bio_Process(process_name= 'resample',\n",
    "    process_method=biobss.preprocess.resample_signal_object,target_sample_rate=350)"
   ]
  },
  {
   "attachments": {},
   "cell_type": "markdown",
   "metadata": {},
   "source": [
    "### <font color='Green'>__Create Feature Objects__ </font>\n",
    "<a id=\"create_feature\"></a>"
   ]
  },
  {
   "attachments": {},
   "cell_type": "markdown",
   "metadata": {},
   "source": [
    "Similarly, a feature object is created from Flirt package by adding ___get_stats___ function. Note that, the required parameters should be provided during feature object creation. "
   ]
  },
  {
   "cell_type": "code",
   "execution_count": 9,
   "metadata": {},
   "outputs": [],
   "source": [
    "# Create feature extraction steps\n",
    "\n",
    "# Extract signal features. input_signals dictionary contains feature prefixes as keys and input signals as values\n",
    "# For example rms of EDA_Tonic is extracted as Tonic_rms in this case\n",
    "signal_features = biobss.pipeline.Feature(name=\"signal_features\", function=flirt.stats.common.get_stats,add_prefix_after=True,input_type=pd.Series)"
   ]
  },
  {
   "cell_type": "code",
   "execution_count": 10,
   "metadata": {},
   "outputs": [
    {
     "data": {
      "text/plain": [
       "{'mean': 6.491609817674261,\n",
       " 'std': 0.8103523210948972,\n",
       " 'min': 5.057525634765625,\n",
       " 'max': 8.211135864257812,\n",
       " 'ptp': 3.1536102294921875,\n",
       " 'sum': 26901231.08444214,\n",
       " 'energy': 177353539.959844,\n",
       " 'skewness': 0.004636156463354328,\n",
       " 'kurtosis': -1.4695282218969485,\n",
       " 'peaks': 1,\n",
       " 'rms': 6.541992732281867,\n",
       " 'lineintegral': 18854.150390625,\n",
       " 'n_above_mean': 1949163,\n",
       " 'n_below_mean': 2194837,\n",
       " 'n_sign_changes': 0,\n",
       " 'iqr': 1.4865875244140625,\n",
       " 'iqr_5_95': 2.2777557373046875,\n",
       " 'pct_5': 5.323028564453125,\n",
       " 'pct_95': 7.6007843017578125,\n",
       " 'entropy': 15.22935103074018,\n",
       " 'perm_entropy': 0.9998711817324639,\n",
       " 'svd_entropy': 0.006630583507182337}"
      ]
     },
     "execution_count": 10,
     "metadata": {},
     "output_type": "execute_result"
    }
   ],
   "source": [
    "flirt.stats.common.get_stats(sample_data)"
   ]
  },
  {
   "attachments": {},
   "cell_type": "markdown",
   "metadata": {},
   "source": [
    "Another feature object is created from BIOBSS package by adding ___eda_stat_features___ function.  "
   ]
  },
  {
   "cell_type": "code",
   "execution_count": 11,
   "metadata": {},
   "outputs": [],
   "source": [
    "# Extract statistical features.\n",
    "# For example mean of EDA_Tonic is extracted as Tonic_mean in this case\n",
    "stat_features = biobss.pipeline.Feature(name=\"stat_features\", function=biobss.edatools.eda_stat_features)"
   ]
  },
  {
   "attachments": {},
   "cell_type": "markdown",
   "metadata": {},
   "source": [
    "### __Create Bio Pipeline Object__\n",
    "<a id=\"create_pipeline\"></a>"
   ]
  },
  {
   "cell_type": "code",
   "execution_count": 12,
   "metadata": {},
   "outputs": [],
   "source": [
    "# BIOBSS Pipeline is created\n",
    "# windowed_process=True means that the pipeline will process the signal in windows\n",
    "# window_size=60 means that the pipeline will process 60 seconds of data at a time\n",
    "# step_size=20 means signal will be shifted by 20 seconds for each window\n",
    "pipeline = biobss.pipeline.Bio_Pipeline(windowed_process=True,window_size=60,step_size=60)"
   ]
  },
  {
   "attachments": {},
   "cell_type": "markdown",
   "metadata": {},
   "source": [
    "### __Create Bio Channel Objects__\n",
    "<a id=\"create_biochannel\"></a>"
   ]
  },
  {
   "cell_type": "code",
   "execution_count": 13,
   "metadata": {},
   "outputs": [
    {
     "data": {
      "text/plain": [
       "EDA_Raw (700Hz) ((5920.0,)s) (1 windows) ((4144000,)) ((4144000,)) (float64)[5.40046692 5.40885925 5.40161133 ... 7.26280212 7.26966858 7.2681427 ]"
      ]
     },
     "execution_count": 13,
     "metadata": {},
     "output_type": "execute_result"
    }
   ],
   "source": [
    "# Input is created as Bio_Channel object\n",
    "# Bio_Channel object requires following parameters: name, signal, sampling_rate\n",
    "# Optionally timestamp can be provided\n",
    "# If timestamp is provided, resolution of the timestamp should be provided. Possible resolutions are:'min', 's', 'ms', 'us'\n",
    "# If timestamp is not provided, timestamp will be created using sampling_rate. Default resolution is 's'\n",
    "bio_channel=biobss.pipeline.Bio_Channel(signal=sample_data,name=\"EDA_Raw\",sampling_rate=700)\n",
    "\n",
    "# a Bio Channel object is created with sample data, with the name EDA_Raw and sampling rate 700\n",
    "# timestamp is not provided, so timestamp will be created using sampling_rate\n",
    "\n",
    "# Simply bio_channel the channel object will print the channel properties\n",
    "bio_channel"
   ]
  },
  {
   "cell_type": "code",
   "execution_count": 14,
   "metadata": {},
   "outputs": [
    {
     "data": {
      "text/plain": [
       "array([5.40046692, 5.40885925, 5.40161133, ..., 7.26280212, 7.26966858,\n",
       "       7.2681427 ])"
      ]
     },
     "execution_count": 14,
     "metadata": {},
     "output_type": "execute_result"
    }
   ],
   "source": [
    "# bio_channel.channel accesses the data in the channel object\n",
    "bio_channel.channel"
   ]
  },
  {
   "attachments": {},
   "cell_type": "markdown",
   "metadata": {},
   "source": [
    "### __Set Pipeline Inputs__\n",
    "<a id=\"set_input\"></a>"
   ]
  },
  {
   "cell_type": "code",
   "execution_count": 15,
   "metadata": {},
   "outputs": [
    {
     "data": {
      "text/plain": [
       "Signal object with 1 channel(s)\n",
       "EDA_Raw (700Hz) ((5920.0,)s) (1 windows) ((4144000,))"
      ]
     },
     "execution_count": 15,
     "metadata": {},
     "output_type": "execute_result"
    }
   ],
   "source": [
    "# Pipeline input can be set from an array, a dataframe, pandas series, list, Bio_Channel, Bio_Data\n",
    "\n",
    "# In this case, the pipeline input is set with an array\n",
    "pipeline.set_input(sample_data,sampling_rate=700,name='EDA_Raw')\n",
    "\n",
    "# Alternatively, the pipeline input can be set with a Bio_Channel object, in this case the name and sampling rate are not required as they are already provided in the Bio_Channel object\n",
    "pipeline.set_input(bio_channel)\n",
    "\n",
    "pipeline.input"
   ]
  },
  {
   "attachments": {},
   "cell_type": "markdown",
   "metadata": {},
   "source": [
    "#### __Add Bio Process Objects to Pipeline__\n",
    "<a id=\"add_bioprocess\"></a>"
   ]
  },
  {
   "cell_type": "code",
   "execution_count": 16,
   "metadata": {},
   "outputs": [],
   "source": [
    "# Pipeline steps are added to the pipeline sequentially, the order of the steps is important as the output of one step is the input of the next step\n",
    "# These steps will be processed in the order they are added to the pipeline\n",
    "pipeline.preprocess_queue.add_process(clean,input_signals=['EDA_Raw'],output_signals=['EDA_Clean'])\n",
    "pipeline.preprocess_queue.add_process(normalize,input_signals=['EDA_Clean'],output_signals=['EDA_Normalized'])\n",
    "pipeline.preprocess_queue.add_process(decompose,input_signals=['EDA_Normalized'],output_signals=['EDA_Tonic','EDA_Phasic'])\n",
    "pipeline.preprocess_queue.add_process(resample,input_signals=['EDA_Normalized'],output_signals=['EDA_Normalized'])\n",
    "pipeline.preprocess_queue.add_process(resample,input_signals=['EDA_Tonic'],output_signals=['EDA_Tonic'])\n",
    "pipeline.preprocess_queue.add_process(resample,input_signals=['EDA_Phasic'],output_signals=['EDA_Phasic'])\n",
    "\n",
    "# Currently all the steps are added to the preprocess_queue\n",
    "# After the preprocess_queue is processed, data will be segmented into windows (if windowed_process=True)\n",
    "# For running process in windows, the process_queue is used\n",
    "\n",
    "## This structure will change in the future"
   ]
  },
  {
   "cell_type": "markdown",
   "metadata": {},
   "source": [
    "#### __Add Feature Objects to Pipeline__\n",
    "<a id=\"add_feature\"></a>"
   ]
  },
  {
   "cell_type": "code",
   "execution_count": 17,
   "metadata": {},
   "outputs": [],
   "source": [
    "pipeline.add_feature_step(signal_features,feature_prefix = 'Normalized_f',input_signals=['EDA_Normalized'])\n",
    "pipeline.add_feature_step(stat_features,feature_prefix = 'Normalized',input_signals=['EDA_Normalized'])\n",
    "pipeline.add_feature_step(signal_features,feature_prefix = 'Tonic_f',input_signals=['EDA_Tonic'])\n",
    "pipeline.add_feature_step(stat_features,feature_prefix = 'Tonic',input_signals=['EDA_Tonic'])\n",
    "pipeline.add_feature_step(signal_features,feature_prefix = 'Phasic_f',input_signals=['EDA_Phasic'])\n",
    "pipeline.add_feature_step(stat_features,feature_prefix = 'Phasic',input_signals=['EDA_Phasic'])\n"
   ]
  },
  {
   "cell_type": "code",
   "execution_count": 18,
   "metadata": {},
   "outputs": [
    {
     "data": {
      "text/plain": [
       "Bio_Pipeline:\n",
       "\tPreprocessors: Process list:\n",
       "\t1: clean(EDA_Raw) -> EDA_Clean\n",
       "\t2: normalize(EDA_Clean) -> EDA_Normalized\n",
       "\t3: decompose(EDA_Normalized) -> EDA_Tonic,EDA_Phasic\n",
       "\t4: resample(EDA_Normalized) -> EDA_Normalized\n",
       "\t5: resample(EDA_Tonic) -> EDA_Tonic\n",
       "\t6: resample(EDA_Phasic) -> EDA_Phasic\n",
       "\n",
       "\tProcessors: Process list:\n",
       "\n",
       "\tPostprocessors: Process list:\n",
       "\n",
       "\tWindow Size(Seconds): 60\n",
       "\tStep Size: 60"
      ]
     },
     "execution_count": 18,
     "metadata": {},
     "output_type": "execute_result"
    }
   ],
   "source": [
    "# Represetation of the pipeline\n",
    "pipeline"
   ]
  },
  {
   "cell_type": "markdown",
   "metadata": {},
   "source": [
    "#### __Run Pipeline__\n",
    "<a id=\"run_pipeline\"></a>"
   ]
  },
  {
   "cell_type": "code",
   "execution_count": 19,
   "metadata": {},
   "outputs": [
    {
     "name": "stderr",
     "output_type": "stream",
     "text": [
      "c:\\Users\\cagatay.tasci\\Desktop\\Biobss\\conflict\\BIOBSS\\examples\\..\\biobss\\pipeline\\bioprocess_queue.py:74: UserWarning: If output of the process is Bio_Data, output signals argument must be a dictionary or it will bi ignored\n",
      "  warn(\"If output of the process is Bio_Data, output signals argument must be a dictionary or it will bi ignored\")\n"
     ]
    }
   ],
   "source": [
    "# Pipeline is run, this will process the input data in the pipeline\n",
    "pipeline.run_pipeline()"
   ]
  },
  {
   "cell_type": "code",
   "execution_count": 20,
   "metadata": {},
   "outputs": [
    {
     "data": {
      "text/plain": [
       "Signal object with 5 channel(s)\n",
       "EDA_Raw (700Hz) (60.0s) (98 windows) ((98, 42000))\n",
       "EDA_Clean (700Hz) (60.0s) (98 windows) ((98, 42000))\n",
       "EDA_Normalized (350Hz) (60.0s) (98 windows) ((98, 21000))\n",
       "EDA_Tonic (350Hz) (60.0s) (98 windows) ((98, 21000))\n",
       "EDA_Phasic (350Hz) (60.0s) (98 windows) ((98, 21000))"
      ]
     },
     "execution_count": 20,
     "metadata": {},
     "output_type": "execute_result"
    }
   ],
   "source": [
    "# Represetation of the pipeline data after running\n",
    "pipeline.data\n",
    "\n",
    "# Data is cleaned\n",
    "# Data is normalized\n",
    "# Data is decomposed into tonic and phasic components, these componenets are added to the pipeline data as EDA_Tonic and EDA_Phasic channels\n",
    "# Lastly, data is resampled to 350Hz (All channels are resampled to 350Hz) (target_sample_rate=350)\n",
    "# Data is segmented into windows of 60 seconds with a step size of 20 seconds"
   ]
  },
  {
   "cell_type": "markdown",
   "metadata": {},
   "source": [
    "#### __Extract Features__\n",
    "<a id=\"extract_features\"></a>"
   ]
  },
  {
   "cell_type": "code",
   "execution_count": 21,
   "metadata": {},
   "outputs": [],
   "source": [
    "# Statistical and signal features are extracted from the EDA_Tonic, EDA_Phasic and EDA_Raw channels\n",
    "# Supplied prefix is added to the feature name\n",
    "pipeline.extract_features()"
   ]
  },
  {
   "cell_type": "code",
   "execution_count": 22,
   "metadata": {},
   "outputs": [
    {
     "data": {
      "text/html": [
       "<div>\n",
       "<style scoped>\n",
       "    .dataframe tbody tr th:only-of-type {\n",
       "        vertical-align: middle;\n",
       "    }\n",
       "\n",
       "    .dataframe tbody tr th {\n",
       "        vertical-align: top;\n",
       "    }\n",
       "\n",
       "    .dataframe thead th {\n",
       "        text-align: right;\n",
       "    }\n",
       "</style>\n",
       "<table border=\"1\" class=\"dataframe\">\n",
       "  <thead>\n",
       "    <tr style=\"text-align: right;\">\n",
       "      <th></th>\n",
       "      <th>Normalized_mean</th>\n",
       "      <th>Normalized_std</th>\n",
       "      <th>Normalized_min</th>\n",
       "      <th>Normalized_max</th>\n",
       "      <th>Normalized_ptp</th>\n",
       "      <th>Normalized_sum</th>\n",
       "      <th>Normalized_energy</th>\n",
       "      <th>Normalized_skewness</th>\n",
       "      <th>Normalized_kurtosis</th>\n",
       "      <th>Normalized_peaks</th>\n",
       "      <th>...</th>\n",
       "      <th>Phasic_perm_entropy</th>\n",
       "      <th>Phasic_svd_entropy</th>\n",
       "      <th>Phasic_signal_mean</th>\n",
       "      <th>Phasic_signal_std</th>\n",
       "      <th>Phasic_signal_max</th>\n",
       "      <th>Phasic_signal_min</th>\n",
       "      <th>Phasic_signal_range</th>\n",
       "      <th>Phasic_signal_kurtosis</th>\n",
       "      <th>Phasic_signal_skew</th>\n",
       "      <th>Phasic_signal_momentum</th>\n",
       "    </tr>\n",
       "  </thead>\n",
       "  <tbody>\n",
       "    <tr>\n",
       "      <th>0.0</th>\n",
       "      <td>-1.306393</td>\n",
       "      <td>0.062686</td>\n",
       "      <td>-1.503240</td>\n",
       "      <td>-0.770217</td>\n",
       "      <td>0.733024</td>\n",
       "      <td>-27434.243861</td>\n",
       "      <td>35922.413714</td>\n",
       "      <td>2.298977</td>\n",
       "      <td>4.608311</td>\n",
       "      <td>0</td>\n",
       "      <td>...</td>\n",
       "      <td>0.991289</td>\n",
       "      <td>0.043767</td>\n",
       "      <td>0.001101</td>\n",
       "      <td>0.026432</td>\n",
       "      <td>0.107763</td>\n",
       "      <td>-0.089481</td>\n",
       "      <td>0.197244</td>\n",
       "      <td>5.162175</td>\n",
       "      <td>0.612499</td>\n",
       "      <td>0.000699</td>\n",
       "    </tr>\n",
       "    <tr>\n",
       "      <th>60000.0</th>\n",
       "      <td>-1.127855</td>\n",
       "      <td>0.064259</td>\n",
       "      <td>-1.292727</td>\n",
       "      <td>-0.968544</td>\n",
       "      <td>0.324184</td>\n",
       "      <td>-23684.947286</td>\n",
       "      <td>26799.891590</td>\n",
       "      <td>-0.636777</td>\n",
       "      <td>0.436994</td>\n",
       "      <td>0</td>\n",
       "      <td>...</td>\n",
       "      <td>0.974122</td>\n",
       "      <td>0.060710</td>\n",
       "      <td>-0.001521</td>\n",
       "      <td>0.022604</td>\n",
       "      <td>0.099171</td>\n",
       "      <td>-0.040446</td>\n",
       "      <td>0.139617</td>\n",
       "      <td>3.444132</td>\n",
       "      <td>1.518407</td>\n",
       "      <td>0.000511</td>\n",
       "    </tr>\n",
       "    <tr>\n",
       "      <th>120000.0</th>\n",
       "      <td>-1.403079</td>\n",
       "      <td>0.048873</td>\n",
       "      <td>-1.458883</td>\n",
       "      <td>-1.288423</td>\n",
       "      <td>0.170460</td>\n",
       "      <td>-29464.654566</td>\n",
       "      <td>41391.391665</td>\n",
       "      <td>0.829802</td>\n",
       "      <td>-0.541948</td>\n",
       "      <td>0</td>\n",
       "      <td>...</td>\n",
       "      <td>0.995749</td>\n",
       "      <td>0.110980</td>\n",
       "      <td>0.000281</td>\n",
       "      <td>0.004254</td>\n",
       "      <td>0.015477</td>\n",
       "      <td>-0.011377</td>\n",
       "      <td>0.026854</td>\n",
       "      <td>0.403755</td>\n",
       "      <td>-0.036546</td>\n",
       "      <td>0.000018</td>\n",
       "    </tr>\n",
       "    <tr>\n",
       "      <th>180000.0</th>\n",
       "      <td>-1.448536</td>\n",
       "      <td>0.010259</td>\n",
       "      <td>-1.470541</td>\n",
       "      <td>-1.421197</td>\n",
       "      <td>0.049344</td>\n",
       "      <td>-30419.245682</td>\n",
       "      <td>44065.567772</td>\n",
       "      <td>0.266085</td>\n",
       "      <td>-0.256773</td>\n",
       "      <td>0</td>\n",
       "      <td>...</td>\n",
       "      <td>0.990984</td>\n",
       "      <td>0.099563</td>\n",
       "      <td>0.000212</td>\n",
       "      <td>0.004630</td>\n",
       "      <td>0.016339</td>\n",
       "      <td>-0.011875</td>\n",
       "      <td>0.028214</td>\n",
       "      <td>0.381608</td>\n",
       "      <td>0.544795</td>\n",
       "      <td>0.000021</td>\n",
       "    </tr>\n",
       "    <tr>\n",
       "      <th>240000.0</th>\n",
       "      <td>-1.462740</td>\n",
       "      <td>0.010572</td>\n",
       "      <td>-1.482210</td>\n",
       "      <td>-1.435018</td>\n",
       "      <td>0.047192</td>\n",
       "      <td>-30717.537805</td>\n",
       "      <td>44934.115233</td>\n",
       "      <td>0.580621</td>\n",
       "      <td>-0.220862</td>\n",
       "      <td>0</td>\n",
       "      <td>...</td>\n",
       "      <td>0.984896</td>\n",
       "      <td>0.126958</td>\n",
       "      <td>-0.000241</td>\n",
       "      <td>0.003221</td>\n",
       "      <td>0.009511</td>\n",
       "      <td>-0.008324</td>\n",
       "      <td>0.017835</td>\n",
       "      <td>-0.160100</td>\n",
       "      <td>0.095751</td>\n",
       "      <td>0.000010</td>\n",
       "    </tr>\n",
       "    <tr>\n",
       "      <th>...</th>\n",
       "      <td>...</td>\n",
       "      <td>...</td>\n",
       "      <td>...</td>\n",
       "      <td>...</td>\n",
       "      <td>...</td>\n",
       "      <td>...</td>\n",
       "      <td>...</td>\n",
       "      <td>...</td>\n",
       "      <td>...</td>\n",
       "      <td>...</td>\n",
       "      <td>...</td>\n",
       "      <td>...</td>\n",
       "      <td>...</td>\n",
       "      <td>...</td>\n",
       "      <td>...</td>\n",
       "      <td>...</td>\n",
       "      <td>...</td>\n",
       "      <td>...</td>\n",
       "      <td>...</td>\n",
       "      <td>...</td>\n",
       "      <td>...</td>\n",
       "    </tr>\n",
       "    <tr>\n",
       "      <th>5580000.0</th>\n",
       "      <td>0.653533</td>\n",
       "      <td>0.011884</td>\n",
       "      <td>0.628771</td>\n",
       "      <td>0.689395</td>\n",
       "      <td>0.060624</td>\n",
       "      <td>13724.189489</td>\n",
       "      <td>8972.174383</td>\n",
       "      <td>0.473253</td>\n",
       "      <td>0.081926</td>\n",
       "      <td>0</td>\n",
       "      <td>...</td>\n",
       "      <td>0.985763</td>\n",
       "      <td>0.092923</td>\n",
       "      <td>-0.000084</td>\n",
       "      <td>0.007905</td>\n",
       "      <td>0.026500</td>\n",
       "      <td>-0.021184</td>\n",
       "      <td>0.047684</td>\n",
       "      <td>0.492056</td>\n",
       "      <td>0.145790</td>\n",
       "      <td>0.000062</td>\n",
       "    </tr>\n",
       "    <tr>\n",
       "      <th>5640000.0</th>\n",
       "      <td>0.759860</td>\n",
       "      <td>0.128804</td>\n",
       "      <td>0.625495</td>\n",
       "      <td>1.010939</td>\n",
       "      <td>0.385444</td>\n",
       "      <td>15957.054468</td>\n",
       "      <td>12473.521712</td>\n",
       "      <td>0.659615</td>\n",
       "      <td>-1.226944</td>\n",
       "      <td>0</td>\n",
       "      <td>...</td>\n",
       "      <td>0.980562</td>\n",
       "      <td>0.048939</td>\n",
       "      <td>-0.000182</td>\n",
       "      <td>0.036746</td>\n",
       "      <td>0.117735</td>\n",
       "      <td>-0.137439</td>\n",
       "      <td>0.255175</td>\n",
       "      <td>2.675637</td>\n",
       "      <td>-0.191880</td>\n",
       "      <td>0.001350</td>\n",
       "    </tr>\n",
       "    <tr>\n",
       "      <th>5700000.0</th>\n",
       "      <td>0.890010</td>\n",
       "      <td>0.018847</td>\n",
       "      <td>0.858397</td>\n",
       "      <td>0.940686</td>\n",
       "      <td>0.082289</td>\n",
       "      <td>18690.201830</td>\n",
       "      <td>16641.918990</td>\n",
       "      <td>0.611062</td>\n",
       "      <td>-0.389302</td>\n",
       "      <td>0</td>\n",
       "      <td>...</td>\n",
       "      <td>0.981126</td>\n",
       "      <td>0.103008</td>\n",
       "      <td>-0.000183</td>\n",
       "      <td>0.006742</td>\n",
       "      <td>0.019091</td>\n",
       "      <td>-0.016013</td>\n",
       "      <td>0.035104</td>\n",
       "      <td>-0.443534</td>\n",
       "      <td>0.370807</td>\n",
       "      <td>0.000045</td>\n",
       "    </tr>\n",
       "    <tr>\n",
       "      <th>5760000.0</th>\n",
       "      <td>0.896646</td>\n",
       "      <td>0.010765</td>\n",
       "      <td>0.872314</td>\n",
       "      <td>0.920338</td>\n",
       "      <td>0.048024</td>\n",
       "      <td>18829.574093</td>\n",
       "      <td>16885.903004</td>\n",
       "      <td>-0.038059</td>\n",
       "      <td>-0.681742</td>\n",
       "      <td>0</td>\n",
       "      <td>...</td>\n",
       "      <td>0.979104</td>\n",
       "      <td>0.117435</td>\n",
       "      <td>0.000213</td>\n",
       "      <td>0.005863</td>\n",
       "      <td>0.016819</td>\n",
       "      <td>-0.013719</td>\n",
       "      <td>0.030538</td>\n",
       "      <td>-0.679443</td>\n",
       "      <td>0.090121</td>\n",
       "      <td>0.000034</td>\n",
       "    </tr>\n",
       "    <tr>\n",
       "      <th>5820000.0</th>\n",
       "      <td>0.914382</td>\n",
       "      <td>0.065548</td>\n",
       "      <td>0.866029</td>\n",
       "      <td>1.130323</td>\n",
       "      <td>0.264294</td>\n",
       "      <td>19202.031070</td>\n",
       "      <td>17648.227362</td>\n",
       "      <td>1.894837</td>\n",
       "      <td>2.315324</td>\n",
       "      <td>0</td>\n",
       "      <td>...</td>\n",
       "      <td>0.987959</td>\n",
       "      <td>0.076279</td>\n",
       "      <td>0.000855</td>\n",
       "      <td>0.013831</td>\n",
       "      <td>0.059136</td>\n",
       "      <td>-0.043795</td>\n",
       "      <td>0.102932</td>\n",
       "      <td>2.533057</td>\n",
       "      <td>0.148651</td>\n",
       "      <td>0.000191</td>\n",
       "    </tr>\n",
       "  </tbody>\n",
       "</table>\n",
       "<p>98 rows × 90 columns</p>\n",
       "</div>"
      ],
      "text/plain": [
       "           Normalized_mean  Normalized_std  Normalized_min  Normalized_max  \\\n",
       "0.0              -1.306393        0.062686       -1.503240       -0.770217   \n",
       "60000.0          -1.127855        0.064259       -1.292727       -0.968544   \n",
       "120000.0         -1.403079        0.048873       -1.458883       -1.288423   \n",
       "180000.0         -1.448536        0.010259       -1.470541       -1.421197   \n",
       "240000.0         -1.462740        0.010572       -1.482210       -1.435018   \n",
       "...                    ...             ...             ...             ...   \n",
       "5580000.0         0.653533        0.011884        0.628771        0.689395   \n",
       "5640000.0         0.759860        0.128804        0.625495        1.010939   \n",
       "5700000.0         0.890010        0.018847        0.858397        0.940686   \n",
       "5760000.0         0.896646        0.010765        0.872314        0.920338   \n",
       "5820000.0         0.914382        0.065548        0.866029        1.130323   \n",
       "\n",
       "           Normalized_ptp  Normalized_sum  Normalized_energy  \\\n",
       "0.0              0.733024   -27434.243861       35922.413714   \n",
       "60000.0          0.324184   -23684.947286       26799.891590   \n",
       "120000.0         0.170460   -29464.654566       41391.391665   \n",
       "180000.0         0.049344   -30419.245682       44065.567772   \n",
       "240000.0         0.047192   -30717.537805       44934.115233   \n",
       "...                   ...             ...                ...   \n",
       "5580000.0        0.060624    13724.189489        8972.174383   \n",
       "5640000.0        0.385444    15957.054468       12473.521712   \n",
       "5700000.0        0.082289    18690.201830       16641.918990   \n",
       "5760000.0        0.048024    18829.574093       16885.903004   \n",
       "5820000.0        0.264294    19202.031070       17648.227362   \n",
       "\n",
       "           Normalized_skewness  Normalized_kurtosis  Normalized_peaks  ...  \\\n",
       "0.0                   2.298977             4.608311                 0  ...   \n",
       "60000.0              -0.636777             0.436994                 0  ...   \n",
       "120000.0              0.829802            -0.541948                 0  ...   \n",
       "180000.0              0.266085            -0.256773                 0  ...   \n",
       "240000.0              0.580621            -0.220862                 0  ...   \n",
       "...                        ...                  ...               ...  ...   \n",
       "5580000.0             0.473253             0.081926                 0  ...   \n",
       "5640000.0             0.659615            -1.226944                 0  ...   \n",
       "5700000.0             0.611062            -0.389302                 0  ...   \n",
       "5760000.0            -0.038059            -0.681742                 0  ...   \n",
       "5820000.0             1.894837             2.315324                 0  ...   \n",
       "\n",
       "           Phasic_perm_entropy  Phasic_svd_entropy  Phasic_signal_mean  \\\n",
       "0.0                   0.991289            0.043767            0.001101   \n",
       "60000.0               0.974122            0.060710           -0.001521   \n",
       "120000.0              0.995749            0.110980            0.000281   \n",
       "180000.0              0.990984            0.099563            0.000212   \n",
       "240000.0              0.984896            0.126958           -0.000241   \n",
       "...                        ...                 ...                 ...   \n",
       "5580000.0             0.985763            0.092923           -0.000084   \n",
       "5640000.0             0.980562            0.048939           -0.000182   \n",
       "5700000.0             0.981126            0.103008           -0.000183   \n",
       "5760000.0             0.979104            0.117435            0.000213   \n",
       "5820000.0             0.987959            0.076279            0.000855   \n",
       "\n",
       "           Phasic_signal_std  Phasic_signal_max  Phasic_signal_min  \\\n",
       "0.0                 0.026432           0.107763          -0.089481   \n",
       "60000.0             0.022604           0.099171          -0.040446   \n",
       "120000.0            0.004254           0.015477          -0.011377   \n",
       "180000.0            0.004630           0.016339          -0.011875   \n",
       "240000.0            0.003221           0.009511          -0.008324   \n",
       "...                      ...                ...                ...   \n",
       "5580000.0           0.007905           0.026500          -0.021184   \n",
       "5640000.0           0.036746           0.117735          -0.137439   \n",
       "5700000.0           0.006742           0.019091          -0.016013   \n",
       "5760000.0           0.005863           0.016819          -0.013719   \n",
       "5820000.0           0.013831           0.059136          -0.043795   \n",
       "\n",
       "           Phasic_signal_range  Phasic_signal_kurtosis  Phasic_signal_skew  \\\n",
       "0.0                   0.197244                5.162175            0.612499   \n",
       "60000.0               0.139617                3.444132            1.518407   \n",
       "120000.0              0.026854                0.403755           -0.036546   \n",
       "180000.0              0.028214                0.381608            0.544795   \n",
       "240000.0              0.017835               -0.160100            0.095751   \n",
       "...                        ...                     ...                 ...   \n",
       "5580000.0             0.047684                0.492056            0.145790   \n",
       "5640000.0             0.255175                2.675637           -0.191880   \n",
       "5700000.0             0.035104               -0.443534            0.370807   \n",
       "5760000.0             0.030538               -0.679443            0.090121   \n",
       "5820000.0             0.102932                2.533057            0.148651   \n",
       "\n",
       "           Phasic_signal_momentum  \n",
       "0.0                      0.000699  \n",
       "60000.0                  0.000511  \n",
       "120000.0                 0.000018  \n",
       "180000.0                 0.000021  \n",
       "240000.0                 0.000010  \n",
       "...                           ...  \n",
       "5580000.0                0.000062  \n",
       "5640000.0                0.001350  \n",
       "5700000.0                0.000045  \n",
       "5760000.0                0.000034  \n",
       "5820000.0                0.000191  \n",
       "\n",
       "[98 rows x 90 columns]"
      ]
     },
     "execution_count": 22,
     "metadata": {},
     "output_type": "execute_result"
    }
   ],
   "source": [
    "# Represetation of the pipeline features after extraction\n",
    "# Each row is a feature vector for a window\n",
    "# index is the timestamp of the window (this can be selected as start, end or center of the window)\n",
    "pipeline.features"
   ]
  }
 ],
 "metadata": {
  "kernelspec": {
   "display_name": "biolib",
   "language": "python",
   "name": "python3"
  },
  "language_info": {
   "codemirror_mode": {
    "name": "ipython",
    "version": 3
   },
   "file_extension": ".py",
   "mimetype": "text/x-python",
   "name": "python",
   "nbconvert_exporter": "python",
   "pygments_lexer": "ipython3",
   "version": "3.8.12"
  },
  "orig_nbformat": 4,
  "vscode": {
   "interpreter": {
    "hash": "2fa1c4f98c7b87941450f311ed7a57ace56542b965a97c9ab1a41e28cb5fe538"
   }
  }
 },
 "nbformat": 4,
 "nbformat_minor": 2
}
