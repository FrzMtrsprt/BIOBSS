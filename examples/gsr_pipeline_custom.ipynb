{
 "cells": [
  {
   "cell_type": "code",
   "execution_count": 1,
   "metadata": {},
   "outputs": [
    {
     "name": "stderr",
     "output_type": "stream",
     "text": [
      "c:\\Users\\ipek.karakus\\.conda\\envs\\biolib\\lib\\site-packages\\plotly_resampler\\aggregation\\aggregators.py:24: UserWarning: Could not import lttbc; will use a (slower) python alternative.\n",
      "  warnings.warn(\"Could not import lttbc; will use a (slower) python alternative.\")\n"
     ]
    }
   ],
   "source": [
    "# imports\n",
    "import sys\n",
    "import pandas as pd\n",
    "import numpy as np\n",
    "import matplotlib.pyplot as plt\n",
    "import os\n",
    "import neurokit2 as nk\n",
    "#import biobss from local to run without installing\n",
    "sys.path.append(\"../\")\n",
    "import biobss\n",
    "import neurokit2\n",
    "import flirt\n"
   ]
  },
  {
   "cell_type": "code",
   "execution_count": 2,
   "metadata": {},
   "outputs": [],
   "source": [
    "#Load the sample data\n",
    "data, info = biobss.utils.load_sample_data(data_type='EDA')\n",
    "sample_data = np.asarray(data['EDA'])\n",
    "sampling_rate = info['sampling_rate']\n",
    "L = info['signal_length']\n",
    "\n",
    "# Create a timestamp for plotting, this is not necessary for the pipeline\n",
    "timestamp = np.arange(0, len(sample_data)/sampling_rate, 1/sampling_rate)"
   ]
  },
  {
   "cell_type": "code",
   "execution_count": 3,
   "metadata": {},
   "outputs": [],
   "source": [
    "signals={'Raw':sample_data}"
   ]
  },
  {
   "cell_type": "code",
   "execution_count": null,
   "metadata": {},
   "outputs": [],
   "source": [
    "# Plot the data\n",
    "#ax=plt.subplot(1,1,1)\n",
    "#ax.figure.set_size_inches(16, 3)\n",
    "biobss.edatools.plot_eda(signals=signals,sampling_rate=sampling_rate, timestamps=timestamp, timestamp_resolution='s', show_peaks=False, figsize=(16,3))"
   ]
  },
  {
   "cell_type": "code",
   "execution_count": null,
   "metadata": {},
   "outputs": [],
   "source": [
    "# Plot the data\n",
    "#ax=plt.subplot(1,1,1)\n",
    "#ax.figure.set_size_inches(16, 3)\n",
    "biobss.edatools.plot_eda(signals=signals,sampling_rate=sampling_rate, timestamps=timestamp, timestamp_resolution='s', method='plotly', show_peaks=False)"
   ]
  },
  {
   "cell_type": "code",
   "execution_count": null,
   "metadata": {},
   "outputs": [],
   "source": [
    "# Plot the data\n",
    "ax=plt.subplot(1,1,1)\n",
    "ax.figure.set_size_inches(16, 3)\n",
    "biobss.plottools.create_signal_plot(sample_data, ax, timestamp, 's', 'EDA Signal', 'EDA', None)"
   ]
  },
  {
   "cell_type": "markdown",
   "metadata": {},
   "source": [
    "# <font color='Green'> Adding processes to the Pipeline </font>\n",
    "\n",
    "#### <font color='red'> Adding a process </font>\n",
    "\n",
    "Any process can be added to the pipeline if the input is a signal and ouput is a signal or collection of signals. The process can be added by passing the method to a Bio_Process constructor. The Bio_Process constructor takes the following arguments:\n",
    "\n",
    "- process_method: The method to be added to the pipeline\n",
    "- inplace: If True, result of the process will modify the input signal. If False, the result of the process will be returned as a new signal and added as a new channel.\n",
    "- prefix: The prefix to be added to the output channel name. If inplace is True, prefix will be ignored.\n",
    "  - If inplace is False, the output channel name will be prefix + input channel name.\n",
    "  - <code> (Default: None) (if inplace = False  and prefix = None, prefix will be set to 'processed') </code>\n",
    "- return_index : If a return_index is set, selected index of the result will be set as result. If return_index is None, the whole result will be set as result. (Default: None)\n",
    "- argmap: this dictionary maps different named arguments. For example, Bio_Channel already have a sampling_rate attribute. If the process method requires sampling rate with a different name, it can be mapped to the Bio_Channel attribute.<code> EXAMPLE : argmap = {'sampling_rate': 'fs'} or argmap = {'sampling_rate': 'sample_rate'} </code>\n",
    "- **kwargs: Keyword arguments to be passed to the process method\n",
    "\n",
    "\n",
    "\n",
    "\n",
    "\n",
    "\n",
    "Pipeline processes the given input sequentially. The input is passed from one process to the next."
   ]
  },
  {
   "cell_type": "code",
   "execution_count": 4,
   "metadata": {},
   "outputs": [],
   "source": [
    "# Create steps for the pipeline\n",
    "# EDA decopmosition step, Returns a dictionary with the following keys: EDA_Tonic, EDA_Phasic\n",
    "decompose = biobss.pipeline.Bio_Process(process_method=biobss.edatools.eda_decompose,method=\"highpass\")\n"
   ]
  },
  {
   "cell_type": "code",
   "execution_count": 5,
   "metadata": {},
   "outputs": [],
   "source": [
    "# Create steps for the pipeline\n",
    "\n",
    "# Filter steps process,return filtered signal for all input signals\n",
    "clean=biobss.pipeline.Bio_Process(\n",
    "    process_method=neurokit2.eda_clean, argmap={\"sampling_rate\":\"sampling_rate\"})"
   ]
  },
  {
   "cell_type": "code",
   "execution_count": 6,
   "metadata": {},
   "outputs": [],
   "source": [
    "# Signal normalization step, return normalized signal for all input signals\n",
    "normalize = biobss.pipeline.Bio_Process(\n",
    "    process_method=biobss.preprocess.normalize_signal)"
   ]
  },
  {
   "cell_type": "code",
   "execution_count": 7,
   "metadata": {},
   "outputs": [],
   "source": [
    "# Signal resampling step, return resampled signal for all input signals, signals resampled to 350Hz\n",
    "resample = biobss.pipeline.Bio_Process(\n",
    "    process_method=biobss.preprocess.resample_signal_object,target_sample_rate=350)"
   ]
  },
  {
   "cell_type": "code",
   "execution_count": 8,
   "metadata": {},
   "outputs": [],
   "source": [
    "# Create feature extraction steps\n",
    "\n",
    "# Extract signal features. input_signals dictionary contains feature prefixes as keys and input signals as values\n",
    "# For example rms of EDA_Tonic is extracted as Tonic_rms in this case\n",
    "signal_features = biobss.pipeline.Feature(name=\"signal_features\", function=flirt.get_eda_features, input_signals={'Raw':'EDA_Raw', 'Tonic':'EDA_Tonic', 'Phasic':'EDA_Phasic'})\n"
   ]
  },
  {
   "cell_type": "code",
   "execution_count": null,
   "metadata": {},
   "outputs": [],
   "source": [
    "# Extract statistical features.\n",
    "# For example mean of EDA_Tonic is extracted as Tonic_mean in this case\n",
    "stat_features = biobss.pipeline.Feature(name=\"stat_features\", function=biobss.edatools.get_stat_features, input_signals={'Raw':'EDA_Raw', 'Tonic':'EDA_Tonic', 'Phasic':'EDA_Phasic'})"
   ]
  },
  {
   "cell_type": "code",
   "execution_count": 9,
   "metadata": {},
   "outputs": [],
   "source": [
    "# BIOBSS Pipeline is created\n",
    "# windowed_process=True means that the pipeline will process the signal in windows\n",
    "# window_size=60 means that the pipeline will process 60 seconds of data at a time\n",
    "# step_size=20 means signal will be shifted by 20 seconds for each window\n",
    "pipeline = biobss.pipeline.Bio_Pipeline(windowed_process=True,window_size=60,step_size=20)"
   ]
  },
  {
   "cell_type": "code",
   "execution_count": 10,
   "metadata": {},
   "outputs": [
    {
     "data": {
      "text/plain": [
       "EDA_Raw (700Hz) ((5920.0,)s) (1 windows) ((4144000,)) ((4144000,)) (float64)[5.40046692 5.40885925 5.40161133 ... 7.26280212 7.26966858 7.2681427 ]"
      ]
     },
     "execution_count": 10,
     "metadata": {},
     "output_type": "execute_result"
    }
   ],
   "source": [
    "# Input is created as Bio_Channel object\n",
    "# Bio_Channel object requires following parameters: name, signal, sampling_rate\n",
    "# Optionally timestamp can be provided\n",
    "# If timestamp is provided, resolution of the timestamp should be provided. Possible resolutions are:'min', 's', 'ms', 'us'\n",
    "# If timestamp is not provided, timestamp will be created using sampling_rate. Default resolution is 's'\n",
    "bio_channel=biobss.pipeline.Bio_Channel(signal=sample_data,name=\"EDA_Raw\",sampling_rate=700)\n",
    "\n",
    "# a Bio Channel object is created with sample data, with the name EDA_Raw and sampling rate 700\n",
    "# timestamp is not provided, so timestamp will be created using sampling_rate\n",
    "\n",
    "# Simply bio_channel the channel object will print the channel properties\n",
    "bio_channel"
   ]
  },
  {
   "cell_type": "code",
   "execution_count": 11,
   "metadata": {},
   "outputs": [
    {
     "data": {
      "text/plain": [
       "array([5.40046692, 5.40885925, 5.40161133, ..., 7.26280212, 7.26966858,\n",
       "       7.2681427 ])"
      ]
     },
     "execution_count": 11,
     "metadata": {},
     "output_type": "execute_result"
    }
   ],
   "source": [
    "# bio_channel.channel accesses the data in the channel object\n",
    "bio_channel.channel"
   ]
  },
  {
   "cell_type": "code",
   "execution_count": 12,
   "metadata": {},
   "outputs": [
    {
     "data": {
      "text/plain": [
       "Signal object with 1 channel(s)\n",
       "EDA_Raw (700Hz) ((5920.0,)s) (1 windows) ((4144000,))"
      ]
     },
     "execution_count": 12,
     "metadata": {},
     "output_type": "execute_result"
    }
   ],
   "source": [
    "# Pipeline input can be set from an array, a dataframe, pandas series, list, Bio_Channel, Bio_Data\n",
    "\n",
    "# In this case, the pipeline input is set with an array\n",
    "pipeline.set_input(sample_data,sampling_rate=700,name='EDA_Raw')\n",
    "\n",
    "# Alternatively, the pipeline input can be set with a Bio_Channel object, in this case the name and sampling rate are not required as they are already provided in the Bio_Channel object\n",
    "pipeline.set_input(bio_channel)\n",
    "\n",
    "pipeline.input"
   ]
  },
  {
   "cell_type": "code",
   "execution_count": 13,
   "metadata": {},
   "outputs": [],
   "source": [
    "# Pipeline steps are added to the pipeline sequentially, the order of the steps is important as the output of one step is the input of the next step\n",
    "# These steps will be processed in the order they are added to the pipeline\n",
    "pipeline.preprocess_queue.add_process(clean)\n",
    "pipeline.preprocess_queue.add_process(normalize)\n",
    "pipeline.preprocess_queue.add_process(decompose)\n",
    "pipeline.preprocess_queue.add_process(resample)\n",
    "\n",
    "# Currently all the steps are added to the preprocess_queue\n",
    "# After the preprocess_queue is processed, data will be segmented into windows (if windowed_process=True)\n",
    "# For running process in windows, the process_queue is used\n",
    "\n",
    "## This structure will change in the future"
   ]
  },
  {
   "cell_type": "code",
   "execution_count": 14,
   "metadata": {},
   "outputs": [],
   "source": [
    "# Features are added to the pipeline\n",
    "pipeline.add_feature_step(signal_features)\n",
    "#pipeline.add_feature_step(stat_features)\n"
   ]
  },
  {
   "cell_type": "code",
   "execution_count": 15,
   "metadata": {},
   "outputs": [
    {
     "data": {
      "text/plain": [
       "Bio_Pipeline:\n",
       "\tPreprocessors: Process list:\n",
       "\t1: eda_clean\n",
       "\t2: normalize_signal\n",
       "\t3: eda_decompose\n",
       "\t4: resample_signal_object\n",
       "\n",
       "\tProcessors: Process list:\n",
       "\n",
       "\tPostprocessors: Process list:\n",
       "\n",
       "\tWindow Size(Seconds): 60\n",
       "\tStep Size: 20"
      ]
     },
     "execution_count": 15,
     "metadata": {},
     "output_type": "execute_result"
    }
   ],
   "source": [
    "# Represetation of the pipeline\n",
    "pipeline"
   ]
  },
  {
   "cell_type": "code",
   "execution_count": 16,
   "metadata": {},
   "outputs": [],
   "source": [
    "# Pipeline is run, this will process the input data in the pipeline\n",
    "pipeline.run_pipeline()"
   ]
  },
  {
   "cell_type": "code",
   "execution_count": 17,
   "metadata": {},
   "outputs": [
    {
     "data": {
      "text/plain": [
       "Signal object with 3 channel(s)\n",
       "EDA_Raw (350Hz) (60.0s) (294 windows) ((294, 21000))\n",
       "EDA_Tonic (350Hz) (60.0s) (294 windows) ((294, 21000))\n",
       "EDA_Phasic (350Hz) (60.0s) (294 windows) ((294, 21000))"
      ]
     },
     "execution_count": 17,
     "metadata": {},
     "output_type": "execute_result"
    }
   ],
   "source": [
    "# Represetation of the pipeline data after running\n",
    "pipeline.data\n",
    "\n",
    "# Data is cleaned\n",
    "# Data is normalized\n",
    "# Data is decomposed into tonic and phasic components, these componenets are added to the pipeline data as EDA_Tonic and EDA_Phasic channels\n",
    "# Lastly, data is resampled to 350Hz (All channels are resampled to 350Hz) (target_sample_rate=350)\n",
    "# Data is segmented into windows of 60 seconds with a step size of 20 seconds"
   ]
  },
  {
   "cell_type": "code",
   "execution_count": 18,
   "metadata": {},
   "outputs": [
    {
     "ename": "TypeError",
     "evalue": "get_eda_features() got an unexpected keyword argument 'prefix'",
     "output_type": "error",
     "traceback": [
      "\u001b[1;31m---------------------------------------------------------------------------\u001b[0m",
      "\u001b[1;31mTypeError\u001b[0m                                 Traceback (most recent call last)",
      "Cell \u001b[1;32mIn [18], line 3\u001b[0m\n\u001b[0;32m      1\u001b[0m \u001b[39m# Statistical and signal features are extracted from the EDA_Tonic, EDA_Phasic and EDA_Raw channels\u001b[39;00m\n\u001b[0;32m      2\u001b[0m \u001b[39m# Supplied prefix is added to the feature name\u001b[39;00m\n\u001b[1;32m----> 3\u001b[0m pipeline\u001b[39m.\u001b[39;49mextract_features()\n",
      "File \u001b[1;32mc:\\Users\\ipek.karakus\\Desktop\\BIOBSS\\examples\\..\\biobss\\pipeline\\pipeline.py:126\u001b[0m, in \u001b[0;36mBio_Pipeline.extract_features\u001b[1;34m(self)\u001b[0m\n\u001b[0;32m    124\u001b[0m \u001b[39mdef\u001b[39;00m \u001b[39mextract_features\u001b[39m(\u001b[39mself\u001b[39m):\n\u001b[0;32m    125\u001b[0m     \u001b[39mfor\u001b[39;00m f \u001b[39min\u001b[39;00m \u001b[39mself\u001b[39m\u001b[39m.\u001b[39mfeature_list:\n\u001b[1;32m--> 126\u001b[0m         \u001b[39mself\u001b[39;49m\u001b[39m.\u001b[39;49mcalculate_feature(f)\n",
      "File \u001b[1;32mc:\\Users\\ipek.karakus\\Desktop\\BIOBSS\\examples\\..\\biobss\\pipeline\\pipeline.py:133\u001b[0m, in \u001b[0;36mBio_Pipeline.calculate_feature\u001b[1;34m(self, feature)\u001b[0m\n\u001b[0;32m    131\u001b[0m \u001b[39mdef\u001b[39;00m \u001b[39mcalculate_feature\u001b[39m(\u001b[39mself\u001b[39m, feature: Feature):\n\u001b[0;32m    132\u001b[0m     \u001b[39mself\u001b[39m\u001b[39m.\u001b[39mfeatures \u001b[39m=\u001b[39m pd\u001b[39m.\u001b[39mconcat(\n\u001b[1;32m--> 133\u001b[0m         [\u001b[39mself\u001b[39m\u001b[39m.\u001b[39mfeatures, feature\u001b[39m.\u001b[39;49mrun(\u001b[39mself\u001b[39;49m\u001b[39m.\u001b[39;49mdata)], axis\u001b[39m=\u001b[39m\u001b[39m1\u001b[39m)\n",
      "File \u001b[1;32mc:\\Users\\ipek.karakus\\Desktop\\BIOBSS\\examples\\..\\biobss\\pipeline\\feature_extraction.py:40\u001b[0m, in \u001b[0;36mFeature.run\u001b[1;34m(self, data)\u001b[0m\n\u001b[0;32m     36\u001b[0m \u001b[39mself\u001b[39m\u001b[39m.\u001b[39mdata \u001b[39m=\u001b[39m data\n\u001b[0;32m     38\u001b[0m \u001b[39mfor\u001b[39;00m input_prefix, \u001b[39minput\u001b[39m \u001b[39min\u001b[39;00m \u001b[39mself\u001b[39m\u001b[39m.\u001b[39minput_signals\u001b[39m.\u001b[39mitems():\n\u001b[0;32m     39\u001b[0m     \u001b[39mself\u001b[39m\u001b[39m.\u001b[39mfeature_output \u001b[39m=\u001b[39m pd\u001b[39m.\u001b[39mconcat(\n\u001b[1;32m---> 40\u001b[0m         [\u001b[39mself\u001b[39m\u001b[39m.\u001b[39mfeature_output, \u001b[39mself\u001b[39;49m\u001b[39m.\u001b[39;49m__extract(\u001b[39minput\u001b[39;49m, input_prefix)], axis\u001b[39m=\u001b[39m\u001b[39m1\u001b[39m)\n\u001b[0;32m     41\u001b[0m \u001b[39mreturn\u001b[39;00m \u001b[39mself\u001b[39m\u001b[39m.\u001b[39mfeature_output\n",
      "File \u001b[1;32mc:\\Users\\ipek.karakus\\Desktop\\BIOBSS\\examples\\..\\biobss\\pipeline\\feature_extraction.py:63\u001b[0m, in \u001b[0;36mFeature.__extract\u001b[1;34m(self, channel_name, prefix)\u001b[0m\n\u001b[0;32m     61\u001b[0m \u001b[39melse\u001b[39;00m:         \n\u001b[0;32m     62\u001b[0m     \u001b[39mfor\u001b[39;00m i \u001b[39min\u001b[39;00m \u001b[39mrange\u001b[39m(window_number):\n\u001b[1;32m---> 63\u001b[0m         feature_set\u001b[39m.\u001b[39mappend(\u001b[39mself\u001b[39;49m\u001b[39m.\u001b[39;49mfunction(data[i], \u001b[39m*\u001b[39;49m\u001b[39m*\u001b[39;49m\u001b[39mself\u001b[39;49m\u001b[39m.\u001b[39;49mparameters))\n\u001b[0;32m     64\u001b[0m     calculated_features \u001b[39m=\u001b[39m pd\u001b[39m.\u001b[39mDataFrame(feature_set, index\u001b[39m=\u001b[39mtimestamps)\n\u001b[0;32m     65\u001b[0m     \u001b[39mreturn\u001b[39;00m calculated_features\n",
      "\u001b[1;31mTypeError\u001b[0m: get_eda_features() got an unexpected keyword argument 'prefix'"
     ]
    }
   ],
   "source": [
    "# Statistical and signal features are extracted from the EDA_Tonic, EDA_Phasic and EDA_Raw channels\n",
    "# Supplied prefix is added to the feature name\n",
    "pipeline.extract_features()"
   ]
  },
  {
   "cell_type": "code",
   "execution_count": null,
   "metadata": {},
   "outputs": [],
   "source": [
    "# Represetation of the pipeline features after extraction\n",
    "# Each row is a feature vector for a window\n",
    "# index is the timestamp of the window (this can be selected as start, end or center of the window)\n",
    "pipeline.features"
   ]
  }
 ],
 "metadata": {
  "kernelspec": {
   "display_name": "Python 3.8.5 64-bit ('biolib')",
   "language": "python",
   "name": "python3"
  },
  "language_info": {
   "codemirror_mode": {
    "name": "ipython",
    "version": 3
   },
   "file_extension": ".py",
   "mimetype": "text/x-python",
   "name": "python",
   "nbconvert_exporter": "python",
   "pygments_lexer": "ipython3",
   "version": "3.8.13"
  },
  "orig_nbformat": 4,
  "vscode": {
   "interpreter": {
    "hash": "3a4bcfb23c7e6ad66c655087280fa9f4d0273121ae7909f7735d1e02563a2438"
   }
  }
 },
 "nbformat": 4,
 "nbformat_minor": 2
}
