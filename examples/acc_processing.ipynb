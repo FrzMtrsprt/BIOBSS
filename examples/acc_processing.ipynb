{
 "cells": [
  {
   "cell_type": "markdown",
   "metadata": {},
   "source": [
    "__BIOBSS - Activity Indices__\n",
    "\n",
    "_This notebook includes guidelines to help using BIOBSS for calculation of activity indices and feature extraction from ACC signal._"
   ]
  },
  {
   "cell_type": "code",
   "execution_count": null,
   "metadata": {},
   "outputs": [],
   "source": [
    "#Import BIOBSS and the other required packages\n",
    "\n",
    "#import biobss\n",
    "import os\n",
    "import numpy as np\n",
    "import matplotlib.pyplot as plt\n",
    "import pandas as pd\n",
    "#import biobss from local to run without installing\n",
    "import sys\n",
    "sys.path.append(\"../\")\n",
    "import biobss"
   ]
  },
  {
   "cell_type": "markdown",
   "metadata": {},
   "source": [
    "# Table of Contents\n",
    "1. [ACC Sample Data](#sampledata)<br>\n",
    "2. [ACC Signal Preprocessing](#acc_pre)<br>\n",
    "    2.1. [Filtering](#acc_filter)<br>\n",
    "    2.2. [Peak Detection](#acc_peaks)<br>\n",
    "3. [Activity indices from ACC signals](#acc_actind)<br>\n",
    "    3.1. [Dataset Generation](#acc_dataset)<br>\n",
    "    3.2. [Calculation of Activity Indices](#act_ind)<br>\n",
    "4. [ACC Feature Extraction](#acc_features)<br>"
   ]
  },
  {
   "cell_type": "markdown",
   "metadata": {},
   "source": [
    "### __ACC Sample Data__\n",
    "<a id=\"sampledata\"></a>"
   ]
  },
  {
   "cell_type": "markdown",
   "metadata": {},
   "source": [
    "ACC sample data is provided as a csv file in BIOBSS\\sample data. The data file contains 3-axis ACC signals of 5-minutes length, sampled at 32 Hz. "
   ]
  },
  {
   "cell_type": "code",
   "execution_count": null,
   "metadata": {},
   "outputs": [],
   "source": [
    "#Load the sample data\n",
    "data, info = biobss.utils.load_sample_data(data_type='ACC')\n",
    "accx = np.asarray(data['ACCx'])\n",
    "accy = np.asarray(data['ACCy'])\n",
    "accz = np.asarray(data['ACCz'])\n",
    "fs = info['sampling_rate']\n",
    "L = info['signal_length']"
   ]
  },
  {
   "cell_type": "markdown",
   "metadata": {},
   "source": [
    "### __ACC Signal Preprocessing__\n",
    "<a id=\"acc_pre\"></a>"
   ]
  },
  {
   "cell_type": "markdown",
   "metadata": {},
   "source": [
    "#### __Filtering__\n",
    "<a id=\"acc_filter\"></a>"
   ]
  },
  {
   "cell_type": "markdown",
   "metadata": {},
   "source": [
    "BIOBSS library provides a filtering function which uses Scipy functions. This function can be used to implement Butterworth filter by defining the filter parameters (filter type, filter order, cutoff frequencies) as shown below."
   ]
  },
  {
   "cell_type": "code",
   "execution_count": null,
   "metadata": {},
   "outputs": [],
   "source": [
    "#Filtering ACC signals by defining the filter parameters\n",
    "\n",
    "f_accx= biobss.preprocess.filter_signal(sig=accx,sampling_rate=fs,filter_type='lowpass',N=2,f_upper=10)\n",
    "f_accy= biobss.preprocess.filter_signal(sig=accy,sampling_rate=fs,filter_type='lowpass',N=2,f_upper=10)\n",
    "f_accz= biobss.preprocess.filter_signal(sig=accz,sampling_rate=fs,filter_type='lowpass',N=2,f_upper=10)"
   ]
  },
  {
   "cell_type": "markdown",
   "metadata": {},
   "source": [
    "As an alternative, pre-defined filters can be used for each signal type. In order to use this option, signal_type should be selected as 'ACC'. "
   ]
  },
  {
   "cell_type": "code",
   "execution_count": null,
   "metadata": {},
   "outputs": [],
   "source": [
    "#Filter ACC signal by using predefined filters\n",
    "filtered_accx=biobss.preprocess.filter_signal(sig=accx, sampling_rate=fs, signal_type='ACC', method='lowpass')\n",
    "filtered_accy=biobss.preprocess.filter_signal(sig=accy, sampling_rate=fs, signal_type='ACC', method='lowpass')\n",
    "filtered_accz=biobss.preprocess.filter_signal(sig=accz, sampling_rate=fs, signal_type='ACC', method='lowpass')"
   ]
  },
  {
   "cell_type": "markdown",
   "metadata": {},
   "source": [
    "#### __Peak Detection__\n",
    "<a id=\"acc_peaks\"></a>"
   ]
  },
  {
   "cell_type": "markdown",
   "metadata": {},
   "source": [
    "BIOBSS provides a peak detection function with different alternatives for the peak detection method. The ___peak_detection___ function returns a dictionary including peak locations, peak amplitudes, trough locations and trough amplitudes."
   ]
  },
  {
   "cell_type": "code",
   "execution_count": null,
   "metadata": {},
   "outputs": [],
   "source": [
    "#Detect peaks using 'peakdet' method (delta=0.01). \n",
    "#Delta parameter should be adjusted related to the amplitude of the signal.\n",
    "\n",
    "info=biobss.preprocess.peak_detection(accx,fs,'peakdet',delta=0.01)\n",
    "\n",
    "locs_peaks=info['Peak_locs']\n",
    "peaks=info['Peaks']\n",
    "locs_onsets=info['Trough_locs']\n",
    "onsets=info['Troughs']"
   ]
  },
  {
   "cell_type": "markdown",
   "metadata": {},
   "source": [
    "BIOBSS provides plotting functions specific to each signal type. In order to plot ACC signals, ___plot_acc___ function can be used. The signals and peaks should be provided as dictionaries, and the keys should be selected as in documentation. The plots can be generated either using __Matplotlib__ or __Plotly__. "
   ]
  },
  {
   "cell_type": "code",
   "execution_count": null,
   "metadata": {},
   "outputs": [],
   "source": [
    "#Generate inputs as dictionaries\n",
    "signals = {'x-axis':{'Raw': accx , 'Filtered': f_accx}, 'y-axis':{'Raw': accy , 'Filtered': f_accy}, 'z-axis':{'Raw': accz , 'Filtered': f_accz}}\n",
    "#peaks = {'x-axis':{'Raw':{'Peaks': locs_peaks}, 'Filtered':{'Peaks': locs_peaks}}, 'y-axis':{'Raw':{'Peaks': locs_peaks}, 'Filtered':{'Peaks': locs_peaks}}, 'z-axis':{'Raw':{'Peaks': locs_peaks}, 'Filtered':{'Peaks': locs_peaks}}}\n",
    "#peaks = {'x-axis':{'Raw':{'Peaks': locs_peaks}, 'Filtered':{'Peaks': locs_peaks}}, 'y-axis':{'Raw':{'Peaks': locs_peaks}, 'Filtered':{'Peaks': locs_peaks}}}\n",
    "peaks = {'x-axis':{'Raw':{'Peaks': locs_peaks}, 'Filtered':{'Peaks': locs_peaks}}, 'y-axis':{'Raw':{'Peaks': locs_peaks}}}"
   ]
  },
  {
   "cell_type": "code",
   "execution_count": null,
   "metadata": {},
   "outputs": [],
   "source": [
    "#Plot ACC signals using Matplotlib\n",
    "biobss.imutools.plot_acc(signals=signals, peaks=peaks, sampling_rate=fs, show_peaks=True)"
   ]
  },
  {
   "cell_type": "code",
   "execution_count": null,
   "metadata": {},
   "outputs": [],
   "source": [
    "#Plot ACC signals using Plotly\n",
    "biobss.imutools.plot_acc(signals=signals, peaks=peaks, sampling_rate=fs, method='plotly', show_peaks=True)"
   ]
  },
  {
   "cell_type": "markdown",
   "metadata": {},
   "source": [
    "### __Activity Indices from ACC Signals__\n",
    "<a id=\"acc_actind\"></a>"
   ]
  },
  {
   "cell_type": "markdown",
   "metadata": {},
   "source": [
    "BIOBSS provides a set of functions to calculate activity indices defined in the literature. These activity indices are:\n",
    "\n",
    "- Proportional Integration Method (PIM)\n",
    "- Zero Crossing Method (ZCM)\n",
    "- Time Above Threshold (TAT)\n",
    "- Mean Amplitude Deviation (MAD)\n",
    "- Euclidian Norm Minus One (ENMO)\n",
    "- High-pass Filtered Euclidian (HFEN)\n",
    "- Activity Index (AI)\n",
    "\n",
    "Reference: https://journals.plos.org/plosone/article?id=10.1371/journal.pone.0261718\n"
   ]
  },
  {
   "cell_type": "markdown",
   "metadata": {},
   "source": [
    "#### __Dataset Generation__\n",
    "<a id=\"acc_dataset\"></a>"
   ]
  },
  {
   "cell_type": "markdown",
   "metadata": {},
   "source": [
    "The activity indices listed above requires different types of preprocessing steps of the raw acceleration signal. In other words, each activity index can be calculated using only specific datasets. BIOBSS package provides the ___generate_dataset___ function to apply appropriate preprocessing steps (dataset generation) to prevent errors and make the process easier for the researchers.\n",
    "\n",
    "The generated datasets are:\n",
    "- UFXYZ: unfiltered acc signals \n",
    "- UFM: magnitude of unfiltered acc signals \n",
    "- UFM_modified: modified magnitude of unfiltered signals (absolute(UFM-length(UFM)))\n",
    "- UFNM: normalized magnitude of unfiltered acc signals \n",
    "- FXYZ: filtered acc signals\n",
    "- FXYZ_modified: modified filtered acc signals (absolute(FXYZ))   \n",
    "- FMpre: magnitude of filtered acc signals\n",
    "- SpecialXYZ: filtered acc signals (special filter parameters)  \n",
    "- SpecialM: magnitude of filtered acc signals (special filter parameters)\n",
    "- FMpost: filtered magnitude of acc signals\n",
    "- FMpost_modified: modified of filtered magnitude of acc signals (absolute(FMpost))\n"
   ]
  },
  {
   "cell_type": "markdown",
   "metadata": {},
   "source": [
    "Dataset generation step is a part of activity index calculation pipeline and the ___generate_dataset___ function is called by the ___calc_activity_index___ function. However, this function can also be used independently by defining input arguments properly as shown below."
   ]
  },
  {
   "cell_type": "code",
   "execution_count": null,
   "metadata": {},
   "outputs": [],
   "source": [
    "#Generate the datasets\n",
    "ufxyz           = biobss.imutools.generate_dataset(accx,accy,accz,fs,filtering=False,filtering_order=None,magnitude=False,normalize=False,modify=False),\n",
    "ufm             = biobss.imutools.generate_dataset(accx,accy,accz,fs,filtering=False,filtering_order=None,magnitude=True,normalize=False,modify=False),\n",
    "ufm_modified    = biobss.imutools.generate_dataset(accx,accy,accz,fs,filtering=False,filtering_order=None,magnitude=True,normalize=False,modify=True),\n",
    "ufnm            = biobss.imutools.generate_dataset(accx,accy,accz,fs,filtering=False,filtering_order=None,magnitude=True,normalize=True,modify=False),\n",
    "fxyz            = biobss.imutools.generate_dataset(accx,accy,accz,fs,filtering=True,filtering_order='pre',magnitude=False,normalize=False,modify=False),\n",
    "fxyz_modified   = biobss.imutools.generate_dataset(accx,accy,accz,fs,filtering=True,filtering_order='pre',magnitude=False,normalize=False,modify=True),\n",
    "fmpre           = biobss.imutools.generate_dataset(accx,accy,accz,fs,filtering=True,filtering_order='pre',magnitude=True,normalize=False,modify=False),\n",
    "specialxyz      = biobss.imutools.generate_dataset(accx,accy,accz,fs,filtering=True,filtering_order='pre',magnitude=False,normalize=False,modify=False,filter_type='highpass',N=4,f_lower=0.2),\n",
    "specialm        = biobss.imutools.generate_dataset(accx,accy,accz,fs,filtering=True,filtering_order='pre',magnitude=True,normalize=False,modify=False,filter_type='highpass',N=4,f_lower=0.2),\n",
    "fmpost          = biobss.imutools.generate_dataset(accx,accy,accz,fs,filtering=True,filtering_order='post',magnitude=True,normalize=False,modify=False),\n",
    "fmpost_modified = biobss.imutools.generate_dataset(accx,accy,accz,fs,filtering=True,filtering_order='post',magnitude=True,normalize=False,modify=True)\n",
    "                    "
   ]
  },
  {
   "cell_type": "markdown",
   "metadata": {},
   "source": [
    "#### __Calculation of Activity Indices__\n",
    "<a id=\"act_ind\"></a>"
   ]
  },
  {
   "cell_type": "markdown",
   "metadata": {},
   "source": [
    "The ___calc_activity_index___ function is used to calculate an activity index defined by 'metric' for the selected 'input_types'. Note that if the 'input_types' is not passed to the function, the activity metric is calculated for all of the valid input types.  "
   ]
  },
  {
   "cell_type": "code",
   "execution_count": null,
   "metadata": {},
   "outputs": [],
   "source": [
    "#Calculate activity indices\n",
    "pim = biobss.imutools.calc_activity_index(accx, accy, accz, signal_length=60, sampling_rate=fs, metric='PIM')\n",
    "zcm = biobss.imutools.calc_activity_index(accx, accy, accz, signal_length=60, sampling_rate=fs, metric='ZCM')\n",
    "tat = biobss.imutools.calc_activity_index(accx, accy, accz, signal_length=60, sampling_rate=fs, metric='TAT')\n",
    "mad = biobss.imutools.calc_activity_index(accx, accy, accz, signal_length=60, sampling_rate=fs, metric='MAD')\n",
    "enmo = biobss.imutools.calc_activity_index(accx, accy, accz, signal_length=60, sampling_rate=fs, metric='ENMO')\n",
    "hfen = biobss.imutools.calc_activity_index(accx, accy, accz, signal_length=60, sampling_rate=fs, metric='HFEN')\n",
    "ai = biobss.imutools.calc_activity_index(accx, accy, accz, signal_length=60, sampling_rate=fs, metric='AI', baseline_variance=[0.5,0.5,0.5])"
   ]
  },
  {
   "cell_type": "markdown",
   "metadata": {},
   "source": [
    "### __ACC Feature Extraction__\n",
    "<a id=\"acc_features\"></a>"
   ]
  },
  {
   "cell_type": "markdown",
   "metadata": {},
   "source": [
    "In the literature, there are several features used for analysis of ACC signals. These features can be categorized as frequency domain features, statistical features and correlation features. "
   ]
  },
  {
   "cell_type": "markdown",
   "metadata": {},
   "source": [
    "Statistical features:\n",
    "- 'mean': mean of the signal amplitude\n",
    "- 'std': standard deviation of the signal amplitude\n",
    "- 'mad': mean absolute deviation of the signal amplitude\n",
    "- 'min': minimum value of the signal amplitude\n",
    "- 'max': maximum value of the signal amplitude\n",
    "- 'range': difference of maximum and minimum values of the signal amplitude\n",
    "- 'median': median value of the signal amplitude\n",
    "- 'medad': median absolute deviation of the signal amplitude\n",
    "- 'iqr': interquartile range of the signal amplitude\n",
    "- 'ncount': number of negative values \n",
    "- 'pcount': number of positibe values \n",
    "- 'abmean': number of values above mean\n",
    "- 'npeaks': number of peaks\n",
    "- 'skew': skewness\n",
    "- 'kurtosis': kurtosis\n",
    "- 'energy': signal energy (the mean of sum of squares of the values in a window)\n",
    "- 'momentum': momentum\n",
    "\n",
    "Frequency domain features:\n",
    "- 'fft_mean': mean of fft peaks\n",
    "- 'fft_std': standard deviation of fft peaks\n",
    "- 'fft_mad': mean absolute deviation of fft peaks\n",
    "- 'fft_min': minimum value of fft peaks\n",
    "- 'fft_max': maximum value of fft peaks\n",
    "- 'fft_range': difference of maximum and minimum values of fft peaks\n",
    "- 'fft_median': median value of fft peaks\n",
    "- 'fft_medad': median absolute deviation of fft peaks\n",
    "- 'fft_iqr': interquartile range of fft peaks\n",
    "- 'fft_abmean': number of fft peaks above mean\n",
    "- 'fft_npeaks': number of fft peaks\n",
    "- 'fft_skew': skewness of fft peaks\n",
    "- 'fft_kurtosis': kurtosis of fft peaks\n",
    "- 'fft_energy': energy of fft peaks\n",
    "- 'fft_entropy': entropy of fft peaks\n",
    "- 'f1sc': signal power in the range of 0.1 to 0.2 Hz\n",
    "- 'f2sc': signal power in the range of 0.2 to 0.3 Hz\n",
    "- 'f3sc': signal power in the range of 0.3 to 0.4 Hz\n",
    "- 'max_freq': frequency of maximum fft peak\n",
    "\n",
    "Correlation features:\n",
    "- 'accx_accy_corr': correlation coefficient for x and y axes\n",
    "- 'accx_accz_corr': correlation coefficient for x and z axes\n",
    "- 'accy_accz_corr': correlation coefficient for y and z axes\n",
    "\n",
    "Reference: https://towardsdatascience.com/feature-engineering-on-time-series-data-transforming-signal-data-of-a-smartphone-accelerometer-for-72cbe34b8a60"
   ]
  },
  {
   "cell_type": "markdown",
   "metadata": {},
   "source": [
    "These features can be calculated seperately for each domain using the functions ___get_freq_features___, ___get_stat_features___ and ___get_corr_features___. Note that ___get_freq_features___ and ___get_stat_features___  functions calculate the features for one signal at a time."
   ]
  },
  {
   "cell_type": "code",
   "execution_count": null,
   "metadata": {},
   "outputs": [],
   "source": [
    "signals = [accx, accy, accz]\n",
    "signal_names = ['accx', 'accy', 'accz']"
   ]
  },
  {
   "cell_type": "code",
   "execution_count": null,
   "metadata": {},
   "outputs": [],
   "source": [
    "#Calculate frequency domain, statistical and correlation features for x-axis acceleration signal\n",
    "accx_freq = biobss.imutools.acc_features.acc_freq_features(signals, signal_names, sampling_rate=fs)\n",
    "accx_stat = biobss.imutools.acc_features.acc_stat_features(signals, signal_names, sampling_rate=fs)\n",
    "accx_corr = biobss.imutools.acc_features.acc_corr_features(signals, signal_names)"
   ]
  },
  {
   "cell_type": "markdown",
   "metadata": {},
   "source": [
    "The ___get_acc_features___ function is used to calculate features for multiple domains at a time. ACC signals should be provided as a dictionary with the keys 'accx', 'accy' and 'accz'. In order to calculate the features for the magnitude signal, 'magn' should be True."
   ]
  },
  {
   "cell_type": "code",
   "execution_count": null,
   "metadata": {},
   "outputs": [],
   "source": [
    "features_acc = biobss.imutools.get_acc_features(signals, signal_names, sampling_rate=fs, magnitude=True)"
   ]
  }
 ],
 "metadata": {
  "kernelspec": {
   "display_name": "Python 3.8.13 ('biolib')",
   "language": "python",
   "name": "python3"
  },
  "language_info": {
   "codemirror_mode": {
    "name": "ipython",
    "version": 3
   },
   "file_extension": ".py",
   "mimetype": "text/x-python",
   "name": "python",
   "nbconvert_exporter": "python",
   "pygments_lexer": "ipython3",
   "version": "3.8.13"
  },
  "orig_nbformat": 4,
  "vscode": {
   "interpreter": {
    "hash": "3a4bcfb23c7e6ad66c655087280fa9f4d0273121ae7909f7735d1e02563a2438"
   }
  }
 },
 "nbformat": 4,
 "nbformat_minor": 2
}
