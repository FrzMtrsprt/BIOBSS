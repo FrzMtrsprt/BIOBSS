{
 "cells": [
  {
   "cell_type": "code",
   "execution_count": 11,
   "metadata": {},
   "outputs": [],
   "source": [
    "import sys\n",
    "import pandas as pd\n",
    "import numpy as np\n",
    "\n",
    "sys.path.append(\"../\")\n",
    "import biobss\n",
    "import matplotlib.pyplot as plt\n",
    "import neurokit2 as nk\n",
    "from plotly_resampler import register_plotly_resampler"
   ]
  },
  {
   "cell_type": "code",
   "execution_count": 12,
   "metadata": {},
   "outputs": [],
   "source": [
    "import importlib\n",
    "import sys\n",
    "import pandas as pd\n",
    "import numpy as np\n",
    "\n",
    "sys.path.append(\"../\")\n",
    "import biobss\n",
    "import os\n",
    "os.getcwd()\n",
    "import neurokit2 as nk\n",
    "sample_data = biobss.utils.load_sample_data(\"ECG\")"
   ]
  },
  {
   "cell_type": "code",
   "execution_count": 13,
   "metadata": {},
   "outputs": [],
   "source": [
    "sr=256"
   ]
  },
  {
   "cell_type": "code",
   "execution_count": 14,
   "metadata": {},
   "outputs": [],
   "source": [
    "sample=np.array(sample_data[0]).flatten()"
   ]
  },
  {
   "cell_type": "code",
   "execution_count": 15,
   "metadata": {},
   "outputs": [],
   "source": [
    "clean=biobss.pipeline.Bio_Process(\n",
    "    process_method=biobss.ecgtools.filter_ecg,process_name=\"clean\",argmap={\"sampling_rate\":\"sampling_rate\"},method=\"pantompkins\")\n",
    "\n",
    "find_peaks = biobss.pipeline.Bio_Process(process_method=biobss.ecgtools.ecg_peaks,\n",
    "                                         process_name=\"rpeaks\",returns_event=True,event_args={\"event_name\":\"ECG_Peaks\"})\n",
    "\n",
    "\n",
    "pipeline = biobss.pipeline.Bio_Pipeline(windowed_process=True,window_size=5,step_size=1)\n",
    "\n",
    "pipeline.process_queue.add_process(clean,input_signals=\"ECG_Raw\",output_signals=\"ECG_Clean\")\n",
    "pipeline.process_queue.add_process(find_peaks,input_signals=\"ECG_Clean\",output_signals=\"ECG_Peaks\")\n",
    "\n",
    "channel=biobss.pipeline.Bio_Channel(signal=sample,name=\"ECG_Raw\",sampling_rate=sr)\n",
    "pipeline.set_input(channel)\n"
   ]
  },
  {
   "cell_type": "code",
   "execution_count": 16,
   "metadata": {},
   "outputs": [
    {
     "data": {
      "text/plain": [
       "Bio_Pipeline:\n",
       "\tPreprocessors: Process list:\n",
       "\n",
       "\tProcessors: Process list:\n",
       "\t1: clean(ECG_Raw) -> ECG_Clean\n",
       "\t2: rpeaks(ECG_Clean) -> ECG_Peaks\n",
       "\n",
       "\tPostprocessors: Process list:\n",
       "\n",
       "\tWindow Size(Seconds): 5\n",
       "\tStep Size: 1"
      ]
     },
     "execution_count": 16,
     "metadata": {},
     "output_type": "execute_result"
    }
   ],
   "source": [
    "pipeline"
   ]
  },
  {
   "cell_type": "code",
   "execution_count": 17,
   "metadata": {},
   "outputs": [],
   "source": [
    "# Create feature extraction steps\n",
    "\n",
    "# Extract time domain features. input_signals dictionary contains feature prefixes as keys and input signals as values\n",
    "# For example rms of EDA_Tonic is extracted as Tonic_rms in this case\n",
    "Rpeak_features = biobss.pipeline.Feature(name=\"time_features\", function=biobss.ecgtools.from_Rpeaks, sampling_rate=sr)\n",
    "stat_features = biobss.pipeline.Feature(name=\"stat_features\", function=biobss.edatools.get_stat_features)"
   ]
  },
  {
   "cell_type": "code",
   "execution_count": 18,
   "metadata": {},
   "outputs": [],
   "source": [
    "pipeline.run_pipeline()"
   ]
  },
  {
   "cell_type": "code",
   "execution_count": 19,
   "metadata": {},
   "outputs": [],
   "source": [
    "pipeline.add_feature_step(Rpeak_features,input_signals=['ECG_Raw','Events_ECG_Clean'])\n",
    "pipeline.add_feature_step(stat_features,input_signals=['ECG_Clean'],prefix=\"ECG\")"
   ]
  },
  {
   "cell_type": "code",
   "execution_count": 20,
   "metadata": {},
   "outputs": [],
   "source": [
    "pipeline.extract_features()"
   ]
  },
  {
   "cell_type": "code",
   "execution_count": 11,
   "metadata": {},
   "outputs": [
    {
     "ename": "AttributeError",
     "evalue": "'Bio_Pipeline' object has no attribute 'feature_set'",
     "output_type": "error",
     "traceback": [
      "\u001b[1;31m---------------------------------------------------------------------------\u001b[0m",
      "\u001b[1;31mAttributeError\u001b[0m                            Traceback (most recent call last)",
      "Cell \u001b[1;32mIn[11], line 1\u001b[0m\n\u001b[1;32m----> 1\u001b[0m np\u001b[39m.\u001b[39mndim(pipeline\u001b[39m.\u001b[39;49mfeature_set)\n",
      "\u001b[1;31mAttributeError\u001b[0m: 'Bio_Pipeline' object has no attribute 'feature_set'"
     ]
    }
   ],
   "source": [
    "np.ndim(pipeline.feature_set)"
   ]
  },
  {
   "cell_type": "code",
   "execution_count": 21,
   "metadata": {},
   "outputs": [
    {
     "data": {
      "text/html": [
       "<div>\n",
       "<style scoped>\n",
       "    .dataframe tbody tr th:only-of-type {\n",
       "        vertical-align: middle;\n",
       "    }\n",
       "\n",
       "    .dataframe tbody tr th {\n",
       "        vertical-align: top;\n",
       "    }\n",
       "\n",
       "    .dataframe thead th {\n",
       "        text-align: right;\n",
       "    }\n",
       "</style>\n",
       "<table border=\"1\" class=\"dataframe\">\n",
       "  <thead>\n",
       "    <tr style=\"text-align: right;\">\n",
       "      <th></th>\n",
       "      <th>ecg_a_R</th>\n",
       "      <th>ecg_RR0</th>\n",
       "      <th>ecg_RR1</th>\n",
       "      <th>ecg_RR2</th>\n",
       "      <th>ecg_RRm</th>\n",
       "      <th>ecg_RR_0_1</th>\n",
       "      <th>ecg_RR_2_1</th>\n",
       "      <th>ecg_RR_m_1</th>\n",
       "      <th>ECG_mean</th>\n",
       "      <th>ECG_std</th>\n",
       "      <th>ECG_max</th>\n",
       "      <th>ECG_min</th>\n",
       "      <th>ECG_range</th>\n",
       "      <th>ECG_kurtosis</th>\n",
       "      <th>ECG_skew</th>\n",
       "      <th>ECG_momentum</th>\n",
       "    </tr>\n",
       "  </thead>\n",
       "  <tbody>\n",
       "    <tr>\n",
       "      <th>0</th>\n",
       "      <td>[0.093, 0.6484375, 0.63671875, -4.5390625, -1....</td>\n",
       "      <td>[0.372, 0.63671875, -4.5390625, 0.6484375, -1....</td>\n",
       "      <td>[0.454, -4.5390625, 0.6484375, 0.63671875, -1....</td>\n",
       "      <td>[0.125, 0.6484375, 0.63671875, 0.640625, 0.641...</td>\n",
       "      <td>[0.249, 0.63671875, 0.640625, 0.671875, 0.6497...</td>\n",
       "      <td>[0.134, 0.640625, 0.671875, 0.65625, 0.65625, ...</td>\n",
       "      <td>[0.378, 0.671875, 0.65625, 0.6484375, 0.658854...</td>\n",
       "      <td>[0.389, 0.65625, 0.6484375, 0.63671875, 0.6471...</td>\n",
       "      <td>-0.000339</td>\n",
       "      <td>0.053742</td>\n",
       "      <td>0.221432</td>\n",
       "      <td>-0.132590</td>\n",
       "      <td>0.354022</td>\n",
       "      <td>1.986408</td>\n",
       "      <td>0.758343</td>\n",
       "      <td>0.002888</td>\n",
       "    </tr>\n",
       "    <tr>\n",
       "      <th>0</th>\n",
       "      <td>[-0.068, 0.63671875, 0.640625, -4.20703125, -0...</td>\n",
       "      <td>[0.454, 0.640625, -4.20703125, 0.3125, -1.0846...</td>\n",
       "      <td>[0.125, -4.20703125, 0.3125, 0.640625, -1.0846...</td>\n",
       "      <td>[0.249, 0.3125, 0.640625, 0.671875, 0.54166666...</td>\n",
       "      <td>[0.134, 0.640625, 0.671875, 0.65625, 0.65625, ...</td>\n",
       "      <td>[0.378, 0.671875, 0.65625, 0.6484375, 0.658854...</td>\n",
       "      <td>[0.389, 0.65625, 0.6484375, 0.63671875, 0.6471...</td>\n",
       "      <td>[0.222, 0.6484375, 0.63671875, 0.640625, 0.641...</td>\n",
       "      <td>0.000160</td>\n",
       "      <td>0.051982</td>\n",
       "      <td>0.221432</td>\n",
       "      <td>-0.132590</td>\n",
       "      <td>0.354022</td>\n",
       "      <td>1.980885</td>\n",
       "      <td>0.705849</td>\n",
       "      <td>0.002702</td>\n",
       "    </tr>\n",
       "    <tr>\n",
       "      <th>0</th>\n",
       "      <td>[-0.272, 0.64453125, 0.65625, -4.515625, -1.07...</td>\n",
       "      <td>[-0.064, 0.65625, -4.515625, 0.5625, -1.098958...</td>\n",
       "      <td>[0.134, -4.515625, 0.5625, 0.7265625, -1.07552...</td>\n",
       "      <td>[0.378, 0.5625, 0.7265625, 0.6484375, 0.645833...</td>\n",
       "      <td>[0.389, 0.7265625, 0.6484375, 0.63671875, 0.67...</td>\n",
       "      <td>[0.222, 0.6484375, 0.63671875, 0.640625, 0.641...</td>\n",
       "      <td>[0.175, 0.63671875, 0.640625, 0.64453125, 0.64...</td>\n",
       "      <td>[0.436, 0.640625, 0.64453125, 0.65625, 0.64713...</td>\n",
       "      <td>-0.000032</td>\n",
       "      <td>0.052829</td>\n",
       "      <td>0.221432</td>\n",
       "      <td>-0.132590</td>\n",
       "      <td>0.354022</td>\n",
       "      <td>1.901770</td>\n",
       "      <td>0.706685</td>\n",
       "      <td>0.002791</td>\n",
       "    </tr>\n",
       "    <tr>\n",
       "      <th>0</th>\n",
       "      <td>[-0.034, 0.65625, 0.6328125, -4.140625, -0.950...</td>\n",
       "      <td>[-0.217, 0.6328125, -4.140625, 0.32421875, -1....</td>\n",
       "      <td>[-0.063, -4.140625, 0.32421875, 0.53515625, -1...</td>\n",
       "      <td>[0.389, 0.32421875, 0.53515625, 0.70703125, 0....</td>\n",
       "      <td>[0.222, 0.53515625, 0.70703125, 0.640625, 0.62...</td>\n",
       "      <td>[0.175, 0.70703125, 0.640625, 0.64453125, 0.66...</td>\n",
       "      <td>[0.436, 0.640625, 0.64453125, 0.65625, 0.64713...</td>\n",
       "      <td>[0.343, 0.64453125, 0.65625, 0.6328125, 0.6445...</td>\n",
       "      <td>0.000331</td>\n",
       "      <td>0.051645</td>\n",
       "      <td>0.221432</td>\n",
       "      <td>-0.128796</td>\n",
       "      <td>0.350229</td>\n",
       "      <td>2.211473</td>\n",
       "      <td>0.763516</td>\n",
       "      <td>0.002667</td>\n",
       "    </tr>\n",
       "    <tr>\n",
       "      <th>0</th>\n",
       "      <td>[-0.137, 0.640625, 0.6484375, -4.45703125, -1....</td>\n",
       "      <td>[-0.077, 0.6484375, -4.45703125, 0.51953125, -...</td>\n",
       "      <td>[0.222, -4.45703125, 0.51953125, 0.71484375, -...</td>\n",
       "      <td>[0.175, 0.51953125, 0.71484375, 0.64453125, 0....</td>\n",
       "      <td>[0.436, 0.71484375, 0.64453125, 0.65625, 0.671...</td>\n",
       "      <td>[0.343, 0.64453125, 0.65625, 0.6328125, 0.6445...</td>\n",
       "      <td>[0.15, 0.65625, 0.6328125, 0.640625, 0.6432291...</td>\n",
       "      <td>[0.08, 0.6328125, 0.640625, 0.6484375, 0.64062...</td>\n",
       "      <td>0.000044</td>\n",
       "      <td>0.053749</td>\n",
       "      <td>0.221431</td>\n",
       "      <td>-0.133306</td>\n",
       "      <td>0.354736</td>\n",
       "      <td>1.984512</td>\n",
       "      <td>0.731601</td>\n",
       "      <td>0.002889</td>\n",
       "    </tr>\n",
       "    <tr>\n",
       "      <th>0</th>\n",
       "      <td>[-0.047, 0.6484375, 0.6640625, -4.1015625, -0....</td>\n",
       "      <td>[-0.007, 0.6640625, -4.1015625, 0.3046875, -1....</td>\n",
       "      <td>[0.175, -4.1015625, 0.3046875, 0.5546875, -1.0...</td>\n",
       "      <td>[0.436, 0.3046875, 0.5546875, 0.65625, 0.50520...</td>\n",
       "      <td>[0.343, 0.5546875, 0.65625, 0.6328125, 0.61458...</td>\n",
       "      <td>[0.15, 0.65625, 0.6328125, 0.640625, 0.6432291...</td>\n",
       "      <td>[0.08, 0.6328125, 0.640625, 0.6484375, 0.64062...</td>\n",
       "      <td>[0.368, 0.640625, 0.6484375, 0.6640625, 0.6510...</td>\n",
       "      <td>0.000474</td>\n",
       "      <td>0.051075</td>\n",
       "      <td>0.204114</td>\n",
       "      <td>-0.133314</td>\n",
       "      <td>0.337428</td>\n",
       "      <td>1.879659</td>\n",
       "      <td>0.659768</td>\n",
       "      <td>0.002609</td>\n",
       "    </tr>\n",
       "  </tbody>\n",
       "</table>\n",
       "</div>"
      ],
      "text/plain": [
       "                                             ecg_a_R  \\\n",
       "0  [0.093, 0.6484375, 0.63671875, -4.5390625, -1....   \n",
       "0  [-0.068, 0.63671875, 0.640625, -4.20703125, -0...   \n",
       "0  [-0.272, 0.64453125, 0.65625, -4.515625, -1.07...   \n",
       "0  [-0.034, 0.65625, 0.6328125, -4.140625, -0.950...   \n",
       "0  [-0.137, 0.640625, 0.6484375, -4.45703125, -1....   \n",
       "0  [-0.047, 0.6484375, 0.6640625, -4.1015625, -0....   \n",
       "\n",
       "                                             ecg_RR0  \\\n",
       "0  [0.372, 0.63671875, -4.5390625, 0.6484375, -1....   \n",
       "0  [0.454, 0.640625, -4.20703125, 0.3125, -1.0846...   \n",
       "0  [-0.064, 0.65625, -4.515625, 0.5625, -1.098958...   \n",
       "0  [-0.217, 0.6328125, -4.140625, 0.32421875, -1....   \n",
       "0  [-0.077, 0.6484375, -4.45703125, 0.51953125, -...   \n",
       "0  [-0.007, 0.6640625, -4.1015625, 0.3046875, -1....   \n",
       "\n",
       "                                             ecg_RR1  \\\n",
       "0  [0.454, -4.5390625, 0.6484375, 0.63671875, -1....   \n",
       "0  [0.125, -4.20703125, 0.3125, 0.640625, -1.0846...   \n",
       "0  [0.134, -4.515625, 0.5625, 0.7265625, -1.07552...   \n",
       "0  [-0.063, -4.140625, 0.32421875, 0.53515625, -1...   \n",
       "0  [0.222, -4.45703125, 0.51953125, 0.71484375, -...   \n",
       "0  [0.175, -4.1015625, 0.3046875, 0.5546875, -1.0...   \n",
       "\n",
       "                                             ecg_RR2  \\\n",
       "0  [0.125, 0.6484375, 0.63671875, 0.640625, 0.641...   \n",
       "0  [0.249, 0.3125, 0.640625, 0.671875, 0.54166666...   \n",
       "0  [0.378, 0.5625, 0.7265625, 0.6484375, 0.645833...   \n",
       "0  [0.389, 0.32421875, 0.53515625, 0.70703125, 0....   \n",
       "0  [0.175, 0.51953125, 0.71484375, 0.64453125, 0....   \n",
       "0  [0.436, 0.3046875, 0.5546875, 0.65625, 0.50520...   \n",
       "\n",
       "                                             ecg_RRm  \\\n",
       "0  [0.249, 0.63671875, 0.640625, 0.671875, 0.6497...   \n",
       "0  [0.134, 0.640625, 0.671875, 0.65625, 0.65625, ...   \n",
       "0  [0.389, 0.7265625, 0.6484375, 0.63671875, 0.67...   \n",
       "0  [0.222, 0.53515625, 0.70703125, 0.640625, 0.62...   \n",
       "0  [0.436, 0.71484375, 0.64453125, 0.65625, 0.671...   \n",
       "0  [0.343, 0.5546875, 0.65625, 0.6328125, 0.61458...   \n",
       "\n",
       "                                          ecg_RR_0_1  \\\n",
       "0  [0.134, 0.640625, 0.671875, 0.65625, 0.65625, ...   \n",
       "0  [0.378, 0.671875, 0.65625, 0.6484375, 0.658854...   \n",
       "0  [0.222, 0.6484375, 0.63671875, 0.640625, 0.641...   \n",
       "0  [0.175, 0.70703125, 0.640625, 0.64453125, 0.66...   \n",
       "0  [0.343, 0.64453125, 0.65625, 0.6328125, 0.6445...   \n",
       "0  [0.15, 0.65625, 0.6328125, 0.640625, 0.6432291...   \n",
       "\n",
       "                                          ecg_RR_2_1  \\\n",
       "0  [0.378, 0.671875, 0.65625, 0.6484375, 0.658854...   \n",
       "0  [0.389, 0.65625, 0.6484375, 0.63671875, 0.6471...   \n",
       "0  [0.175, 0.63671875, 0.640625, 0.64453125, 0.64...   \n",
       "0  [0.436, 0.640625, 0.64453125, 0.65625, 0.64713...   \n",
       "0  [0.15, 0.65625, 0.6328125, 0.640625, 0.6432291...   \n",
       "0  [0.08, 0.6328125, 0.640625, 0.6484375, 0.64062...   \n",
       "\n",
       "                                          ecg_RR_m_1  ECG_mean   ECG_std  \\\n",
       "0  [0.389, 0.65625, 0.6484375, 0.63671875, 0.6471... -0.000339  0.053742   \n",
       "0  [0.222, 0.6484375, 0.63671875, 0.640625, 0.641...  0.000160  0.051982   \n",
       "0  [0.436, 0.640625, 0.64453125, 0.65625, 0.64713... -0.000032  0.052829   \n",
       "0  [0.343, 0.64453125, 0.65625, 0.6328125, 0.6445...  0.000331  0.051645   \n",
       "0  [0.08, 0.6328125, 0.640625, 0.6484375, 0.64062...  0.000044  0.053749   \n",
       "0  [0.368, 0.640625, 0.6484375, 0.6640625, 0.6510...  0.000474  0.051075   \n",
       "\n",
       "    ECG_max   ECG_min  ECG_range  ECG_kurtosis  ECG_skew  ECG_momentum  \n",
       "0  0.221432 -0.132590   0.354022      1.986408  0.758343      0.002888  \n",
       "0  0.221432 -0.132590   0.354022      1.980885  0.705849      0.002702  \n",
       "0  0.221432 -0.132590   0.354022      1.901770  0.706685      0.002791  \n",
       "0  0.221432 -0.128796   0.350229      2.211473  0.763516      0.002667  \n",
       "0  0.221431 -0.133306   0.354736      1.984512  0.731601      0.002889  \n",
       "0  0.204114 -0.133314   0.337428      1.879659  0.659768      0.002609  "
      ]
     },
     "execution_count": 21,
     "metadata": {},
     "output_type": "execute_result"
    }
   ],
   "source": [
    "pipeline.features"
   ]
  }
 ],
 "metadata": {
  "kernelspec": {
   "display_name": "biobss_dev",
   "language": "python",
   "name": "python3"
  },
  "language_info": {
   "codemirror_mode": {
    "name": "ipython",
    "version": 3
   },
   "file_extension": ".py",
   "mimetype": "text/x-python",
   "name": "python",
   "nbconvert_exporter": "python",
   "pygments_lexer": "ipython3",
   "version": "3.8.0"
  },
  "orig_nbformat": 4,
  "vscode": {
   "interpreter": {
    "hash": "e2da08f22468fb3696c83331e9a8c56525a02dc4129e32fd96f2f3d0a3b229d8"
   }
  }
 },
 "nbformat": 4,
 "nbformat_minor": 2
}
