{
 "cells": [
  {
   "cell_type": "code",
   "execution_count": 1,
   "metadata": {},
   "outputs": [
    {
     "name": "stderr",
     "output_type": "stream",
     "text": [
      "c:\\Users\\cagatay\\miniconda3\\envs\\biobss_dev\\lib\\site-packages\\plotly_resampler\\aggregation\\aggregators.py:24: UserWarning: Could not import lttbc; will use a (slower) python alternative.\n",
      "  warnings.warn(\"Could not import lttbc; will use a (slower) python alternative.\")\n"
     ]
    }
   ],
   "source": [
    "import sys\n",
    "import pandas as pd\n",
    "import numpy as np\n",
    "\n",
    "sys.path.append(\"../\")\n",
    "import biobss\n",
    "import matplotlib.pyplot as plt\n",
    "import neurokit2 as nk\n",
    "from plotly_resampler import register_plotly_resampler"
   ]
  },
  {
   "cell_type": "code",
   "execution_count": 2,
   "metadata": {},
   "outputs": [],
   "source": [
    "import importlib\n",
    "import sys\n",
    "import pandas as pd\n",
    "import numpy as np\n",
    "\n",
    "sys.path.append(\"../\")\n",
    "import biobss\n",
    "import os\n",
    "os.getcwd()\n",
    "import neurokit2 as nk\n",
    "sample_data = biobss.utils.load_sample_data(\"ECG\")"
   ]
  },
  {
   "cell_type": "code",
   "execution_count": 3,
   "metadata": {},
   "outputs": [],
   "source": [
    "sr=256"
   ]
  },
  {
   "cell_type": "code",
   "execution_count": 4,
   "metadata": {},
   "outputs": [],
   "source": [
    "sample=np.array(sample_data[0]).flatten()"
   ]
  },
  {
   "cell_type": "code",
   "execution_count": 5,
   "metadata": {},
   "outputs": [],
   "source": [
    "clean=biobss.pipeline.Bio_Process(\n",
    "    process_method=biobss.ecgtools.filter_ecg,process_name=\"clean\",argmap={\"sampling_rate\":\"sampling_rate\"},method=\"pantompkins\")\n",
    "\n",
    "find_peaks = biobss.pipeline.Bio_Process(process_method=biobss.ecgtools.ecg_peaks,\n",
    "                                         process_name=\"rpeaks\",returns_event=True,event_args={\"event_name\":\"ECG_Peaks\"})\n",
    "\n",
    "\n",
    "pipeline = biobss.pipeline.Bio_Pipeline(windowed_process=True,window_size=5,step_size=1)\n",
    "\n",
    "pipeline.process_queue.add_process(clean,input_signals=\"ECG_Raw\",output_signals=\"ECG_Clean\")\n",
    "pipeline.process_queue.add_process(find_peaks,input_signals=\"ECG_Clean\",output_signals=\"ECG_Peaks\")\n",
    "\n",
    "channel=biobss.pipeline.Bio_Channel(signal=sample,name=\"ECG_Raw\",sampling_rate=sr)\n",
    "pipeline.set_input(channel)\n"
   ]
  },
  {
   "cell_type": "code",
   "execution_count": 6,
   "metadata": {},
   "outputs": [],
   "source": [
    "# Create feature extraction steps\n",
    "\n",
    "# Extract time domain features. input_signals dictionary contains feature prefixes as keys and input signals as values\n",
    "# For example rms of EDA_Tonic is extracted as Tonic_rms in this case\n",
    "Rpeak_features = biobss.pipeline.Feature(name=\"time_features\", function=biobss.ecgtools.from_Rpeaks, input_signals={'ECG_Raw':'ECG_Raw','Peaks':'Events_ECG_Raw'}, argmap={'sampling_rate':'sampling_rate'})\n"
   ]
  },
  {
   "cell_type": "code",
   "execution_count": 7,
   "metadata": {},
   "outputs": [
    {
     "name": "stderr",
     "output_type": "stream",
     "text": [
      "<string>:1: FutureWarning: Using a non-tuple sequence for multidimensional indexing is deprecated; use `arr[tuple(seq)]` instead of `arr[seq]`. In the future this will be interpreted as an array index, `arr[np.array(seq)]`, which will result either in an error or a different result.\n"
     ]
    },
    {
     "ename": "ValueError",
     "evalue": "Events must be a 1D array",
     "output_type": "error",
     "traceback": [
      "\u001b[1;31m---------------------------------------------------------------------------\u001b[0m",
      "\u001b[1;31mValueError\u001b[0m                                Traceback (most recent call last)",
      "Cell \u001b[1;32mIn[7], line 1\u001b[0m\n\u001b[1;32m----> 1\u001b[0m pipeline\u001b[39m.\u001b[39;49mrun_pipeline()\n",
      "File \u001b[1;32mc:\\Users\\cagatay\\Desktop\\Biobss Workspace\\peaktest\\BIOBSS\\BIOBSS\\biobss\\pipeline\\pipeline.py:145\u001b[0m, in \u001b[0;36mBio_Pipeline.run_pipeline\u001b[1;34m(self)\u001b[0m\n\u001b[0;32m    142\u001b[0m \u001b[39mif\u001b[39;00m \u001b[39mself\u001b[39m\u001b[39m.\u001b[39mwindowed:\n\u001b[0;32m    143\u001b[0m     \u001b[39mself\u001b[39m\u001b[39m.\u001b[39mconvert_windows()\n\u001b[1;32m--> 145\u001b[0m \u001b[39mself\u001b[39m\u001b[39m.\u001b[39mdata \u001b[39m=\u001b[39m \u001b[39mself\u001b[39;49m\u001b[39m.\u001b[39;49mprocess_queue\u001b[39m.\u001b[39;49mrun_process_queue(\u001b[39mself\u001b[39;49m\u001b[39m.\u001b[39;49mdata)\n",
      "File \u001b[1;32mc:\\Users\\cagatay\\Desktop\\Biobss Workspace\\peaktest\\BIOBSS\\BIOBSS\\biobss\\pipeline\\bioprocess_queue.py:35\u001b[0m, in \u001b[0;36mProcess_List.run_process_queue\u001b[1;34m(self, bio_data)\u001b[0m\n\u001b[0;32m     33\u001b[0m bio_data \u001b[39m=\u001b[39m bio_data\u001b[39m.\u001b[39mcopy()\n\u001b[0;32m     34\u001b[0m \u001b[39mfor\u001b[39;00m i \u001b[39min\u001b[39;00m \u001b[39mrange\u001b[39m(\u001b[39mlen\u001b[39m(\u001b[39mself\u001b[39m\u001b[39m.\u001b[39mprocess_list)):\n\u001b[1;32m---> 35\u001b[0m     bio_data \u001b[39m=\u001b[39m \u001b[39mself\u001b[39;49m\u001b[39m.\u001b[39;49mrun_next(bio_data)\n\u001b[0;32m     36\u001b[0m \u001b[39mreturn\u001b[39;00m bio_data\n",
      "File \u001b[1;32mc:\\Users\\cagatay\\Desktop\\Biobss Workspace\\peaktest\\BIOBSS\\BIOBSS\\biobss\\pipeline\\bioprocess_queue.py:54\u001b[0m, in \u001b[0;36mProcess_List.run_next\u001b[1;34m(self, bio_data)\u001b[0m\n\u001b[0;32m     51\u001b[0m \u001b[39melif\u001b[39;00m(\u001b[39misinstance\u001b[39m(inputs,\u001b[39mstr\u001b[39m)):\n\u001b[0;32m     52\u001b[0m     args\u001b[39m=\u001b[39m(bio_data[inputs],)\u001b[39m+\u001b[39margs\n\u001b[1;32m---> 54\u001b[0m result\u001b[39m=\u001b[39m\u001b[39mself\u001b[39;49m\u001b[39m.\u001b[39;49mprocess_list[\u001b[39mself\u001b[39;49m\u001b[39m.\u001b[39;49mprocessed_index]\u001b[39m.\u001b[39;49mprocess(\u001b[39m*\u001b[39;49margs,\u001b[39m*\u001b[39;49m\u001b[39m*\u001b[39;49mkwargs)    \n\u001b[0;32m     55\u001b[0m \u001b[39mif\u001b[39;00m(\u001b[39misinstance\u001b[39m(result, Bio_Channel)):\n\u001b[0;32m     56\u001b[0m     \u001b[39mif\u001b[39;00m(\u001b[39mnot\u001b[39;00m \u001b[39misinstance\u001b[39m(\u001b[39mself\u001b[39m\u001b[39m.\u001b[39moutput_signals[\u001b[39mself\u001b[39m\u001b[39m.\u001b[39mprocessed_index],\u001b[39mstr\u001b[39m)):\n",
      "File \u001b[1;32mc:\\Users\\cagatay\\Desktop\\Biobss Workspace\\peaktest\\BIOBSS\\BIOBSS\\biobss\\pipeline\\bio_process.py:74\u001b[0m, in \u001b[0;36mBio_Process.process\u001b[1;34m(self, signal, *args, **kwargs)\u001b[0m\n\u001b[0;32m     70\u001b[0m             \u001b[39mfor\u001b[39;00m i \u001b[39min\u001b[39;00m \u001b[39mrange\u001b[39m(signal\u001b[39m.\u001b[39mchannel\u001b[39m.\u001b[39mshape[\u001b[39m0\u001b[39m]):\n\u001b[0;32m     71\u001b[0m                 result\u001b[39m.\u001b[39mappend(\u001b[39mself\u001b[39m\u001b[39m.\u001b[39mprocess_method(\n\u001b[0;32m     72\u001b[0m                     signal\u001b[39m.\u001b[39mchannel[i],\u001b[39m*\u001b[39margs, \u001b[39m*\u001b[39m\u001b[39m*\u001b[39mkwargs))\n\u001b[1;32m---> 74\u001b[0m result \u001b[39m=\u001b[39m \u001b[39mself\u001b[39;49m\u001b[39m.\u001b[39;49m_process_results(signal, result)\n\u001b[0;32m     75\u001b[0m \u001b[39mreturn\u001b[39;00m result\n",
      "File \u001b[1;32mc:\\Users\\cagatay\\Desktop\\Biobss Workspace\\peaktest\\BIOBSS\\BIOBSS\\biobss\\pipeline\\bio_process.py:79\u001b[0m, in \u001b[0;36mBio_Process._process_results\u001b[1;34m(self, signal, result)\u001b[0m\n\u001b[0;32m     77\u001b[0m \u001b[39mdef\u001b[39;00m \u001b[39m_process_results\u001b[39m(\u001b[39mself\u001b[39m, signal: Bio_Channel, result):\n\u001b[0;32m     78\u001b[0m     \u001b[39mif\u001b[39;00m(\u001b[39mself\u001b[39m\u001b[39m.\u001b[39mreturns_event):\n\u001b[1;32m---> 79\u001b[0m         result\u001b[39m=\u001b[39m\u001b[39mself\u001b[39;49m\u001b[39m.\u001b[39;49m_process_event_results(signal,result)\n\u001b[0;32m     80\u001b[0m         \u001b[39mreturn\u001b[39;00m result\n\u001b[0;32m     81\u001b[0m     \u001b[39mif\u001b[39;00m \u001b[39misinstance\u001b[39m(result, Bio_Channel):\n",
      "File \u001b[1;32mc:\\Users\\cagatay\\Desktop\\Biobss Workspace\\peaktest\\BIOBSS\\BIOBSS\\biobss\\pipeline\\bio_process.py:192\u001b[0m, in \u001b[0;36mBio_Process._process_event_results\u001b[1;34m(self, signal, result)\u001b[0m\n\u001b[0;32m    188\u001b[0m     signal_name \u001b[39m=\u001b[39m \u001b[39mself\u001b[39m\u001b[39m.\u001b[39mreturn_index\n\u001b[0;32m    191\u001b[0m \u001b[39m# Create the Event_Channel object and return it\u001b[39;00m\n\u001b[1;32m--> 192\u001b[0m \u001b[39mreturn\u001b[39;00m Event_Channel(result, event_name\u001b[39m=\u001b[39;49msignal_name, timestamp_data\u001b[39m=\u001b[39;49mtimestamp, timestamp_resolution\u001b[39m=\u001b[39;49mtimestamp_resolution,\n\u001b[0;32m    193\u001b[0m                      indicator\u001b[39m=\u001b[39;49mindicator, is_signal\u001b[39m=\u001b[39;49mis_signal, sampling_rate\u001b[39m=\u001b[39;49msampling_rate)\n",
      "File \u001b[1;32mc:\\Users\\cagatay\\Desktop\\Biobss Workspace\\peaktest\\BIOBSS\\BIOBSS\\biobss\\pipeline\\event_channel.py:23\u001b[0m, in \u001b[0;36mEvent_Channel.__init__\u001b[1;34m(self, events, event_name, timestamp_data, timestamp_resolution, indicator, is_signal, sampling_rate)\u001b[0m\n\u001b[0;32m     21\u001b[0m     \u001b[39mraise\u001b[39;00m \u001b[39mValueError\u001b[39;00m(\u001b[39m\"\u001b[39m\u001b[39mEvents cannot be empty\u001b[39m\u001b[39m\"\u001b[39m)\n\u001b[0;32m     22\u001b[0m \u001b[39melif\u001b[39;00m(\u001b[39mlen\u001b[39m(np\u001b[39m.\u001b[39mshape(events)) \u001b[39m>\u001b[39m \u001b[39m1\u001b[39m):\n\u001b[1;32m---> 23\u001b[0m     \u001b[39mraise\u001b[39;00m \u001b[39mValueError\u001b[39;00m(\u001b[39m\"\u001b[39m\u001b[39mEvents must be a 1D array\u001b[39m\u001b[39m\"\u001b[39m)\n\u001b[0;32m     25\u001b[0m \u001b[39mif\u001b[39;00m(is_signal):\n\u001b[0;32m     26\u001b[0m     \u001b[39mif\u001b[39;00m(timestamp_data \u001b[39mis\u001b[39;00m \u001b[39mNone\u001b[39;00m):\n",
      "\u001b[1;31mValueError\u001b[0m: Events must be a 1D array"
     ]
    }
   ],
   "source": [
    "pipeline.run_pipeline()"
   ]
  },
  {
   "cell_type": "code",
   "execution_count": 22,
   "metadata": {},
   "outputs": [
    {
     "data": {
      "text/plain": [
       "Signal object with 2 channel(s)\n",
       "ECG_Raw (256Hz) (5.0s) (6 windows) ((6, 1280))\n",
       "ECG_Clean (256Hz) (5.0s) (6 windows) ((6, 1280))\n",
       "Event: Events_ECG_Clean"
      ]
     },
     "execution_count": 22,
     "metadata": {},
     "output_type": "execute_result"
    }
   ],
   "source": [
    "pipeline.data"
   ]
  },
  {
   "cell_type": "code",
   "execution_count": 10,
   "metadata": {},
   "outputs": [],
   "source": [
    "pipeline.extract_features()"
   ]
  },
  {
   "cell_type": "code",
   "execution_count": 38,
   "metadata": {},
   "outputs": [
    {
     "ename": "TypeError",
     "evalue": "'Bio_Channel' object is not subscriptable",
     "output_type": "error",
     "traceback": [
      "\u001b[1;31m---------------------------------------------------------------------------\u001b[0m",
      "\u001b[1;31mTypeError\u001b[0m                                 Traceback (most recent call last)",
      "Cell \u001b[1;32mIn[38], line 1\u001b[0m\n\u001b[1;32m----> 1\u001b[0m pipeline\u001b[39m.\u001b[39;49mdata[\u001b[39m'\u001b[39;49m\u001b[39mECG_Clean\u001b[39;49m\u001b[39m'\u001b[39;49m][\u001b[39m0\u001b[39;49m]\n",
      "\u001b[1;31mTypeError\u001b[0m: 'Bio_Channel' object is not subscriptable"
     ]
    }
   ],
   "source": [
    "pipeline.data['ECG_Clean'][0]\n",
    "# Make it subscriptable"
   ]
  },
  {
   "cell_type": "code",
   "execution_count": 35,
   "metadata": {},
   "outputs": [
    {
     "ename": "KeyError",
     "evalue": "0",
     "output_type": "error",
     "traceback": [
      "\u001b[1;31m---------------------------------------------------------------------------\u001b[0m",
      "\u001b[1;31mKeyError\u001b[0m                                  Traceback (most recent call last)",
      "File \u001b[1;32mc:\\Users\\cagatay\\miniconda3\\envs\\biobss_dev\\lib\\site-packages\\pandas\\core\\indexes\\base.py:3629\u001b[0m, in \u001b[0;36mIndex.get_loc\u001b[1;34m(self, key, method, tolerance)\u001b[0m\n\u001b[0;32m   3628\u001b[0m \u001b[39mtry\u001b[39;00m:\n\u001b[1;32m-> 3629\u001b[0m     \u001b[39mreturn\u001b[39;00m \u001b[39mself\u001b[39;49m\u001b[39m.\u001b[39;49m_engine\u001b[39m.\u001b[39;49mget_loc(casted_key)\n\u001b[0;32m   3630\u001b[0m \u001b[39mexcept\u001b[39;00m \u001b[39mKeyError\u001b[39;00m \u001b[39mas\u001b[39;00m err:\n",
      "File \u001b[1;32mc:\\Users\\cagatay\\miniconda3\\envs\\biobss_dev\\lib\\site-packages\\pandas\\_libs\\index.pyx:136\u001b[0m, in \u001b[0;36mpandas._libs.index.IndexEngine.get_loc\u001b[1;34m()\u001b[0m\n",
      "File \u001b[1;32mc:\\Users\\cagatay\\miniconda3\\envs\\biobss_dev\\lib\\site-packages\\pandas\\_libs\\index.pyx:163\u001b[0m, in \u001b[0;36mpandas._libs.index.IndexEngine.get_loc\u001b[1;34m()\u001b[0m\n",
      "File \u001b[1;32mpandas\\_libs\\hashtable_class_helper.pxi:1533\u001b[0m, in \u001b[0;36mpandas._libs.hashtable.Float64HashTable.get_item\u001b[1;34m()\u001b[0m\n",
      "File \u001b[1;32mpandas\\_libs\\hashtable_class_helper.pxi:1542\u001b[0m, in \u001b[0;36mpandas._libs.hashtable.Float64HashTable.get_item\u001b[1;34m()\u001b[0m\n",
      "\u001b[1;31mKeyError\u001b[0m: 0.0",
      "\nThe above exception was the direct cause of the following exception:\n",
      "\u001b[1;31mKeyError\u001b[0m                                  Traceback (most recent call last)",
      "Cell \u001b[1;32mIn[35], line 1\u001b[0m\n\u001b[1;32m----> 1\u001b[0m pipeline\u001b[39m.\u001b[39;49mdata[\u001b[39m'\u001b[39;49m\u001b[39mEvents_ECG_Clean\u001b[39;49m\u001b[39m'\u001b[39;49m]\u001b[39m.\u001b[39;49mcontent[\u001b[39m0\u001b[39;49m]\n",
      "File \u001b[1;32mc:\\Users\\cagatay\\miniconda3\\envs\\biobss_dev\\lib\\site-packages\\pandas\\core\\series.py:958\u001b[0m, in \u001b[0;36mSeries.__getitem__\u001b[1;34m(self, key)\u001b[0m\n\u001b[0;32m    955\u001b[0m     \u001b[39mreturn\u001b[39;00m \u001b[39mself\u001b[39m\u001b[39m.\u001b[39m_values[key]\n\u001b[0;32m    957\u001b[0m \u001b[39melif\u001b[39;00m key_is_scalar:\n\u001b[1;32m--> 958\u001b[0m     \u001b[39mreturn\u001b[39;00m \u001b[39mself\u001b[39;49m\u001b[39m.\u001b[39;49m_get_value(key)\n\u001b[0;32m    960\u001b[0m \u001b[39mif\u001b[39;00m is_hashable(key):\n\u001b[0;32m    961\u001b[0m     \u001b[39m# Otherwise index.get_value will raise InvalidIndexError\u001b[39;00m\n\u001b[0;32m    962\u001b[0m     \u001b[39mtry\u001b[39;00m:\n\u001b[0;32m    963\u001b[0m         \u001b[39m# For labels that don't resolve as scalars like tuples and frozensets\u001b[39;00m\n",
      "File \u001b[1;32mc:\\Users\\cagatay\\miniconda3\\envs\\biobss_dev\\lib\\site-packages\\pandas\\core\\series.py:1069\u001b[0m, in \u001b[0;36mSeries._get_value\u001b[1;34m(self, label, takeable)\u001b[0m\n\u001b[0;32m   1066\u001b[0m     \u001b[39mreturn\u001b[39;00m \u001b[39mself\u001b[39m\u001b[39m.\u001b[39m_values[label]\n\u001b[0;32m   1068\u001b[0m \u001b[39m# Similar to Index.get_value, but we do not fall back to positional\u001b[39;00m\n\u001b[1;32m-> 1069\u001b[0m loc \u001b[39m=\u001b[39m \u001b[39mself\u001b[39;49m\u001b[39m.\u001b[39;49mindex\u001b[39m.\u001b[39;49mget_loc(label)\n\u001b[0;32m   1070\u001b[0m \u001b[39mreturn\u001b[39;00m \u001b[39mself\u001b[39m\u001b[39m.\u001b[39mindex\u001b[39m.\u001b[39m_get_values_for_loc(\u001b[39mself\u001b[39m, loc, label)\n",
      "File \u001b[1;32mc:\\Users\\cagatay\\miniconda3\\envs\\biobss_dev\\lib\\site-packages\\pandas\\core\\indexes\\base.py:3631\u001b[0m, in \u001b[0;36mIndex.get_loc\u001b[1;34m(self, key, method, tolerance)\u001b[0m\n\u001b[0;32m   3629\u001b[0m     \u001b[39mreturn\u001b[39;00m \u001b[39mself\u001b[39m\u001b[39m.\u001b[39m_engine\u001b[39m.\u001b[39mget_loc(casted_key)\n\u001b[0;32m   3630\u001b[0m \u001b[39mexcept\u001b[39;00m \u001b[39mKeyError\u001b[39;00m \u001b[39mas\u001b[39;00m err:\n\u001b[1;32m-> 3631\u001b[0m     \u001b[39mraise\u001b[39;00m \u001b[39mKeyError\u001b[39;00m(key) \u001b[39mfrom\u001b[39;00m \u001b[39merr\u001b[39;00m\n\u001b[0;32m   3632\u001b[0m \u001b[39mexcept\u001b[39;00m \u001b[39mTypeError\u001b[39;00m:\n\u001b[0;32m   3633\u001b[0m     \u001b[39m# If we have a listlike key, _check_indexing_error will raise\u001b[39;00m\n\u001b[0;32m   3634\u001b[0m     \u001b[39m#  InvalidIndexError. Otherwise we fall through and re-raise\u001b[39;00m\n\u001b[0;32m   3635\u001b[0m     \u001b[39m#  the TypeError.\u001b[39;00m\n\u001b[0;32m   3636\u001b[0m     \u001b[39mself\u001b[39m\u001b[39m.\u001b[39m_check_indexing_error(key)\n",
      "\u001b[1;31mKeyError\u001b[0m: 0"
     ]
    }
   ],
   "source": [
    "\n",
    "pipeline.data['Events_ECG_Clean'].content[0]"
   ]
  },
  {
   "cell_type": "code",
   "execution_count": null,
   "metadata": {},
   "outputs": [],
   "source": [
    "a=[]\n",
    "a.append([1,2,3])\n",
    "a.append([1,2,3,4])\n",
    "a.append([1,2,3,5,6])\n",
    "a.append([1,2,3,4,5,6,7])"
   ]
  },
  {
   "cell_type": "code",
   "execution_count": null,
   "metadata": {},
   "outputs": [],
   "source": [
    "import numpy as np"
   ]
  }
 ],
 "metadata": {
  "kernelspec": {
   "display_name": "biobss_dev",
   "language": "python",
   "name": "python3"
  },
  "language_info": {
   "codemirror_mode": {
    "name": "ipython",
    "version": 3
   },
   "file_extension": ".py",
   "mimetype": "text/x-python",
   "name": "python",
   "nbconvert_exporter": "python",
   "pygments_lexer": "ipython3",
   "version": "3.8.0"
  },
  "orig_nbformat": 4,
  "vscode": {
   "interpreter": {
    "hash": "e2da08f22468fb3696c83331e9a8c56525a02dc4129e32fd96f2f3d0a3b229d8"
   }
  }
 },
 "nbformat": 4,
 "nbformat_minor": 2
}
