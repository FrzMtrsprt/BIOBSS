{
 "cells": [
  {
   "cell_type": "code",
   "execution_count": 1,
   "metadata": {},
   "outputs": [],
   "source": [
    "import sys\n",
    "import pandas as pd\n",
    "import numpy as np\n",
    "\n",
    "sys.path.append(\"../\")\n",
    "import biobss\n",
    "import matplotlib.pyplot as plt\n",
    "import neurokit2 as nk\n",
    "from plotly_resampler import register_plotly_resampler"
   ]
  },
  {
   "cell_type": "code",
   "execution_count": 2,
   "metadata": {},
   "outputs": [],
   "source": [
    "import importlib\n",
    "import sys\n",
    "import pandas as pd\n",
    "import numpy as np\n",
    "\n",
    "sys.path.append(\"../\")\n",
    "import biobss\n",
    "import os\n",
    "os.getcwd()\n",
    "import neurokit2 as nk\n",
    "sample_data = biobss.utils.load_sample_data(\"ECG\")"
   ]
  },
  {
   "cell_type": "code",
   "execution_count": 3,
   "metadata": {},
   "outputs": [],
   "source": [
    "sr=256"
   ]
  },
  {
   "cell_type": "code",
   "execution_count": 4,
   "metadata": {},
   "outputs": [],
   "source": [
    "sample=np.array(sample_data[0]).flatten()"
   ]
  },
  {
   "cell_type": "code",
   "execution_count": 5,
   "metadata": {},
   "outputs": [],
   "source": [
    "clean=biobss.pipeline.Bio_Process(\n",
    "    process_method=biobss.ecgtools.filter_ecg,process_name=\"clean\",argmap={\"sampling_rate\":\"sampling_rate\"},method=\"pantompkins\")\n",
    "\n",
    "find_peaks = biobss.pipeline.Bio_Process(process_method=biobss.ecgtools.ecg_peaks.ecg_detectpeaks,\n",
    "                                         process_name=\"rpeaks\",returns_event=True,event_args={\"event_name\":\"ECG_Peaks\"})\n",
    "\n",
    "\n",
    "pipeline = biobss.pipeline.Bio_Pipeline(windowed_process=True,window_size=5,step_size=1)\n",
    "\n",
    "pipeline.process_queue.add_process(clean,input_signals=\"ECG_Raw\",output_signals=\"ECG_Clean\")\n",
    "pipeline.process_queue.add_process(find_peaks,input_signals=\"ECG_Clean\",output_signals=\"ECG_Peaks\")\n",
    "\n",
    "channel=biobss.pipeline.Bio_Channel(signal=sample,name=\"ECG_Raw\",sampling_rate=sr)\n",
    "pipeline.set_input(channel)\n"
   ]
  },
  {
   "cell_type": "code",
   "execution_count": 6,
   "metadata": {},
   "outputs": [
    {
     "data": {
      "text/plain": [
       "Bio_Pipeline:\n",
       "\tPreprocessors: Process list:\n",
       "\n",
       "\tProcessors: Process list:\n",
       "\t1: clean(ECG_Raw) -> ECG_Clean\n",
       "\t2: rpeaks(ECG_Clean) -> ECG_Peaks\n",
       "\n",
       "\tPostprocessors: Process list:\n",
       "\n",
       "\tWindow Size(Seconds): 5\n",
       "\tStep Size: 1"
      ]
     },
     "execution_count": 6,
     "metadata": {},
     "output_type": "execute_result"
    }
   ],
   "source": [
    "pipeline"
   ]
  },
  {
   "cell_type": "code",
   "execution_count": 7,
   "metadata": {},
   "outputs": [],
   "source": [
    "# Create feature extraction steps\n",
    "\n",
    "# Extract time domain features. input_signals dictionary contains feature prefixes as keys and input signals as values\n",
    "# For example rms of EDA_Tonic is extracted as Tonic_rms in this case\n",
    "Rpeak_features = biobss.pipeline.Feature(name=\"time_features\", function=biobss.ecgtools.from_Rpeaks, sampling_rate=sr)\n",
    "stat_features = biobss.pipeline.Feature(name=\"stat_features\", function=biobss.edatools.eda_stat_features)"
   ]
  },
  {
   "cell_type": "code",
   "execution_count": 8,
   "metadata": {},
   "outputs": [],
   "source": [
    "pipeline.run_pipeline()"
   ]
  },
  {
   "cell_type": "code",
   "execution_count": 9,
   "metadata": {},
   "outputs": [],
   "source": [
    "pipeline.add_feature_step(Rpeak_features,input_signals=['ECG_Raw','Events_ECG_Clean'])\n",
    "pipeline.add_feature_step(stat_features,input_signals=['ECG_Clean'],prefix=\"ECG\")"
   ]
  },
  {
   "cell_type": "code",
   "execution_count": 10,
   "metadata": {},
   "outputs": [
    {
     "data": {
      "text/plain": [
       "Bio_Pipeline:\n",
       "\tPreprocessors: Process list:\n",
       "\n",
       "\tProcessors: Process list:\n",
       "\t1: clean(ECG_Raw) -> ECG_Clean\n",
       "\t2: rpeaks(ECG_Clean) -> ECG_Peaks\n",
       "\n",
       "\tPostprocessors: Process list:\n",
       "\n",
       "\tWindow Size(Seconds): 5\n",
       "\tStep Size: 1"
      ]
     },
     "execution_count": 10,
     "metadata": {},
     "output_type": "execute_result"
    }
   ],
   "source": [
    "pipeline"
   ]
  },
  {
   "cell_type": "code",
   "execution_count": 11,
   "metadata": {},
   "outputs": [
    {
     "data": {
      "text/plain": [
       "[array([ 359.375  , 1007.8125 , 1644.53125, 2285.15625, 2957.03125,\n",
       "        3613.28125, 4261.71875, 4898.4375 ]),\n",
       " array([1332.03125, 1644.53125, 2285.15625, 2957.03125, 3613.28125,\n",
       "        4261.71875, 4898.4375 , 5539.0625 ]),\n",
       " array([2324.21875, 2886.71875, 3613.28125, 4261.71875, 4898.4375 ,\n",
       "        5539.0625 , 6183.59375, 6839.84375]),\n",
       " array([3332.03125, 3656.25   , 4191.40625, 4898.4375 , 5539.0625 ,\n",
       "        6183.59375, 6839.84375, 7472.65625]),\n",
       " array([4304.6875 , 4824.21875, 5539.0625 , 6183.59375, 6839.84375,\n",
       "        7472.65625, 8113.28125, 8761.71875]),\n",
       " array([5324.21875, 5628.90625, 6183.59375, 6839.84375, 7472.65625,\n",
       "        8113.28125, 8761.71875, 9425.78125])]"
      ]
     },
     "execution_count": 11,
     "metadata": {},
     "output_type": "execute_result"
    }
   ],
   "source": [
    "pipeline.data['Events_ECG_Clean'].timestamp_data"
   ]
  },
  {
   "cell_type": "code",
   "execution_count": 12,
   "metadata": {},
   "outputs": [
    {
     "data": {
      "text/plain": [
       "[[0.0, 4996.09375],\n",
       " [1000.0, 5996.09375],\n",
       " [2000.0, 6996.09375],\n",
       " [3000.0, 7996.09375],\n",
       " [4000.0, 8996.09375],\n",
       " [5000.0, 9996.09375]]"
      ]
     },
     "execution_count": 12,
     "metadata": {},
     "output_type": "execute_result"
    }
   ],
   "source": [
    "pipeline.data['Events_ECG_Clean'].window_timestamps"
   ]
  },
  {
   "cell_type": "code",
   "execution_count": 13,
   "metadata": {},
   "outputs": [],
   "source": [
    "pipeline.extract_features()"
   ]
  },
  {
   "cell_type": "code",
   "execution_count": 14,
   "metadata": {},
   "outputs": [
    {
     "data": {
      "text/html": [
       "<div>\n",
       "<style scoped>\n",
       "    .dataframe tbody tr th:only-of-type {\n",
       "        vertical-align: middle;\n",
       "    }\n",
       "\n",
       "    .dataframe tbody tr th {\n",
       "        vertical-align: top;\n",
       "    }\n",
       "\n",
       "    .dataframe thead th {\n",
       "        text-align: right;\n",
       "    }\n",
       "</style>\n",
       "<table border=\"1\" class=\"dataframe\">\n",
       "  <thead>\n",
       "    <tr style=\"text-align: right;\">\n",
       "      <th></th>\n",
       "      <th>ecg_a_R</th>\n",
       "      <th>ecg_RR0</th>\n",
       "      <th>ecg_RR1</th>\n",
       "      <th>ecg_RR2</th>\n",
       "      <th>ecg_RRm</th>\n",
       "      <th>ecg_RR_0_1</th>\n",
       "      <th>ecg_RR_2_1</th>\n",
       "      <th>ecg_RR_m_1</th>\n",
       "      <th>ECG_mean</th>\n",
       "      <th>ECG_std</th>\n",
       "      <th>ECG_max</th>\n",
       "      <th>ECG_min</th>\n",
       "      <th>ECG_range</th>\n",
       "      <th>ECG_kurtosis</th>\n",
       "      <th>ECG_skew</th>\n",
       "      <th>ECG_momentum</th>\n",
       "    </tr>\n",
       "  </thead>\n",
       "  <tbody>\n",
       "    <tr>\n",
       "      <th>0.0</th>\n",
       "      <td>[0.372, 0.454, 0.125, 0.249, 0.134]</td>\n",
       "      <td>[0.6484375, 0.63671875, 0.640625, 0.671875, 0....</td>\n",
       "      <td>[0.63671875, 0.640625, 0.671875, 0.65625, 0.64...</td>\n",
       "      <td>[0.640625, 0.671875, 0.65625, 0.6484375, 0.636...</td>\n",
       "      <td>[0.6419270833333334, 0.6497395833333334, 0.656...</td>\n",
       "      <td>[1.01840490797546, 0.9939024390243902, 0.95348...</td>\n",
       "      <td>[1.0061349693251533, 1.048780487804878, 0.9767...</td>\n",
       "      <td>[1.0081799591002045, 1.014227642276423, 0.9767...</td>\n",
       "      <td>-0.000339</td>\n",
       "      <td>0.053742</td>\n",
       "      <td>0.221432</td>\n",
       "      <td>-0.132590</td>\n",
       "      <td>0.354022</td>\n",
       "      <td>1.986408</td>\n",
       "      <td>0.758343</td>\n",
       "      <td>0.002888</td>\n",
       "    </tr>\n",
       "    <tr>\n",
       "      <th>1000.0</th>\n",
       "      <td>[0.454, 0.125, 0.249, 0.134, 0.378]</td>\n",
       "      <td>[0.3125, 0.640625, 0.671875, 0.65625, 0.6484375]</td>\n",
       "      <td>[0.640625, 0.671875, 0.65625, 0.6484375, 0.636...</td>\n",
       "      <td>[0.671875, 0.65625, 0.6484375, 0.63671875, 0.6...</td>\n",
       "      <td>[0.5416666666666666, 0.65625, 0.65885416666666...</td>\n",
       "      <td>[0.4878048780487805, 0.9534883720930233, 1.023...</td>\n",
       "      <td>[1.048780487804878, 0.9767441860465116, 0.9880...</td>\n",
       "      <td>[0.8455284552845528, 0.9767441860465116, 1.003...</td>\n",
       "      <td>0.000160</td>\n",
       "      <td>0.051982</td>\n",
       "      <td>0.221432</td>\n",
       "      <td>-0.132590</td>\n",
       "      <td>0.354022</td>\n",
       "      <td>1.980885</td>\n",
       "      <td>0.705849</td>\n",
       "      <td>0.002702</td>\n",
       "    </tr>\n",
       "    <tr>\n",
       "      <th>2000.0</th>\n",
       "      <td>[-0.064, 0.134, 0.378, 0.389, 0.222]</td>\n",
       "      <td>[0.5625, 0.7265625, 0.6484375, 0.63671875, 0.6...</td>\n",
       "      <td>[0.7265625, 0.6484375, 0.63671875, 0.640625, 0...</td>\n",
       "      <td>[0.6484375, 0.63671875, 0.640625, 0.64453125, ...</td>\n",
       "      <td>[0.6458333333333334, 0.6705729166666666, 0.641...</td>\n",
       "      <td>[0.7741935483870968, 1.1204819277108433, 1.018...</td>\n",
       "      <td>[0.8924731182795699, 0.9819277108433735, 1.006...</td>\n",
       "      <td>[0.888888888888889, 1.034136546184739, 1.00817...</td>\n",
       "      <td>-0.000032</td>\n",
       "      <td>0.052829</td>\n",
       "      <td>0.221432</td>\n",
       "      <td>-0.132590</td>\n",
       "      <td>0.354022</td>\n",
       "      <td>1.901770</td>\n",
       "      <td>0.706685</td>\n",
       "      <td>0.002791</td>\n",
       "    </tr>\n",
       "    <tr>\n",
       "      <th>3000.0</th>\n",
       "      <td>[-0.217, -0.063, 0.389, 0.222, 0.175]</td>\n",
       "      <td>[0.32421875, 0.53515625, 0.70703125, 0.640625,...</td>\n",
       "      <td>[0.53515625, 0.70703125, 0.640625, 0.64453125,...</td>\n",
       "      <td>[0.70703125, 0.640625, 0.64453125, 0.65625, 0....</td>\n",
       "      <td>[0.5221354166666666, 0.6276041666666666, 0.664...</td>\n",
       "      <td>[0.6058394160583942, 0.7569060773480663, 1.103...</td>\n",
       "      <td>[1.3211678832116789, 0.9060773480662984, 1.006...</td>\n",
       "      <td>[0.9756690997566909, 0.8876611418047882, 1.036...</td>\n",
       "      <td>0.000331</td>\n",
       "      <td>0.051645</td>\n",
       "      <td>0.221432</td>\n",
       "      <td>-0.128796</td>\n",
       "      <td>0.350229</td>\n",
       "      <td>2.211473</td>\n",
       "      <td>0.763516</td>\n",
       "      <td>0.002667</td>\n",
       "    </tr>\n",
       "    <tr>\n",
       "      <th>4000.0</th>\n",
       "      <td>[-0.077, 0.222, 0.175, 0.436, 0.343]</td>\n",
       "      <td>[0.51953125, 0.71484375, 0.64453125, 0.65625, ...</td>\n",
       "      <td>[0.71484375, 0.64453125, 0.65625, 0.6328125, 0...</td>\n",
       "      <td>[0.64453125, 0.65625, 0.6328125, 0.640625, 0.6...</td>\n",
       "      <td>[0.6263020833333334, 0.671875, 0.64453125, 0.6...</td>\n",
       "      <td>[0.726775956284153, 1.1090909090909091, 0.9821...</td>\n",
       "      <td>[0.9016393442622951, 1.018181818181818, 0.9642...</td>\n",
       "      <td>[0.8761384335154827, 1.0424242424242425, 0.982...</td>\n",
       "      <td>0.000044</td>\n",
       "      <td>0.053749</td>\n",
       "      <td>0.221431</td>\n",
       "      <td>-0.133306</td>\n",
       "      <td>0.354736</td>\n",
       "      <td>1.984512</td>\n",
       "      <td>0.731601</td>\n",
       "      <td>0.002889</td>\n",
       "    </tr>\n",
       "    <tr>\n",
       "      <th>5000.0</th>\n",
       "      <td>[-0.007, 0.175, 0.436, 0.343, 0.15]</td>\n",
       "      <td>[0.3046875, 0.5546875, 0.65625, 0.6328125, 0.6...</td>\n",
       "      <td>[0.5546875, 0.65625, 0.6328125, 0.640625, 0.64...</td>\n",
       "      <td>[0.65625, 0.6328125, 0.640625, 0.6484375, 0.66...</td>\n",
       "      <td>[0.5052083333333334, 0.6145833333333334, 0.643...</td>\n",
       "      <td>[0.5492957746478874, 0.8452380952380952, 1.037...</td>\n",
       "      <td>[1.1830985915492958, 0.9642857142857143, 1.012...</td>\n",
       "      <td>[0.9107981220657277, 0.9365079365079365, 1.016...</td>\n",
       "      <td>0.000474</td>\n",
       "      <td>0.051075</td>\n",
       "      <td>0.204114</td>\n",
       "      <td>-0.133314</td>\n",
       "      <td>0.337428</td>\n",
       "      <td>1.879659</td>\n",
       "      <td>0.659768</td>\n",
       "      <td>0.002609</td>\n",
       "    </tr>\n",
       "  </tbody>\n",
       "</table>\n",
       "</div>"
      ],
      "text/plain": [
       "                                      ecg_a_R  \\\n",
       "0.0       [0.372, 0.454, 0.125, 0.249, 0.134]   \n",
       "1000.0    [0.454, 0.125, 0.249, 0.134, 0.378]   \n",
       "2000.0   [-0.064, 0.134, 0.378, 0.389, 0.222]   \n",
       "3000.0  [-0.217, -0.063, 0.389, 0.222, 0.175]   \n",
       "4000.0   [-0.077, 0.222, 0.175, 0.436, 0.343]   \n",
       "5000.0    [-0.007, 0.175, 0.436, 0.343, 0.15]   \n",
       "\n",
       "                                                  ecg_RR0  \\\n",
       "0.0     [0.6484375, 0.63671875, 0.640625, 0.671875, 0....   \n",
       "1000.0   [0.3125, 0.640625, 0.671875, 0.65625, 0.6484375]   \n",
       "2000.0  [0.5625, 0.7265625, 0.6484375, 0.63671875, 0.6...   \n",
       "3000.0  [0.32421875, 0.53515625, 0.70703125, 0.640625,...   \n",
       "4000.0  [0.51953125, 0.71484375, 0.64453125, 0.65625, ...   \n",
       "5000.0  [0.3046875, 0.5546875, 0.65625, 0.6328125, 0.6...   \n",
       "\n",
       "                                                  ecg_RR1  \\\n",
       "0.0     [0.63671875, 0.640625, 0.671875, 0.65625, 0.64...   \n",
       "1000.0  [0.640625, 0.671875, 0.65625, 0.6484375, 0.636...   \n",
       "2000.0  [0.7265625, 0.6484375, 0.63671875, 0.640625, 0...   \n",
       "3000.0  [0.53515625, 0.70703125, 0.640625, 0.64453125,...   \n",
       "4000.0  [0.71484375, 0.64453125, 0.65625, 0.6328125, 0...   \n",
       "5000.0  [0.5546875, 0.65625, 0.6328125, 0.640625, 0.64...   \n",
       "\n",
       "                                                  ecg_RR2  \\\n",
       "0.0     [0.640625, 0.671875, 0.65625, 0.6484375, 0.636...   \n",
       "1000.0  [0.671875, 0.65625, 0.6484375, 0.63671875, 0.6...   \n",
       "2000.0  [0.6484375, 0.63671875, 0.640625, 0.64453125, ...   \n",
       "3000.0  [0.70703125, 0.640625, 0.64453125, 0.65625, 0....   \n",
       "4000.0  [0.64453125, 0.65625, 0.6328125, 0.640625, 0.6...   \n",
       "5000.0  [0.65625, 0.6328125, 0.640625, 0.6484375, 0.66...   \n",
       "\n",
       "                                                  ecg_RRm  \\\n",
       "0.0     [0.6419270833333334, 0.6497395833333334, 0.656...   \n",
       "1000.0  [0.5416666666666666, 0.65625, 0.65885416666666...   \n",
       "2000.0  [0.6458333333333334, 0.6705729166666666, 0.641...   \n",
       "3000.0  [0.5221354166666666, 0.6276041666666666, 0.664...   \n",
       "4000.0  [0.6263020833333334, 0.671875, 0.64453125, 0.6...   \n",
       "5000.0  [0.5052083333333334, 0.6145833333333334, 0.643...   \n",
       "\n",
       "                                               ecg_RR_0_1  \\\n",
       "0.0     [1.01840490797546, 0.9939024390243902, 0.95348...   \n",
       "1000.0  [0.4878048780487805, 0.9534883720930233, 1.023...   \n",
       "2000.0  [0.7741935483870968, 1.1204819277108433, 1.018...   \n",
       "3000.0  [0.6058394160583942, 0.7569060773480663, 1.103...   \n",
       "4000.0  [0.726775956284153, 1.1090909090909091, 0.9821...   \n",
       "5000.0  [0.5492957746478874, 0.8452380952380952, 1.037...   \n",
       "\n",
       "                                               ecg_RR_2_1  \\\n",
       "0.0     [1.0061349693251533, 1.048780487804878, 0.9767...   \n",
       "1000.0  [1.048780487804878, 0.9767441860465116, 0.9880...   \n",
       "2000.0  [0.8924731182795699, 0.9819277108433735, 1.006...   \n",
       "3000.0  [1.3211678832116789, 0.9060773480662984, 1.006...   \n",
       "4000.0  [0.9016393442622951, 1.018181818181818, 0.9642...   \n",
       "5000.0  [1.1830985915492958, 0.9642857142857143, 1.012...   \n",
       "\n",
       "                                               ecg_RR_m_1  ECG_mean   ECG_std  \\\n",
       "0.0     [1.0081799591002045, 1.014227642276423, 0.9767... -0.000339  0.053742   \n",
       "1000.0  [0.8455284552845528, 0.9767441860465116, 1.003...  0.000160  0.051982   \n",
       "2000.0  [0.888888888888889, 1.034136546184739, 1.00817... -0.000032  0.052829   \n",
       "3000.0  [0.9756690997566909, 0.8876611418047882, 1.036...  0.000331  0.051645   \n",
       "4000.0  [0.8761384335154827, 1.0424242424242425, 0.982...  0.000044  0.053749   \n",
       "5000.0  [0.9107981220657277, 0.9365079365079365, 1.016...  0.000474  0.051075   \n",
       "\n",
       "         ECG_max   ECG_min  ECG_range  ECG_kurtosis  ECG_skew  ECG_momentum  \n",
       "0.0     0.221432 -0.132590   0.354022      1.986408  0.758343      0.002888  \n",
       "1000.0  0.221432 -0.132590   0.354022      1.980885  0.705849      0.002702  \n",
       "2000.0  0.221432 -0.132590   0.354022      1.901770  0.706685      0.002791  \n",
       "3000.0  0.221432 -0.128796   0.350229      2.211473  0.763516      0.002667  \n",
       "4000.0  0.221431 -0.133306   0.354736      1.984512  0.731601      0.002889  \n",
       "5000.0  0.204114 -0.133314   0.337428      1.879659  0.659768      0.002609  "
      ]
     },
     "execution_count": 14,
     "metadata": {},
     "output_type": "execute_result"
    }
   ],
   "source": [
    "pipeline.features"
   ]
  }
 ],
 "metadata": {
  "kernelspec": {
   "display_name": "biolib",
   "language": "python",
   "name": "python3"
  },
  "language_info": {
   "codemirror_mode": {
    "name": "ipython",
    "version": 3
   },
   "file_extension": ".py",
   "mimetype": "text/x-python",
   "name": "python",
   "nbconvert_exporter": "python",
   "pygments_lexer": "ipython3",
   "version": "3.8.12"
  },
  "orig_nbformat": 4,
  "vscode": {
   "interpreter": {
    "hash": "2fa1c4f98c7b87941450f311ed7a57ace56542b965a97c9ab1a41e28cb5fe538"
   }
  }
 },
 "nbformat": 4,
 "nbformat_minor": 2
}
