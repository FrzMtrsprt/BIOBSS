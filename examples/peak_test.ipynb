{
 "cells": [
  {
   "cell_type": "code",
   "execution_count": 1,
   "metadata": {},
   "outputs": [
    {
     "name": "stderr",
     "output_type": "stream",
     "text": [
      "c:\\Users\\cagatay\\miniconda3\\envs\\biobss_dev\\lib\\site-packages\\plotly_resampler\\aggregation\\aggregators.py:24: UserWarning: Could not import lttbc; will use a (slower) python alternative.\n",
      "  warnings.warn(\"Could not import lttbc; will use a (slower) python alternative.\")\n"
     ]
    }
   ],
   "source": [
    "import sys\n",
    "import pandas as pd\n",
    "import numpy as np\n",
    "\n",
    "sys.path.append(\"../\")\n",
    "import biobss\n",
    "import matplotlib.pyplot as plt\n",
    "import neurokit2 as nk\n",
    "from plotly_resampler import register_plotly_resampler"
   ]
  },
  {
   "cell_type": "code",
   "execution_count": 2,
   "metadata": {},
   "outputs": [],
   "source": [
    "import importlib\n",
    "import sys\n",
    "import pandas as pd\n",
    "import numpy as np\n",
    "\n",
    "sys.path.append(\"../\")\n",
    "import biobss\n",
    "import os\n",
    "os.getcwd()\n",
    "import neurokit2 as nk\n",
    "sample_data = biobss.utils.load_sample_data(\"ECG\")"
   ]
  },
  {
   "cell_type": "code",
   "execution_count": 3,
   "metadata": {},
   "outputs": [],
   "source": [
    "sr=256"
   ]
  },
  {
   "cell_type": "code",
   "execution_count": 4,
   "metadata": {},
   "outputs": [],
   "source": [
    "sample=np.array(sample_data[0]).flatten()"
   ]
  },
  {
   "cell_type": "code",
   "execution_count": 5,
   "metadata": {},
   "outputs": [],
   "source": [
    "clean=biobss.pipeline.Bio_Process(\n",
    "    process_method=biobss.ecgtools.filter_ecg,process_name=\"clean\",argmap={\"sampling_rate\":\"sampling_rate\"},method=\"pantompkins\")\n",
    "\n",
    "find_peaks = biobss.pipeline.Bio_Process(process_method=biobss.ecgtools.ecg_peaks,\n",
    "                                         process_name=\"rpeaks\",returns_event=True,event_args={\"event_name\":\"ECG_Peaks\"})\n",
    "\n",
    "\n",
    "pipeline = biobss.pipeline.Bio_Pipeline()\n",
    "\n",
    "pipeline.process_queue.add_process(clean,input_signals=\"ECG_Raw\",output_signals=\"ECG_Clean\")\n",
    "pipeline.process_queue.add_process(find_peaks,input_signals=\"ECG_Clean\",output_signals=\"ECG_Peaks\")\n",
    "\n",
    "channel=biobss.pipeline.Bio_Channel(signal=sample,name=\"ECG_Raw\",sampling_rate=sr)\n",
    "pipeline.set_input(channel)\n"
   ]
  },
  {
   "cell_type": "code",
   "execution_count": 6,
   "metadata": {},
   "outputs": [
    {
     "data": {
      "text/plain": [
       "Bio_Pipeline:\n",
       "\tPreprocessors: Process list:\n",
       "\n",
       "\tProcessors: Process list:\n",
       "\t1: clean(ECG_Raw) -> ECG_Clean\n",
       "\t2: rpeaks(ECG_Clean) -> ECG_Peaks\n",
       "\n",
       "\tPostprocessors: Process list:\n",
       "\n",
       "\tWindow Size(Seconds): Not Windowed\n",
       "\tStep Size: Not Windowed"
      ]
     },
     "execution_count": 6,
     "metadata": {},
     "output_type": "execute_result"
    }
   ],
   "source": [
    "pipeline"
   ]
  },
  {
   "cell_type": "code",
   "execution_count": 7,
   "metadata": {},
   "outputs": [],
   "source": [
    "# Create feature extraction steps\n",
    "\n",
    "# Extract time domain features. input_signals dictionary contains feature prefixes as keys and input signals as values\n",
    "# For example rms of EDA_Tonic is extracted as Tonic_rms in this case\n",
    "Rpeak_features = biobss.pipeline.Feature(name=\"time_features\", function=biobss.ecgtools.from_Rpeaks, input_signals=['ECG_Raw','Events_ECG_Raw'], sampling_rate=sr)\n"
   ]
  },
  {
   "cell_type": "code",
   "execution_count": 8,
   "metadata": {},
   "outputs": [],
   "source": [
    "pipeline.run_pipeline()"
   ]
  },
  {
   "cell_type": "code",
   "execution_count": 9,
   "metadata": {},
   "outputs": [],
   "source": [
    "pipeline.add_feature_step(Rpeak_features,input_signals=['ECG_Raw','Events_ECG_Clean'])"
   ]
  },
  {
   "cell_type": "code",
   "execution_count": 10,
   "metadata": {},
   "outputs": [],
   "source": [
    "pipeline.extract_features()"
   ]
  },
  {
   "cell_type": "code",
   "execution_count": 11,
   "metadata": {},
   "outputs": [
    {
     "data": {
      "text/html": [
       "<div>\n",
       "<style scoped>\n",
       "    .dataframe tbody tr th:only-of-type {\n",
       "        vertical-align: middle;\n",
       "    }\n",
       "\n",
       "    .dataframe tbody tr th {\n",
       "        vertical-align: top;\n",
       "    }\n",
       "\n",
       "    .dataframe thead th {\n",
       "        text-align: right;\n",
       "    }\n",
       "</style>\n",
       "<table border=\"1\" class=\"dataframe\">\n",
       "  <thead>\n",
       "    <tr style=\"text-align: right;\">\n",
       "      <th></th>\n",
       "      <th>0</th>\n",
       "      <th>1</th>\n",
       "      <th>2</th>\n",
       "      <th>3</th>\n",
       "      <th>4</th>\n",
       "      <th>5</th>\n",
       "      <th>6</th>\n",
       "      <th>7</th>\n",
       "      <th>8</th>\n",
       "      <th>9</th>\n",
       "      <th>10</th>\n",
       "      <th>11</th>\n",
       "      <th>12</th>\n",
       "      <th>13</th>\n",
       "      <th>14</th>\n",
       "    </tr>\n",
       "  </thead>\n",
       "  <tbody>\n",
       "    <tr>\n",
       "      <th>ecg_a_R</th>\n",
       "      <td>0.093000</td>\n",
       "      <td>0.372000</td>\n",
       "      <td>0.454000</td>\n",
       "      <td>0.125000</td>\n",
       "      <td>0.249000</td>\n",
       "      <td>0.134000</td>\n",
       "      <td>0.378000</td>\n",
       "      <td>0.389000</td>\n",
       "      <td>0.222000</td>\n",
       "      <td>0.175000</td>\n",
       "      <td>0.436000</td>\n",
       "      <td>0.343000</td>\n",
       "      <td>0.150000</td>\n",
       "      <td>0.080000</td>\n",
       "      <td>0.368000</td>\n",
       "    </tr>\n",
       "    <tr>\n",
       "      <th>ecg_RR0</th>\n",
       "      <td>0.648438</td>\n",
       "      <td>0.664062</td>\n",
       "      <td>-9.066406</td>\n",
       "      <td>0.648438</td>\n",
       "      <td>0.636719</td>\n",
       "      <td>0.640625</td>\n",
       "      <td>0.671875</td>\n",
       "      <td>0.656250</td>\n",
       "      <td>0.648438</td>\n",
       "      <td>0.636719</td>\n",
       "      <td>0.640625</td>\n",
       "      <td>0.644531</td>\n",
       "      <td>0.656250</td>\n",
       "      <td>0.632812</td>\n",
       "      <td>0.640625</td>\n",
       "    </tr>\n",
       "    <tr>\n",
       "      <th>ecg_RR1</th>\n",
       "      <td>0.664062</td>\n",
       "      <td>-9.066406</td>\n",
       "      <td>0.648438</td>\n",
       "      <td>0.636719</td>\n",
       "      <td>0.640625</td>\n",
       "      <td>0.671875</td>\n",
       "      <td>0.656250</td>\n",
       "      <td>0.648438</td>\n",
       "      <td>0.636719</td>\n",
       "      <td>0.640625</td>\n",
       "      <td>0.644531</td>\n",
       "      <td>0.656250</td>\n",
       "      <td>0.632812</td>\n",
       "      <td>0.640625</td>\n",
       "      <td>0.648438</td>\n",
       "    </tr>\n",
       "    <tr>\n",
       "      <th>ecg_RR2</th>\n",
       "      <td>-9.066406</td>\n",
       "      <td>0.648438</td>\n",
       "      <td>0.636719</td>\n",
       "      <td>0.640625</td>\n",
       "      <td>0.671875</td>\n",
       "      <td>0.656250</td>\n",
       "      <td>0.648438</td>\n",
       "      <td>0.636719</td>\n",
       "      <td>0.640625</td>\n",
       "      <td>0.644531</td>\n",
       "      <td>0.656250</td>\n",
       "      <td>0.632812</td>\n",
       "      <td>0.640625</td>\n",
       "      <td>0.648438</td>\n",
       "      <td>0.664062</td>\n",
       "    </tr>\n",
       "    <tr>\n",
       "      <th>ecg_RRm</th>\n",
       "      <td>-2.584635</td>\n",
       "      <td>-2.584635</td>\n",
       "      <td>-2.593750</td>\n",
       "      <td>0.641927</td>\n",
       "      <td>0.649740</td>\n",
       "      <td>0.656250</td>\n",
       "      <td>0.658854</td>\n",
       "      <td>0.647135</td>\n",
       "      <td>0.641927</td>\n",
       "      <td>0.640625</td>\n",
       "      <td>0.647135</td>\n",
       "      <td>0.644531</td>\n",
       "      <td>0.643229</td>\n",
       "      <td>0.640625</td>\n",
       "      <td>0.651042</td>\n",
       "    </tr>\n",
       "    <tr>\n",
       "      <th>ecg_RR_0_1</th>\n",
       "      <td>0.976471</td>\n",
       "      <td>-0.073244</td>\n",
       "      <td>-13.981928</td>\n",
       "      <td>1.018405</td>\n",
       "      <td>0.993902</td>\n",
       "      <td>0.953488</td>\n",
       "      <td>1.023810</td>\n",
       "      <td>1.012048</td>\n",
       "      <td>1.018405</td>\n",
       "      <td>0.993902</td>\n",
       "      <td>0.993939</td>\n",
       "      <td>0.982143</td>\n",
       "      <td>1.037037</td>\n",
       "      <td>0.987805</td>\n",
       "      <td>0.987952</td>\n",
       "    </tr>\n",
       "    <tr>\n",
       "      <th>ecg_RR_2_1</th>\n",
       "      <td>-13.652941</td>\n",
       "      <td>-0.071521</td>\n",
       "      <td>0.981928</td>\n",
       "      <td>1.006135</td>\n",
       "      <td>1.048780</td>\n",
       "      <td>0.976744</td>\n",
       "      <td>0.988095</td>\n",
       "      <td>0.981928</td>\n",
       "      <td>1.006135</td>\n",
       "      <td>1.006098</td>\n",
       "      <td>1.018182</td>\n",
       "      <td>0.964286</td>\n",
       "      <td>1.012346</td>\n",
       "      <td>1.012195</td>\n",
       "      <td>1.024096</td>\n",
       "    </tr>\n",
       "    <tr>\n",
       "      <th>ecg_RR_m_1</th>\n",
       "      <td>-3.892157</td>\n",
       "      <td>0.285078</td>\n",
       "      <td>-4.000000</td>\n",
       "      <td>1.008180</td>\n",
       "      <td>1.014228</td>\n",
       "      <td>0.976744</td>\n",
       "      <td>1.003968</td>\n",
       "      <td>0.997992</td>\n",
       "      <td>1.008180</td>\n",
       "      <td>1.000000</td>\n",
       "      <td>1.004040</td>\n",
       "      <td>0.982143</td>\n",
       "      <td>1.016461</td>\n",
       "      <td>1.000000</td>\n",
       "      <td>1.004016</td>\n",
       "    </tr>\n",
       "  </tbody>\n",
       "</table>\n",
       "</div>"
      ],
      "text/plain": [
       "                   0         1          2         3         4         5   \\\n",
       "ecg_a_R      0.093000  0.372000   0.454000  0.125000  0.249000  0.134000   \n",
       "ecg_RR0      0.648438  0.664062  -9.066406  0.648438  0.636719  0.640625   \n",
       "ecg_RR1      0.664062 -9.066406   0.648438  0.636719  0.640625  0.671875   \n",
       "ecg_RR2     -9.066406  0.648438   0.636719  0.640625  0.671875  0.656250   \n",
       "ecg_RRm     -2.584635 -2.584635  -2.593750  0.641927  0.649740  0.656250   \n",
       "ecg_RR_0_1   0.976471 -0.073244 -13.981928  1.018405  0.993902  0.953488   \n",
       "ecg_RR_2_1 -13.652941 -0.071521   0.981928  1.006135  1.048780  0.976744   \n",
       "ecg_RR_m_1  -3.892157  0.285078  -4.000000  1.008180  1.014228  0.976744   \n",
       "\n",
       "                  6         7         8         9         10        11  \\\n",
       "ecg_a_R     0.378000  0.389000  0.222000  0.175000  0.436000  0.343000   \n",
       "ecg_RR0     0.671875  0.656250  0.648438  0.636719  0.640625  0.644531   \n",
       "ecg_RR1     0.656250  0.648438  0.636719  0.640625  0.644531  0.656250   \n",
       "ecg_RR2     0.648438  0.636719  0.640625  0.644531  0.656250  0.632812   \n",
       "ecg_RRm     0.658854  0.647135  0.641927  0.640625  0.647135  0.644531   \n",
       "ecg_RR_0_1  1.023810  1.012048  1.018405  0.993902  0.993939  0.982143   \n",
       "ecg_RR_2_1  0.988095  0.981928  1.006135  1.006098  1.018182  0.964286   \n",
       "ecg_RR_m_1  1.003968  0.997992  1.008180  1.000000  1.004040  0.982143   \n",
       "\n",
       "                  12        13        14  \n",
       "ecg_a_R     0.150000  0.080000  0.368000  \n",
       "ecg_RR0     0.656250  0.632812  0.640625  \n",
       "ecg_RR1     0.632812  0.640625  0.648438  \n",
       "ecg_RR2     0.640625  0.648438  0.664062  \n",
       "ecg_RRm     0.643229  0.640625  0.651042  \n",
       "ecg_RR_0_1  1.037037  0.987805  0.987952  \n",
       "ecg_RR_2_1  1.012346  1.012195  1.024096  \n",
       "ecg_RR_m_1  1.016461  1.000000  1.004016  "
      ]
     },
     "execution_count": 11,
     "metadata": {},
     "output_type": "execute_result"
    }
   ],
   "source": [
    "pipeline.features"
   ]
  },
  {
   "cell_type": "code",
   "execution_count": 16,
   "metadata": {},
   "outputs": [],
   "source": [
    "ex=pipeline.data['ECG_Clean'].channel"
   ]
  },
  {
   "cell_type": "code",
   "execution_count": 30,
   "metadata": {},
   "outputs": [
    {
     "data": {
      "text/plain": [
       "Bio_Pipeline:\n",
       "\tPreprocessors: Process list:\n",
       "\n",
       "\tProcessors: Process list:\n",
       "\t1: clean(ECG_Raw) -> ECG_Clean\n",
       "\t2: rpeaks(ECG_Clean) -> ECG_Peaks\n",
       "\n",
       "\tPostprocessors: Process list:\n",
       "\n",
       "\tWindow Size(Seconds): Not Windowed\n",
       "\tStep Size: Not Windowed"
      ]
     },
     "execution_count": 30,
     "metadata": {},
     "output_type": "execute_result"
    }
   ],
   "source": [
    "pipeline"
   ]
  },
  {
   "cell_type": "code",
   "execution_count": 14,
   "metadata": {},
   "outputs": [],
   "source": [
    "pk = pipeline.data['Events_ECG_Clean'].channel"
   ]
  },
  {
   "cell_type": "code",
   "execution_count": 25,
   "metadata": {},
   "outputs": [],
   "source": [
    "tst=biobss.edatools.eda_statistical.get_stat_features(ex,prefix='test')"
   ]
  },
  {
   "cell_type": "code",
   "execution_count": 26,
   "metadata": {},
   "outputs": [
    {
     "data": {
      "text/plain": [
       "0.00010641522711905394"
      ]
     },
     "execution_count": 26,
     "metadata": {},
     "output_type": "execute_result"
    }
   ],
   "source": [
    "tst['test_mean']"
   ]
  },
  {
   "cell_type": "code",
   "execution_count": 28,
   "metadata": {},
   "outputs": [],
   "source": [
    "f=lambda x: np.mean(x)"
   ]
  },
  {
   "cell_type": "code",
   "execution_count": 83,
   "metadata": {},
   "outputs": [],
   "source": [
    "def foo(*args,**kwargs):\n",
    "    print(args)\n",
    "    print(kwargs)"
   ]
  },
  {
   "cell_type": "code",
   "execution_count": 84,
   "metadata": {},
   "outputs": [
    {
     "name": "stdout",
     "output_type": "stream",
     "text": [
      "()\n",
      "{}\n"
     ]
    }
   ],
   "source": [
    "foo()"
   ]
  },
  {
   "cell_type": "code",
   "execution_count": 20,
   "metadata": {},
   "outputs": [],
   "source": [
    "res=biobss.ecgtools.from_Rpeaks(ex,pk,256)"
   ]
  },
  {
   "cell_type": "code",
   "execution_count": 28,
   "metadata": {},
   "outputs": [
    {
     "data": {
      "text/plain": [
       "{0: {'ecg_a_R': 0.14941537935018082,\n",
       "  'ecg_RR0': 0.6484375,\n",
       "  'ecg_RR1': 0.6640625,\n",
       "  'ecg_RR2': -9.06640625,\n",
       "  'ecg_RRm': -2.5846354166666665,\n",
       "  'ecg_RR_0_1': 0.9764705882352941,\n",
       "  'ecg_RR_2_1': -13.652941176470588,\n",
       "  'ecg_RR_m_1': -3.892156862745098},\n",
       " 1: {'ecg_a_R': 0.1990699821912972,\n",
       "  'ecg_RR0': 0.6640625,\n",
       "  'ecg_RR1': -9.06640625,\n",
       "  'ecg_RR2': 0.6484375,\n",
       "  'ecg_RRm': -2.5846354166666665,\n",
       "  'ecg_RR_0_1': -0.07324429125376992,\n",
       "  'ecg_RR_2_1': -0.07152089616544594,\n",
       "  'ecg_RR_m_1': 0.2850782708602614},\n",
       " 2: {'ecg_a_R': 0.20239536323008903,\n",
       "  'ecg_RR0': -9.06640625,\n",
       "  'ecg_RR1': 0.6484375,\n",
       "  'ecg_RR2': 0.63671875,\n",
       "  'ecg_RRm': -2.59375,\n",
       "  'ecg_RR_0_1': -13.981927710843374,\n",
       "  'ecg_RR_2_1': 0.9819277108433735,\n",
       "  'ecg_RR_m_1': -4.0},\n",
       " 3: {'ecg_a_R': 0.1546145352183906,\n",
       "  'ecg_RR0': 0.6484375,\n",
       "  'ecg_RR1': 0.63671875,\n",
       "  'ecg_RR2': 0.640625,\n",
       "  'ecg_RRm': 0.6419270833333334,\n",
       "  'ecg_RR_0_1': 1.01840490797546,\n",
       "  'ecg_RR_2_1': 1.0061349693251533,\n",
       "  'ecg_RR_m_1': 1.0081799591002045},\n",
       " 4: {'ecg_a_R': 0.16646070331154306,\n",
       "  'ecg_RR0': 0.63671875,\n",
       "  'ecg_RR1': 0.640625,\n",
       "  'ecg_RR2': 0.671875,\n",
       "  'ecg_RRm': 0.6497395833333334,\n",
       "  'ecg_RR_0_1': 0.9939024390243902,\n",
       "  'ecg_RR_2_1': 1.048780487804878,\n",
       "  'ecg_RR_m_1': 1.014227642276423},\n",
       " 5: {'ecg_a_R': 0.15305788829075145,\n",
       "  'ecg_RR0': 0.640625,\n",
       "  'ecg_RR1': 0.671875,\n",
       "  'ecg_RR2': 0.65625,\n",
       "  'ecg_RRm': 0.65625,\n",
       "  'ecg_RR_0_1': 0.9534883720930233,\n",
       "  'ecg_RR_2_1': 0.9767441860465116,\n",
       "  'ecg_RR_m_1': 0.9767441860465116},\n",
       " 6: {'ecg_a_R': 0.20548872094945025,\n",
       "  'ecg_RR0': 0.671875,\n",
       "  'ecg_RR1': 0.65625,\n",
       "  'ecg_RR2': 0.6484375,\n",
       "  'ecg_RRm': 0.6588541666666666,\n",
       "  'ecg_RR_0_1': 1.0238095238095237,\n",
       "  'ecg_RR_2_1': 0.9880952380952381,\n",
       "  'ecg_RR_m_1': 1.003968253968254},\n",
       " 7: {'ecg_a_R': 0.18314034127431417,\n",
       "  'ecg_RR0': 0.65625,\n",
       "  'ecg_RR1': 0.6484375,\n",
       "  'ecg_RR2': 0.63671875,\n",
       "  'ecg_RRm': 0.6471354166666666,\n",
       "  'ecg_RR_0_1': 1.0120481927710843,\n",
       "  'ecg_RR_2_1': 0.9819277108433735,\n",
       "  'ecg_RR_m_1': 0.9979919678714859},\n",
       " 8: {'ecg_a_R': 0.16549069974587508,\n",
       "  'ecg_RR0': 0.6484375,\n",
       "  'ecg_RR1': 0.63671875,\n",
       "  'ecg_RR2': 0.640625,\n",
       "  'ecg_RRm': 0.6419270833333334,\n",
       "  'ecg_RR_0_1': 1.01840490797546,\n",
       "  'ecg_RR_2_1': 1.0061349693251533,\n",
       "  'ecg_RR_m_1': 1.0081799591002045},\n",
       " 9: {'ecg_a_R': 0.15642788570410535,\n",
       "  'ecg_RR0': 0.63671875,\n",
       "  'ecg_RR1': 0.640625,\n",
       "  'ecg_RR2': 0.64453125,\n",
       "  'ecg_RRm': 0.640625,\n",
       "  'ecg_RR_0_1': 0.9939024390243902,\n",
       "  'ecg_RR_2_1': 1.0060975609756098,\n",
       "  'ecg_RR_m_1': 1.0},\n",
       " 10: {'ecg_a_R': 0.20125092052144217,\n",
       "  'ecg_RR0': 0.640625,\n",
       "  'ecg_RR1': 0.64453125,\n",
       "  'ecg_RR2': 0.65625,\n",
       "  'ecg_RRm': 0.6471354166666666,\n",
       "  'ecg_RR_0_1': 0.9939393939393939,\n",
       "  'ecg_RR_2_1': 1.018181818181818,\n",
       "  'ecg_RR_m_1': 1.004040404040404},\n",
       " 11: {'ecg_a_R': 0.19413289630224034,\n",
       "  'ecg_RR0': 0.64453125,\n",
       "  'ecg_RR1': 0.65625,\n",
       "  'ecg_RR2': 0.6328125,\n",
       "  'ecg_RRm': 0.64453125,\n",
       "  'ecg_RR_0_1': 0.9821428571428571,\n",
       "  'ecg_RR_2_1': 0.9642857142857143,\n",
       "  'ecg_RR_m_1': 0.9821428571428571},\n",
       " 12: {'ecg_a_R': 0.16496309407614682,\n",
       "  'ecg_RR0': 0.65625,\n",
       "  'ecg_RR1': 0.6328125,\n",
       "  'ecg_RR2': 0.640625,\n",
       "  'ecg_RRm': 0.6432291666666666,\n",
       "  'ecg_RR_0_1': 1.037037037037037,\n",
       "  'ecg_RR_2_1': 1.0123456790123457,\n",
       "  'ecg_RR_m_1': 1.0164609053497942},\n",
       " 13: {'ecg_a_R': 0.14750303082285254,\n",
       "  'ecg_RR0': 0.6328125,\n",
       "  'ecg_RR1': 0.640625,\n",
       "  'ecg_RR2': 0.6484375,\n",
       "  'ecg_RRm': 0.640625,\n",
       "  'ecg_RR_0_1': 0.9878048780487805,\n",
       "  'ecg_RR_2_1': 1.0121951219512195,\n",
       "  'ecg_RR_m_1': 1.0},\n",
       " 14: {'ecg_a_R': 0.17819120819773365,\n",
       "  'ecg_RR0': 0.640625,\n",
       "  'ecg_RR1': 0.6484375,\n",
       "  'ecg_RR2': 0.6640625,\n",
       "  'ecg_RRm': 0.6510416666666666,\n",
       "  'ecg_RR_0_1': 0.9879518072289156,\n",
       "  'ecg_RR_2_1': 1.0240963855421688,\n",
       "  'ecg_RR_m_1': 1.0040160642570282}}"
      ]
     },
     "execution_count": 28,
     "metadata": {},
     "output_type": "execute_result"
    }
   ],
   "source": [
    "res"
   ]
  },
  {
   "cell_type": "code",
   "execution_count": 25,
   "metadata": {},
   "outputs": [],
   "source": [
    "import re "
   ]
  },
  {
   "cell_type": "code",
   "execution_count": 26,
   "metadata": {},
   "outputs": [],
   "source": [
    "def mytype(v):\n",
    "    s = str(v)\n",
    "    regex = re.compile(r'(?P<list>\\[[^]]+\\])|(?P<float>\\d*\\.\\d+)|(?P<int>\\d+)|(?P<string>[a-zA-Z]+)')\n",
    "    return  r\"<type '%s'>\" % regex.search(s).lastgroup"
   ]
  },
  {
   "cell_type": "code",
   "execution_count": 29,
   "metadata": {},
   "outputs": [
    {
     "data": {
      "text/plain": [
       "\"<type 'int'>\""
      ]
     },
     "execution_count": 29,
     "metadata": {},
     "output_type": "execute_result"
    }
   ],
   "source": [
    "mytype(res)"
   ]
  },
  {
   "cell_type": "code",
   "execution_count": null,
   "metadata": {},
   "outputs": [],
   "source": [
    "def mytype(data):\n",
    "    retun "
   ]
  }
 ],
 "metadata": {
  "kernelspec": {
   "display_name": "biobss_dev",
   "language": "python",
   "name": "python3"
  },
  "language_info": {
   "codemirror_mode": {
    "name": "ipython",
    "version": 3
   },
   "file_extension": ".py",
   "mimetype": "text/x-python",
   "name": "python",
   "nbconvert_exporter": "python",
   "pygments_lexer": "ipython3",
   "version": "3.8.0"
  },
  "orig_nbformat": 4,
  "vscode": {
   "interpreter": {
    "hash": "e2da08f22468fb3696c83331e9a8c56525a02dc4129e32fd96f2f3d0a3b229d8"
   }
  }
 },
 "nbformat": 4,
 "nbformat_minor": 2
}
