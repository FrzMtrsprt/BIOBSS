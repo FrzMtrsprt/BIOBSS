{
 "cells": [
  {
   "cell_type": "code",
   "execution_count": 25,
   "metadata": {},
   "outputs": [],
   "source": [
    "import sys\n",
    "import pandas as pd\n",
    "import numpy as np\n",
    "\n",
    "sys.path.append(\"../\")\n",
    "import biobss\n",
    "import matplotlib.pyplot as plt\n",
    "import neurokit2 as nk\n",
    "from plotly_resampler import register_plotly_resampler"
   ]
  },
  {
   "cell_type": "code",
   "execution_count": 26,
   "metadata": {},
   "outputs": [],
   "source": [
    "import importlib\n",
    "import sys\n",
    "import pandas as pd\n",
    "import numpy as np\n",
    "\n",
    "sys.path.append(\"../\")\n",
    "import biobss\n",
    "import os\n",
    "os.getcwd()\n",
    "import neurokit2 as nk\n",
    "sample_data = biobss.utils.load_sample_data(\"ECG\")"
   ]
  },
  {
   "cell_type": "code",
   "execution_count": 27,
   "metadata": {},
   "outputs": [],
   "source": [
    "sr=256"
   ]
  },
  {
   "cell_type": "code",
   "execution_count": 28,
   "metadata": {},
   "outputs": [],
   "source": [
    "sample=np.array(sample_data[0]).flatten()"
   ]
  },
  {
   "cell_type": "code",
   "execution_count": 29,
   "metadata": {},
   "outputs": [],
   "source": [
    "clean=biobss.pipeline.Bio_Process(\n",
    "    process_method=biobss.ecgtools.filter_ecg,process_name=\"clean\",argmap={\"sampling_rate\":\"sampling_rate\"},method=\"pantompkins\")\n",
    "\n",
    "find_peaks = biobss.pipeline.Bio_Process(process_method=biobss.ecgtools.ecg_peaks,\n",
    "                                         process_name=\"rpeaks\",returns_event=True,event_args={\"event_name\":\"ECG_Peaks\"})\n",
    "\n",
    "\n",
    "pipeline = biobss.pipeline.Bio_Pipeline()\n",
    "\n",
    "pipeline.process_queue.add_process(clean,input_signals=\"ECG_Raw\",output_signals=\"ECG_Clean\")\n",
    "pipeline.process_queue.add_process(find_peaks,input_signals=\"ECG_Clean\",output_signals=\"ECG_Peaks\")\n",
    "\n",
    "channel=biobss.pipeline.Bio_Channel(signal=sample,name=\"ECG_Raw\",sampling_rate=sr)\n",
    "pipeline.set_input(channel)\n"
   ]
  },
  {
   "cell_type": "code",
   "execution_count": 30,
   "metadata": {},
   "outputs": [
    {
     "data": {
      "text/plain": [
       "Bio_Pipeline:\n",
       "\tPreprocessors: Process list:\n",
       "\n",
       "\tProcessors: Process list:\n",
       "\t1: clean(ECG_Raw) -> ECG_Clean\n",
       "\t2: rpeaks(ECG_Clean) -> ECG_Peaks\n",
       "\n",
       "\tPostprocessors: Process list:\n",
       "\n",
       "\tWindow Size(Seconds): Not Windowed\n",
       "\tStep Size: Not Windowed"
      ]
     },
     "execution_count": 30,
     "metadata": {},
     "output_type": "execute_result"
    }
   ],
   "source": [
    "pipeline"
   ]
  },
  {
   "cell_type": "code",
   "execution_count": 31,
   "metadata": {},
   "outputs": [],
   "source": [
    "# Create feature extraction steps\n",
    "\n",
    "# Extract time domain features. input_signals dictionary contains feature prefixes as keys and input signals as values\n",
    "# For example rms of EDA_Tonic is extracted as Tonic_rms in this case\n",
    "Rpeak_features = biobss.pipeline.Feature(name=\"time_features\", function=biobss.ecgtools.from_Rpeaks, sampling_rate=sr)\n",
    "stat_features = biobss.pipeline.Feature(name=\"stat_features\", function=biobss.edatools.get_stat_features)"
   ]
  },
  {
   "cell_type": "code",
   "execution_count": 32,
   "metadata": {},
   "outputs": [],
   "source": [
    "pipeline.run_pipeline()"
   ]
  },
  {
   "cell_type": "code",
   "execution_count": 33,
   "metadata": {},
   "outputs": [],
   "source": [
    "pipeline.add_feature_step(Rpeak_features,input_signals=['ECG_Raw','Events_ECG_Clean'])\n",
    "pipeline.add_feature_step(stat_features,input_signals=['ECG_Clean'],prefix=\"ECG\")"
   ]
  },
  {
   "cell_type": "code",
   "execution_count": 34,
   "metadata": {},
   "outputs": [],
   "source": [
    "pipeline.extract_features()"
   ]
  },
  {
   "cell_type": "code",
   "execution_count": 37,
   "metadata": {},
   "outputs": [
    {
     "data": {
      "text/html": [
       "<div>\n",
       "<style scoped>\n",
       "    .dataframe tbody tr th:only-of-type {\n",
       "        vertical-align: middle;\n",
       "    }\n",
       "\n",
       "    .dataframe tbody tr th {\n",
       "        vertical-align: top;\n",
       "    }\n",
       "\n",
       "    .dataframe thead th {\n",
       "        text-align: right;\n",
       "    }\n",
       "</style>\n",
       "<table border=\"1\" class=\"dataframe\">\n",
       "  <thead>\n",
       "    <tr style=\"text-align: right;\">\n",
       "      <th></th>\n",
       "      <th>ecg_a_R</th>\n",
       "      <th>ecg_RR0</th>\n",
       "      <th>ecg_RR1</th>\n",
       "      <th>ecg_RR2</th>\n",
       "      <th>ecg_RRm</th>\n",
       "      <th>ecg_RR_0_1</th>\n",
       "      <th>ecg_RR_2_1</th>\n",
       "      <th>ecg_RR_m_1</th>\n",
       "      <th>ECG_mean</th>\n",
       "      <th>ECG_std</th>\n",
       "      <th>ECG_max</th>\n",
       "      <th>ECG_min</th>\n",
       "      <th>ECG_range</th>\n",
       "      <th>ECG_kurtosis</th>\n",
       "      <th>ECG_skew</th>\n",
       "      <th>ECG_momentum</th>\n",
       "    </tr>\n",
       "  </thead>\n",
       "  <tbody>\n",
       "    <tr>\n",
       "      <th>0</th>\n",
       "      <td>[0.093, 0.6484375, 0.6640625, -9.06640625, -2....</td>\n",
       "      <td>[0.372, 0.6640625, -9.06640625, 0.6484375, -2....</td>\n",
       "      <td>[0.454, -9.06640625, 0.6484375, 0.63671875, -2...</td>\n",
       "      <td>[0.125, 0.6484375, 0.63671875, 0.640625, 0.641...</td>\n",
       "      <td>[0.249, 0.63671875, 0.640625, 0.671875, 0.6497...</td>\n",
       "      <td>[0.134, 0.640625, 0.671875, 0.65625, 0.65625, ...</td>\n",
       "      <td>[0.378, 0.671875, 0.65625, 0.6484375, 0.658854...</td>\n",
       "      <td>[0.389, 0.65625, 0.6484375, 0.63671875, 0.6471...</td>\n",
       "      <td>0.000141</td>\n",
       "      <td>0.052429</td>\n",
       "      <td>0.221432</td>\n",
       "      <td>-0.133314</td>\n",
       "      <td>0.354746</td>\n",
       "      <td>1.942784</td>\n",
       "      <td>0.707288</td>\n",
       "      <td>0.002749</td>\n",
       "    </tr>\n",
       "  </tbody>\n",
       "</table>\n",
       "</div>"
      ],
      "text/plain": [
       "                                             ecg_a_R  \\\n",
       "0  [0.093, 0.6484375, 0.6640625, -9.06640625, -2....   \n",
       "\n",
       "                                             ecg_RR0  \\\n",
       "0  [0.372, 0.6640625, -9.06640625, 0.6484375, -2....   \n",
       "\n",
       "                                             ecg_RR1  \\\n",
       "0  [0.454, -9.06640625, 0.6484375, 0.63671875, -2...   \n",
       "\n",
       "                                             ecg_RR2  \\\n",
       "0  [0.125, 0.6484375, 0.63671875, 0.640625, 0.641...   \n",
       "\n",
       "                                             ecg_RRm  \\\n",
       "0  [0.249, 0.63671875, 0.640625, 0.671875, 0.6497...   \n",
       "\n",
       "                                          ecg_RR_0_1  \\\n",
       "0  [0.134, 0.640625, 0.671875, 0.65625, 0.65625, ...   \n",
       "\n",
       "                                          ecg_RR_2_1  \\\n",
       "0  [0.378, 0.671875, 0.65625, 0.6484375, 0.658854...   \n",
       "\n",
       "                                          ecg_RR_m_1  ECG_mean   ECG_std  \\\n",
       "0  [0.389, 0.65625, 0.6484375, 0.63671875, 0.6471...  0.000141  0.052429   \n",
       "\n",
       "    ECG_max   ECG_min  ECG_range  ECG_kurtosis  ECG_skew  ECG_momentum  \n",
       "0  0.221432 -0.133314   0.354746      1.942784  0.707288      0.002749  "
      ]
     },
     "execution_count": 37,
     "metadata": {},
     "output_type": "execute_result"
    }
   ],
   "source": [
    "pipeline.features"
   ]
  },
  {
   "cell_type": "code",
   "execution_count": 11,
   "metadata": {},
   "outputs": [],
   "source": [
    "ex=pipeline.data['ECG_Clean'].channel"
   ]
  },
  {
   "cell_type": "code",
   "execution_count": 12,
   "metadata": {},
   "outputs": [
    {
     "data": {
      "text/plain": [
       "Bio_Pipeline:\n",
       "\tPreprocessors: Process list:\n",
       "\n",
       "\tProcessors: Process list:\n",
       "\t1: clean(ECG_Raw) -> ECG_Clean\n",
       "\t2: rpeaks(ECG_Clean) -> ECG_Peaks\n",
       "\n",
       "\tPostprocessors: Process list:\n",
       "\n",
       "\tWindow Size(Seconds): Not Windowed\n",
       "\tStep Size: Not Windowed"
      ]
     },
     "execution_count": 12,
     "metadata": {},
     "output_type": "execute_result"
    }
   ],
   "source": [
    "pipeline"
   ]
  },
  {
   "cell_type": "code",
   "execution_count": 13,
   "metadata": {},
   "outputs": [],
   "source": [
    "pk = pipeline.data['Events_ECG_Clean'].channel"
   ]
  },
  {
   "cell_type": "code",
   "execution_count": 14,
   "metadata": {},
   "outputs": [],
   "source": [
    "tst=biobss.edatools.eda_statistical.get_stat_features(ex,prefix='test')"
   ]
  },
  {
   "cell_type": "code",
   "execution_count": 26,
   "metadata": {},
   "outputs": [
    {
     "data": {
      "text/plain": [
       "0.00010641522711905394"
      ]
     },
     "execution_count": 26,
     "metadata": {},
     "output_type": "execute_result"
    }
   ],
   "source": [
    "tst['test_mean']"
   ]
  },
  {
   "cell_type": "code",
   "execution_count": 28,
   "metadata": {},
   "outputs": [],
   "source": [
    "f=lambda x: np.mean(x)"
   ]
  },
  {
   "cell_type": "code",
   "execution_count": 83,
   "metadata": {},
   "outputs": [],
   "source": [
    "def foo(*args,**kwargs):\n",
    "    print(args)\n",
    "    print(kwargs)"
   ]
  },
  {
   "cell_type": "code",
   "execution_count": 84,
   "metadata": {},
   "outputs": [
    {
     "name": "stdout",
     "output_type": "stream",
     "text": [
      "()\n",
      "{}\n"
     ]
    }
   ],
   "source": [
    "foo()"
   ]
  },
  {
   "cell_type": "code",
   "execution_count": 20,
   "metadata": {},
   "outputs": [],
   "source": [
    "res=biobss.ecgtools.from_Rpeaks(ex,pk,256)"
   ]
  },
  {
   "cell_type": "code",
   "execution_count": 28,
   "metadata": {},
   "outputs": [
    {
     "data": {
      "text/plain": [
       "{0: {'ecg_a_R': 0.14941537935018082,\n",
       "  'ecg_RR0': 0.6484375,\n",
       "  'ecg_RR1': 0.6640625,\n",
       "  'ecg_RR2': -9.06640625,\n",
       "  'ecg_RRm': -2.5846354166666665,\n",
       "  'ecg_RR_0_1': 0.9764705882352941,\n",
       "  'ecg_RR_2_1': -13.652941176470588,\n",
       "  'ecg_RR_m_1': -3.892156862745098},\n",
       " 1: {'ecg_a_R': 0.1990699821912972,\n",
       "  'ecg_RR0': 0.6640625,\n",
       "  'ecg_RR1': -9.06640625,\n",
       "  'ecg_RR2': 0.6484375,\n",
       "  'ecg_RRm': -2.5846354166666665,\n",
       "  'ecg_RR_0_1': -0.07324429125376992,\n",
       "  'ecg_RR_2_1': -0.07152089616544594,\n",
       "  'ecg_RR_m_1': 0.2850782708602614},\n",
       " 2: {'ecg_a_R': 0.20239536323008903,\n",
       "  'ecg_RR0': -9.06640625,\n",
       "  'ecg_RR1': 0.6484375,\n",
       "  'ecg_RR2': 0.63671875,\n",
       "  'ecg_RRm': -2.59375,\n",
       "  'ecg_RR_0_1': -13.981927710843374,\n",
       "  'ecg_RR_2_1': 0.9819277108433735,\n",
       "  'ecg_RR_m_1': -4.0},\n",
       " 3: {'ecg_a_R': 0.1546145352183906,\n",
       "  'ecg_RR0': 0.6484375,\n",
       "  'ecg_RR1': 0.63671875,\n",
       "  'ecg_RR2': 0.640625,\n",
       "  'ecg_RRm': 0.6419270833333334,\n",
       "  'ecg_RR_0_1': 1.01840490797546,\n",
       "  'ecg_RR_2_1': 1.0061349693251533,\n",
       "  'ecg_RR_m_1': 1.0081799591002045},\n",
       " 4: {'ecg_a_R': 0.16646070331154306,\n",
       "  'ecg_RR0': 0.63671875,\n",
       "  'ecg_RR1': 0.640625,\n",
       "  'ecg_RR2': 0.671875,\n",
       "  'ecg_RRm': 0.6497395833333334,\n",
       "  'ecg_RR_0_1': 0.9939024390243902,\n",
       "  'ecg_RR_2_1': 1.048780487804878,\n",
       "  'ecg_RR_m_1': 1.014227642276423},\n",
       " 5: {'ecg_a_R': 0.15305788829075145,\n",
       "  'ecg_RR0': 0.640625,\n",
       "  'ecg_RR1': 0.671875,\n",
       "  'ecg_RR2': 0.65625,\n",
       "  'ecg_RRm': 0.65625,\n",
       "  'ecg_RR_0_1': 0.9534883720930233,\n",
       "  'ecg_RR_2_1': 0.9767441860465116,\n",
       "  'ecg_RR_m_1': 0.9767441860465116},\n",
       " 6: {'ecg_a_R': 0.20548872094945025,\n",
       "  'ecg_RR0': 0.671875,\n",
       "  'ecg_RR1': 0.65625,\n",
       "  'ecg_RR2': 0.6484375,\n",
       "  'ecg_RRm': 0.6588541666666666,\n",
       "  'ecg_RR_0_1': 1.0238095238095237,\n",
       "  'ecg_RR_2_1': 0.9880952380952381,\n",
       "  'ecg_RR_m_1': 1.003968253968254},\n",
       " 7: {'ecg_a_R': 0.18314034127431417,\n",
       "  'ecg_RR0': 0.65625,\n",
       "  'ecg_RR1': 0.6484375,\n",
       "  'ecg_RR2': 0.63671875,\n",
       "  'ecg_RRm': 0.6471354166666666,\n",
       "  'ecg_RR_0_1': 1.0120481927710843,\n",
       "  'ecg_RR_2_1': 0.9819277108433735,\n",
       "  'ecg_RR_m_1': 0.9979919678714859},\n",
       " 8: {'ecg_a_R': 0.16549069974587508,\n",
       "  'ecg_RR0': 0.6484375,\n",
       "  'ecg_RR1': 0.63671875,\n",
       "  'ecg_RR2': 0.640625,\n",
       "  'ecg_RRm': 0.6419270833333334,\n",
       "  'ecg_RR_0_1': 1.01840490797546,\n",
       "  'ecg_RR_2_1': 1.0061349693251533,\n",
       "  'ecg_RR_m_1': 1.0081799591002045},\n",
       " 9: {'ecg_a_R': 0.15642788570410535,\n",
       "  'ecg_RR0': 0.63671875,\n",
       "  'ecg_RR1': 0.640625,\n",
       "  'ecg_RR2': 0.64453125,\n",
       "  'ecg_RRm': 0.640625,\n",
       "  'ecg_RR_0_1': 0.9939024390243902,\n",
       "  'ecg_RR_2_1': 1.0060975609756098,\n",
       "  'ecg_RR_m_1': 1.0},\n",
       " 10: {'ecg_a_R': 0.20125092052144217,\n",
       "  'ecg_RR0': 0.640625,\n",
       "  'ecg_RR1': 0.64453125,\n",
       "  'ecg_RR2': 0.65625,\n",
       "  'ecg_RRm': 0.6471354166666666,\n",
       "  'ecg_RR_0_1': 0.9939393939393939,\n",
       "  'ecg_RR_2_1': 1.018181818181818,\n",
       "  'ecg_RR_m_1': 1.004040404040404},\n",
       " 11: {'ecg_a_R': 0.19413289630224034,\n",
       "  'ecg_RR0': 0.64453125,\n",
       "  'ecg_RR1': 0.65625,\n",
       "  'ecg_RR2': 0.6328125,\n",
       "  'ecg_RRm': 0.64453125,\n",
       "  'ecg_RR_0_1': 0.9821428571428571,\n",
       "  'ecg_RR_2_1': 0.9642857142857143,\n",
       "  'ecg_RR_m_1': 0.9821428571428571},\n",
       " 12: {'ecg_a_R': 0.16496309407614682,\n",
       "  'ecg_RR0': 0.65625,\n",
       "  'ecg_RR1': 0.6328125,\n",
       "  'ecg_RR2': 0.640625,\n",
       "  'ecg_RRm': 0.6432291666666666,\n",
       "  'ecg_RR_0_1': 1.037037037037037,\n",
       "  'ecg_RR_2_1': 1.0123456790123457,\n",
       "  'ecg_RR_m_1': 1.0164609053497942},\n",
       " 13: {'ecg_a_R': 0.14750303082285254,\n",
       "  'ecg_RR0': 0.6328125,\n",
       "  'ecg_RR1': 0.640625,\n",
       "  'ecg_RR2': 0.6484375,\n",
       "  'ecg_RRm': 0.640625,\n",
       "  'ecg_RR_0_1': 0.9878048780487805,\n",
       "  'ecg_RR_2_1': 1.0121951219512195,\n",
       "  'ecg_RR_m_1': 1.0},\n",
       " 14: {'ecg_a_R': 0.17819120819773365,\n",
       "  'ecg_RR0': 0.640625,\n",
       "  'ecg_RR1': 0.6484375,\n",
       "  'ecg_RR2': 0.6640625,\n",
       "  'ecg_RRm': 0.6510416666666666,\n",
       "  'ecg_RR_0_1': 0.9879518072289156,\n",
       "  'ecg_RR_2_1': 1.0240963855421688,\n",
       "  'ecg_RR_m_1': 1.0040160642570282}}"
      ]
     },
     "execution_count": 28,
     "metadata": {},
     "output_type": "execute_result"
    }
   ],
   "source": [
    "res"
   ]
  },
  {
   "cell_type": "code",
   "execution_count": 25,
   "metadata": {},
   "outputs": [],
   "source": [
    "import re "
   ]
  },
  {
   "cell_type": "code",
   "execution_count": 26,
   "metadata": {},
   "outputs": [],
   "source": [
    "def mytype(v):\n",
    "    s = str(v)\n",
    "    regex = re.compile(r'(?P<list>\\[[^]]+\\])|(?P<float>\\d*\\.\\d+)|(?P<int>\\d+)|(?P<string>[a-zA-Z]+)')\n",
    "    return  r\"<type '%s'>\" % regex.search(s).lastgroup"
   ]
  },
  {
   "cell_type": "code",
   "execution_count": 29,
   "metadata": {},
   "outputs": [
    {
     "data": {
      "text/plain": [
       "\"<type 'int'>\""
      ]
     },
     "execution_count": 29,
     "metadata": {},
     "output_type": "execute_result"
    }
   ],
   "source": [
    "mytype(res)"
   ]
  },
  {
   "cell_type": "code",
   "execution_count": null,
   "metadata": {},
   "outputs": [],
   "source": [
    "def mytype(data):\n",
    "    retun "
   ]
  }
 ],
 "metadata": {
  "kernelspec": {
   "display_name": "biolib",
   "language": "python",
   "name": "python3"
  },
  "language_info": {
   "codemirror_mode": {
    "name": "ipython",
    "version": 3
   },
   "file_extension": ".py",
   "mimetype": "text/x-python",
   "name": "python",
   "nbconvert_exporter": "python",
   "pygments_lexer": "ipython3",
   "version": "3.8.12"
  },
  "orig_nbformat": 4,
  "vscode": {
   "interpreter": {
    "hash": "2fa1c4f98c7b87941450f311ed7a57ace56542b965a97c9ab1a41e28cb5fe538"
   }
  }
 },
 "nbformat": 4,
 "nbformat_minor": 2
}
