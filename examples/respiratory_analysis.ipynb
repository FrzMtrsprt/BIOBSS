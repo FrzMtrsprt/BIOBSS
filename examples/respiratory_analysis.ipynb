{
 "cells": [
  {
   "cell_type": "markdown",
   "metadata": {},
   "source": [
    "__BIOBSS - Respiratory Analysis__\n",
    "\n",
    "_This notebook includes guidelines to help using BIOBSS for respiratory signal extraction and respiratory rate estimation from PPG or ECG signal._"
   ]
  },
  {
   "cell_type": "code",
   "execution_count": null,
   "metadata": {},
   "outputs": [],
   "source": [
    "#Import BIOBSS and the other required packages\n",
    "\n",
    "#import biobss\n",
    "import os\n",
    "import numpy as np\n",
    "import matplotlib.pyplot as plt\n",
    "import pandas as pd\n",
    "#import biobss from local to run without installing\n",
    "import sys\n",
    "sys.path.append(\"../\")\n",
    "import biobss"
   ]
  },
  {
   "cell_type": "markdown",
   "metadata": {},
   "source": [
    "# Table of Contents\n",
    "1.[PPG Sample Data](#sampledata)<br>\n",
    "2.[Preprocessing](#resp_pre)<br>\n",
    "3.[Extraction of Respiratory Signals](#resp_sig)<br>\n",
    "4.[Respiratory Signal Filtering](#filt_resp)<br>\n",
    "5.[Calculation of Respiratory Quality Indices](#resp_rqi)<br>\n",
    "6.[Respiratory Rate Estimation](#resp_rr)<br>\n",
    "7.[Fusion of Respiratory Rates](#resp_fusion)<br>"
   ]
  },
  {
   "cell_type": "markdown",
   "metadata": {},
   "source": [
    "### __PPG Sample Data__\n",
    "<a id=\"sampledata\"></a>"
   ]
  },
  {
   "cell_type": "markdown",
   "metadata": {},
   "source": [
    "PPG sample data is provided as a csv file in BIOBSS\\sample data. The data file contains 100 PPG segments of 10-seconds length. The sampling rate is 64 Hz for all segments."
   ]
  },
  {
   "cell_type": "code",
   "execution_count": null,
   "metadata": {},
   "outputs": [],
   "source": [
    "#Load the sample data\n",
    "data, info = biobss.utils.load_sample_data(data_type='PPG_long')\n",
    "sig = np.asarray(data['PPG'])\n",
    "fs = info['sampling_rate']\n",
    "L = info['signal_length']"
   ]
  },
  {
   "cell_type": "markdown",
   "metadata": {},
   "source": [
    "### __Preprocessing__\n",
    "<a id=\"resp_pre\"></a>"
   ]
  },
  {
   "cell_type": "markdown",
   "metadata": {},
   "source": [
    "For respiratory rate estimation, the PPG signal should be filtered before extracting respiratory signal(s). 'Resptools' module includes functions with predefined filtering parameters to eliminate very high and very low frequencies."
   ]
  },
  {
   "cell_type": "code",
   "execution_count": null,
   "metadata": {},
   "outputs": [],
   "source": [
    "#ELiminate very low frequencies. 5th order Butterworth highpass filter with 0.0665 Hz (4 bpm) cutoff frequency.\n",
    "filt_sig=biobss.resptools.elim_vlf(sig, sampling_rate=fs)\n",
    "#ELiminate very low frequencies. 5th order Butterworth lowpass filter with 0.5833 (35 bpm) cutoff frequency.\n",
    "filt_sig=biobss.resptools.elim_vhf(sig, sampling_rate=fs)"
   ]
  },
  {
   "cell_type": "markdown",
   "metadata": {},
   "source": [
    "For the extraction of respiratory signals from modulations in the PPG signal, peak and trough locations are needed. To be able to calculate the modulations, number of peaks and troughs should match. Thus, peak control procedure should also be applied following peak detection."
   ]
  },
  {
   "cell_type": "code",
   "execution_count": null,
   "metadata": {},
   "outputs": [],
   "source": [
    "#Peak detection\n",
    "info=biobss.preprocess.peak_detection(sig,fs,'peakdet',delta=0.01)\n",
    "locs_peaks=info['Peak_locs']\n",
    "peaks=sig[locs_peaks]\n",
    "locs_onsets=info['Trough_locs']\n",
    "onsets=sig[locs_onsets]\n",
    "\n",
    "#Peak correction\n",
    "info=biobss.ppgtools.peak_control(sig=sig, peaks_locs=locs_peaks, troughs_locs=locs_onsets)\n",
    "locs_peaks=info['Peak_locs']\n",
    "peaks=sig[locs_peaks]\n",
    "locs_onsets=info['Trough_locs']\n",
    "onsets=sig[locs_onsets]"
   ]
  },
  {
   "cell_type": "markdown",
   "metadata": {},
   "source": [
    "### __Extraction of Respiratory Signals__\n",
    "<a id=\"resp_sig\"></a>"
   ]
  },
  {
   "cell_type": "markdown",
   "metadata": {},
   "source": [
    "The 'extract_resp_sig' function can be used to extract respiratory signals based on three modulation types which are Amplitude Modulation(AM), Frequency Modulation(FM) and Baseline Wander(BW). The function returns a dictionary including amplitude values and corresponding sample numbers of respiratory signals for the selected modulation types."
   ]
  },
  {
   "cell_type": "code",
   "execution_count": null,
   "metadata": {},
   "outputs": [],
   "source": [
    "#Extract the respiratory signal related to 'AM','FM' and'BW' from the PPG signal.\n",
    "\n",
    "info=biobss.resptools.extract_resp_sig(sig=sig, peaks_locs=locs_peaks, troughs_locs=locs_onsets, sampling_rate=fs,mod_type=['AM','FM','BW'],resampling_rate=10)\n",
    "\n",
    "y_am=info['am_y']\n",
    "x_am=info['am_x']\n",
    "\n",
    "y_fm=info['fm_y']\n",
    "x_fm=info['fm_x']\n",
    "\n",
    "y_bw=info['bw_y']\n",
    "x_bw=info['bw_x']"
   ]
  },
  {
   "cell_type": "markdown",
   "metadata": {},
   "source": [
    "BIOBSS provides plotting functions specific to each signal type. In order to plot ACC signals, ___plot_resp___ function can be used. The signals and peaks should be provided as dictionaries, and the keys should be selected as in documentation. The plots can be generated either using __Matplotlib__ or __Plotly__. "
   ]
  },
  {
   "cell_type": "code",
   "execution_count": null,
   "metadata": {},
   "outputs": [],
   "source": [
    "#Generate inputs as dictionaries\n",
    "signals = {'AM': {'x': x_am, 'y':y_am}, 'FM': {'x': x_fm, 'y':y_fm}, 'BW': {'x': x_bw, 'y':y_bw}}"
   ]
  },
  {
   "cell_type": "code",
   "execution_count": null,
   "metadata": {},
   "outputs": [],
   "source": [
    "#Plot respiratory signals using Matplotlib\n",
    "biobss.resptools.plot_resp(signals=signals, sampling_rate=fs, show_peaks=False, figsize=(10,5))"
   ]
  },
  {
   "cell_type": "code",
   "execution_count": null,
   "metadata": {},
   "outputs": [],
   "source": [
    "#Plot respiratory signals using Plotly\n",
    "biobss.resptools.plot_resp(signals=signals, sampling_rate=fs, method='plotly', show_peaks=False, width=800, height=400)"
   ]
  },
  {
   "cell_type": "markdown",
   "metadata": {},
   "source": [
    "### __Respiratory Signal Filtering__\n",
    "<a id=\"filt_resp\"></a>"
   ]
  },
  {
   "cell_type": "markdown",
   "metadata": {},
   "source": [
    "If reqıired, 'filter_resp_sig' function can be used to filter respiratory signal using neurokit's 'rsp_clean' function."
   ]
  },
  {
   "cell_type": "code",
   "execution_count": null,
   "metadata": {},
   "outputs": [],
   "source": [
    "#Filter respiratory signals\n",
    "info=biobss.resptools.filter_resp_sig(resampling_rate=10, am_sig=y_am, am_x=x_am, fm_sig=y_fm, fm_x=x_fm, bw_sig=y_bw, bw_x=x_bw)\n",
    "\n",
    "y_am=info['am_sig']\n",
    "x_am=info['am_x']\n",
    "\n",
    "y_fm=info['fm_sig']\n",
    "x_fm=info['fm_x']\n",
    "\n",
    "y_bw=info['bw_sig']\n",
    "x_bw=info['bw_x']"
   ]
  },
  {
   "cell_type": "markdown",
   "metadata": {},
   "source": [
    "### __Calculation of Respiratory Quality Indices__\n",
    "<a id=\"resp_rqi\"></a>"
   ]
  },
  {
   "cell_type": "markdown",
   "metadata": {},
   "source": [
    "Quality of respiratory signals extracted from modulations in PPG signal depends on quality of PPG signal, other artifacts that may be in the same frequency range with the respiratory activity and demographic features of the subject. Thus, respiration rates may differ in accuracy for each respiratory signal. Respiratory quality indices (RQI) can be defined as a measure of quality of respiratory signals. In the literature, there are several respiratory quality indices defined for this purpose. BIOBSS library provides the function 'calc_rqi' to calculate 'Autocorrelation' and 'Hjorth' respiratory quality indices."
   ]
  },
  {
   "cell_type": "code",
   "execution_count": null,
   "metadata": {},
   "outputs": [],
   "source": [
    "#Calculate respiratory quality indices. Note that, this function should be applied for each modulation type seperately.\n",
    "#The function returns a dictionary of respiratory quality indices.\n",
    "rqi_am=biobss.resptools.calc_rqi(y_am,resampling_rate=10)\n",
    "rqi_fm=biobss.resptools.calc_rqi(y_fm,resampling_rate=10)\n",
    "rqi_bw=biobss.resptools.calc_rqi(y_bw,resampling_rate=10)"
   ]
  },
  {
   "cell_type": "markdown",
   "metadata": {},
   "source": [
    "### __Respiratory Rate Estimation__\n",
    "<a id=\"resp_rr\"></a>"
   ]
  },
  {
   "cell_type": "markdown",
   "metadata": {},
   "source": [
    "Respiratory rate can be estimated from respiratory signals using various methods. The 'estimate_rr' function provides two options which are 'peakdet' and 'xcorr' methods. The 'peakdet' method calculates respiratory rate bt detecting peaks of respiratory signal and calculating the peak to peak intervals. The method 'xcorr' is imported from Neurokit2 library. It calculates cross-correlations between the changes in respiration with a bank of sinusoids of different frequencies to identify the principal frequency of oscillation."
   ]
  },
  {
   "cell_type": "code",
   "execution_count": null,
   "metadata": {},
   "outputs": [],
   "source": [
    "#Estimate respiratory rate using 'peakdet' method. Note that, this function should be applied for each modulation type seperately.\n",
    "rr_am=biobss.resptools.estimate_rr(y_am,10,method='xcorr')\n",
    "rr_fm=biobss.resptools.estimate_rr(y_fm,10,method='xcorr')\n",
    "rr_bw=biobss.resptools.estimate_rr(y_bw,10,method='peakdet')\n"
   ]
  },
  {
   "cell_type": "markdown",
   "metadata": {},
   "source": [
    "### __Fusion of Respiratory Rates__\n",
    "<a id=\"resp_fusion\"></a>"
   ]
  },
  {
   "cell_type": "markdown",
   "metadata": {},
   "source": [
    "Estimated respiratory rates can be fused into a single value using 'fuse_rr' function. The function provides two options for fusion method which are 'SmartFusion' and 'QualityFusion'. "
   ]
  },
  {
   "cell_type": "markdown",
   "metadata": {},
   "source": [
    "'SmartFusion' calculates the average of respiratory rates considering the standart deviation of the estimates. "
   ]
  },
  {
   "cell_type": "code",
   "execution_count": null,
   "metadata": {},
   "outputs": [],
   "source": [
    "#Fuse the respiratory rates using 'SmartFusion' method.\n",
    "rr_fused=biobss.resptools.fuse_rr(rr_est=[rr_am, rr_fm, rr_bw], fusion_method='SmartFusion')"
   ]
  },
  {
   "cell_type": "markdown",
   "metadata": {},
   "source": [
    "'QualityFusion' takes respiratory quality indices into account. This time, rqi values should also be provided and the order of elements in the array should match with the order RRs of different modulation types. "
   ]
  },
  {
   "cell_type": "code",
   "execution_count": null,
   "metadata": {},
   "outputs": [],
   "source": [
    "#Fuse the respiratory rates using 'QualityFusion' method.\n",
    "#RQIs (array) should be provided as a keyworded argument. \n",
    "#The order of elements in the array should match with the order RRs of different modulation types.\n",
    "rqi=[rqi_am['hjorth'],rqi_fm['hjorth'],rqi_bw['hjorth']]\n",
    "rr_fused=biobss.resptools.fuse_rr(rr_est=[rr_am, rr_fm, rr_bw], rqi=rqi, fusion_method='QualityFusion')"
   ]
  }
 ],
 "metadata": {
  "kernelspec": {
   "display_name": "Python 3.8.5 64-bit ('biolib')",
   "language": "python",
   "name": "python3"
  },
  "language_info": {
   "codemirror_mode": {
    "name": "ipython",
    "version": 3
   },
   "file_extension": ".py",
   "mimetype": "text/x-python",
   "name": "python",
   "nbconvert_exporter": "python",
   "pygments_lexer": "ipython3",
   "version": "3.8.13"
  },
  "orig_nbformat": 4,
  "vscode": {
   "interpreter": {
    "hash": "3a4bcfb23c7e6ad66c655087280fa9f4d0273121ae7909f7735d1e02563a2438"
   }
  }
 },
 "nbformat": 4,
 "nbformat_minor": 2
}
