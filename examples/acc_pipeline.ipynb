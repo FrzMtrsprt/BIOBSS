{
 "cells": [
  {
   "cell_type": "markdown",
   "metadata": {},
   "source": [
    "__BIOBSS - ACC Pipeline__\n",
    "\n",
    "_This notebook includes guidelines to help using pipeline module for ACC signal processing and feature extraction._"
   ]
  },
  {
   "cell_type": "code",
   "execution_count": 36,
   "metadata": {},
   "outputs": [],
   "source": [
    "#Import BIOBSS and other required packages\n",
    "\n",
    "#import biobss\n",
    "import os\n",
    "import sys\n",
    "import pandas as pd\n",
    "import numpy as np\n",
    "import matplotlib.pyplot as plt\n",
    "#import biobss from local to run without installing\n",
    "import sys\n",
    "sys.path.append(\"../\")\n",
    "import biobss"
   ]
  },
  {
   "cell_type": "markdown",
   "metadata": {},
   "source": [
    "# Table of Contents\n",
    "1. [ACC Sample Data](#sampledata)<br>\n",
    "2. [Peak Detection](#acc_peak)<br>\n",
    "3. [Create Bio Process Objects](#create_bioprocess)<br>\n",
    "4. [Create Feature Objects](#create_feature)<br>\n",
    "5. [Create Bio Pipeline Object](#create_pipeline)<br>\n",
    "6. [Create Bio Channel Objects](#create_biochannel)<br>\n",
    "7. [Set Pipeline Inputs](#set_input)<br>\n",
    "8. [Add Bio Process Objects to Pipeline](#add_bioprocess)<br>\n",
    "9. [Add Feature Objects to Pipeline](#add_feature)\n",
    "10. [Run Pipeline](#run_pipeline)<br>\n",
    "11. [Extract Features](#extract_features)<br>"
   ]
  },
  {
   "cell_type": "markdown",
   "metadata": {},
   "source": [
    "### __ACC Sample Data__\n",
    "<a id=\"sampledata\"></a>"
   ]
  },
  {
   "cell_type": "markdown",
   "metadata": {},
   "source": [
    "ACC sample data is provided as a csv file in BIOBSS\\sample data. The data file contains 3-axis ACC signals of 5-minutes length, sampled at 32 Hz. "
   ]
  },
  {
   "cell_type": "code",
   "execution_count": 37,
   "metadata": {},
   "outputs": [],
   "source": [
    "#Load the sample data\n",
    "data, info = biobss.utils.load_sample_data(data_type='ACC')\n",
    "accx = np.asarray(data['ACCx'])\n",
    "accy = np.asarray(data['ACCy'])\n",
    "accz = np.asarray(data['ACCz'])\n",
    "fs = info['sampling_rate']\n",
    "L = info['signal_length']"
   ]
  },
  {
   "cell_type": "markdown",
   "metadata": {},
   "source": [
    "### __Create Bio Process Objects__\n",
    "<a id=\"create_bioprocess\"></a>"
   ]
  },
  {
   "cell_type": "markdown",
   "metadata": {},
   "source": [
    "Any process can be added to the pipeline if the input is a signal and ouput is a signal or collection of signals. The process can be added by passing the method to a Bio_Process constructor. The Bio_Process constructor takes the following arguments:\n",
    "\n",
    "- process_method: The method to be added to the pipeline\n",
    "- inplace: If True, result of the process will modify the input signal. If False, the result of the process will be returned as a new signal and added as a new channel.\n",
    "- prefix: The prefix to be added to the output channel name. If inplace is True, prefix will be ignored.\n",
    "  - If inplace is False, the output channel name will be prefix + input channel name.\n",
    "  - <code> (Default: None) (if inplace = False  and prefix = None, prefix will be set to 'processed') </code>\n",
    "- return_index : If a return_index is set, selected index of the result will be set as result. If return_index is None, the whole result will be set as result. (Default: None)\n",
    "- argmap: this dictionary maps different named arguments. For example, Bio_Channel already have a sampling_rate attribute. If the process method requires sampling rate with a different name, it can be mapped to the Bio_Channel attribute.<code> EXAMPLE : argmap = {'sampling_rate': 'fs'} or argmap = {'sampling_rate': 'sample_rate'} </code>\n",
    "- **kwargs: Keyword arguments to be passed to the process method\n",
    "\n",
    "\n",
    "\n",
    "\n",
    "\n",
    "\n",
    "Pipeline processes the given input sequentially. The input is passed from one process to the next."
   ]
  },
  {
   "cell_type": "code",
   "execution_count": 38,
   "metadata": {},
   "outputs": [],
   "source": [
    "# Create steps for the pipeline\n",
    "\n",
    "# Filter steps process,return filtered signal for all input signals\n",
    "clean=biobss.pipeline.Bio_Process(process_name=\"clean\",\n",
    "    process_method=biobss.preprocess.filter_signal, argmap={\"sampling_rate\":\"sampling_rate\"}, signal_type='ACC', method='lowpass')\n",
    "\n",
    "# Signal normalization step, return normalized signal for all input sisgnals\n",
    "normalize = biobss.pipeline.Bio_Process(process_name=\"normalize\",\n",
    "    process_method=biobss.preprocess.normalize_signal)\n",
    "\n"
   ]
  },
  {
   "cell_type": "markdown",
   "metadata": {},
   "source": [
    "### __Create Feature Objects__\n",
    "<a id=\"create_feature\"></a>"
   ]
  },
  {
   "cell_type": "code",
   "execution_count": 39,
   "metadata": {},
   "outputs": [],
   "source": [
    "# Create feature extraction steps\n",
    "\n",
    "# Extract time domain features. input_signals dictionary contains feature prefixes as keys and input signals as values\n",
    "# For example rms of EDA_Tonic is extracted as Tonic_rms in this case\n",
    "#corr_features = biobss.pipeline.Feature(name=\"corr_features\", function=biobss.imutools.get_corr_features, parameters={\"modality\": \"ACC\", \"sigtype\": \"ACC\",\"signal_names\":['ACCx','ACCy','ACCz']}, input_signals={'ACC':['ACCx', 'ACCy', 'ACCz']}, sampling_rate=fs)\n",
    "#freq_features = biobss.pipeline.Feature(name=\"freq_features\", function=biobss.imutools.get_freq_features, parameters={\"modality\": \"ACC\", \"sigtype\": \"ACC\",\"signal_names\":['ACCx','ACCy','ACCz']}, input_signals={'ACC':['ACCx', 'ACCy', 'ACCz']}, sampling_rate=fs, prefix='signal')\n",
    "#stat_features = biobss.pipeline.Feature(name=\"stat_features\", function=biobss.imutools.get_stat_features, parameters={\"modality\": \"ACC\", \"sigtype\": \"ACC\",\"signal_names\":['ACCx','ACCy','ACCz']}, input_signals={'ACC':['ACCx', 'ACCy', 'ACCz']}, sampling_rate=fs)\n",
    "acc_features = biobss.pipeline.Feature(name=\"acc_features\", function=biobss.imutools.get_acc_features,  sampling_rate=fs, magnitude=True)"
   ]
  },
  {
   "cell_type": "markdown",
   "metadata": {},
   "source": [
    "### __Create Bio Pipeline Object__\n",
    "<a id=\"create_pipeline\"></a>"
   ]
  },
  {
   "cell_type": "code",
   "execution_count": 40,
   "metadata": {},
   "outputs": [],
   "source": [
    "# BIOBSS Pipeline is created\n",
    "# windowed_process=True means that the pipeline will process the signal in windows\n",
    "# window_size=60 means that the pipeline will process 60 seconds of data at a time\n",
    "# step_size=20 means signal will be shifted by 20 seconds for each window\n",
    "pipeline = biobss.pipeline.Bio_Pipeline(windowed_process=True,window_size=10,step_size=5)"
   ]
  },
  {
   "cell_type": "markdown",
   "metadata": {},
   "source": [
    "### __Create Bio Channel Objects__\n",
    "<a id=\"create_biochannel\"></a>"
   ]
  },
  {
   "cell_type": "code",
   "execution_count": 41,
   "metadata": {},
   "outputs": [
    {
     "data": {
      "text/plain": [
       "ACCx (32Hz) ((60.0,)s) (1 windows) ((1920,)) ((1920,)) (int64)[-27 -27 -27 ... -46 -45 -46]"
      ]
     },
     "execution_count": 41,
     "metadata": {},
     "output_type": "execute_result"
    }
   ],
   "source": [
    "# Input is created as Bio_Channel object\n",
    "# Bio_Channel object requires following parameters: name, signal, sampling_rate\n",
    "# Optionally timestamp can be provided\n",
    "# If timestamp is provided, resolution of the timestamp should be provided. Possible resolutions are:'min', 's', 'ms', 'us'\n",
    "# If timestamp is not provided, timestamp will be created using sampling_rate. Default resolution is 's'\n",
    "channel_x=biobss.pipeline.Bio_Channel(signal=accx,name=\"ACCx\",sampling_rate=fs)\n",
    "channel_y=biobss.pipeline.Bio_Channel(signal=accy,name=\"ACCy\",sampling_rate=fs)\n",
    "channel_z=biobss.pipeline.Bio_Channel(signal=accz,name=\"ACCz\",sampling_rate=fs)\n",
    "\n",
    "# a Bio Channel object is created with sample data, with the name EDA_Raw and sampling rate 700\n",
    "# timestamp is not provided, so timestamp will be created using sampling_rate\n",
    "\n",
    "# Simply bio_channel the channel object will print the channel properties\n",
    "channel_x"
   ]
  },
  {
   "cell_type": "code",
   "execution_count": 42,
   "metadata": {},
   "outputs": [
    {
     "data": {
      "text/plain": [
       "array([-27, -27, -27, ..., -46, -45, -46], dtype=int64)"
      ]
     },
     "execution_count": 42,
     "metadata": {},
     "output_type": "execute_result"
    }
   ],
   "source": [
    "# bio_channel.channel accesses the data in the channel object\n",
    "channel_x.channel"
   ]
  },
  {
   "cell_type": "markdown",
   "metadata": {},
   "source": [
    "### __Create Bio Data Object__\n",
    "<a id=\"create_biodata\"></a>"
   ]
  },
  {
   "cell_type": "code",
   "execution_count": 43,
   "metadata": {},
   "outputs": [],
   "source": [
    "bio_data = biobss.pipeline.Bio_Data()"
   ]
  },
  {
   "cell_type": "code",
   "execution_count": 44,
   "metadata": {},
   "outputs": [],
   "source": [
    "bio_data.add_channel(channel_x, 'ACCx')\n",
    "bio_data.add_channel(channel_y, 'ACCy')\n",
    "bio_data.add_channel(channel_z, 'ACCz')"
   ]
  },
  {
   "cell_type": "code",
   "execution_count": 45,
   "metadata": {},
   "outputs": [
    {
     "data": {
      "text/plain": [
       "Signal object with 3 channel(s)\n",
       "ACCx (32Hz) ((60.0,)s) (1 windows) ((1920,))\n",
       "ACCy (32Hz) ((60.0,)s) (1 windows) ((1920,))\n",
       "ACCz (32Hz) ((60.0,)s) (1 windows) ((1920,))"
      ]
     },
     "execution_count": 45,
     "metadata": {},
     "output_type": "execute_result"
    }
   ],
   "source": [
    "bio_data"
   ]
  },
  {
   "cell_type": "markdown",
   "metadata": {},
   "source": [
    "### __Set Pipeline Inputs__\n",
    "<a id=\"set_input\"></a>"
   ]
  },
  {
   "cell_type": "code",
   "execution_count": 46,
   "metadata": {},
   "outputs": [
    {
     "data": {
      "text/plain": [
       "Signal object with 3 channel(s)\n",
       "ACCx (32Hz) ((60.0,)s) (1 windows) ((1920,))\n",
       "ACCy (32Hz) ((60.0,)s) (1 windows) ((1920,))\n",
       "ACCz (32Hz) ((60.0,)s) (1 windows) ((1920,))"
      ]
     },
     "execution_count": 46,
     "metadata": {},
     "output_type": "execute_result"
    }
   ],
   "source": [
    "# Pipeline input can be set from an array, a dataframe, pandas series, list, Bio_Channel, Bio_Data\n",
    "\n",
    "# In this case, the pipeline input is set with an array\n",
    "#pipeline.set_input(accx,sampling_rate=fs,name='ACCx_Raw')\n",
    "#pipeline.set_input(accy,sampling_rate=fs,name='ACCy_Raw')\n",
    "#pipeline.set_input(accz,sampling_rate=fs,name='ACCz_Raw')\n",
    "\n",
    "# Alternatively, the pipeline input can be set with a Bio_Channel object, in this case the name and sampling rate are not required as they are already provided in the Bio_Channel object\n",
    "#pipeline.set_input(channel_x)\n",
    "#pipeline.set_input(channel_y)\n",
    "#pipeline.set_input(channel_z)\n",
    "\n",
    "pipeline.set_input(bio_data)\n",
    "pipeline.input"
   ]
  },
  {
   "cell_type": "markdown",
   "metadata": {},
   "source": [
    "#### __Add Bio Process Objects to Pipeline__\n",
    "<a id=\"add_bioprocess\"></a>"
   ]
  },
  {
   "cell_type": "code",
   "execution_count": 47,
   "metadata": {},
   "outputs": [],
   "source": [
    "# Pipeline steps are added to the pipeline sequentially, the order of the steps is important as the output of one step is the input of the next step\n",
    "# These steps will be processed in the order they are added to the pipeline\n",
    "pipeline.preprocess_queue.add_process(clean,input_signals=['ACCx'],output_signals=['ACCx'])\n",
    "pipeline.preprocess_queue.add_process(clean,input_signals=['ACCy'],output_signals=['ACCy'])\n",
    "pipeline.preprocess_queue.add_process(clean,input_signals=['ACCz'],output_signals=['ACCz'])\n",
    "pipeline.preprocess_queue.add_process(normalize,input_signals=['ACCx'],output_signals=['ACCx'])\n",
    "pipeline.preprocess_queue.add_process(normalize,input_signals=['ACCy'],output_signals=['ACCy'])\n",
    "pipeline.preprocess_queue.add_process(normalize,input_signals=['ACCz'],output_signals=['ACCz'])\n",
    "\n",
    "\n",
    "\n",
    "# Currently all the steps are added to the preprocess_queue\n",
    "# After the preprocess_queue is processed, data will be segmented into windows (if windowed_process=True)\n",
    "# For running process in windows, the process_queue is used\n",
    "\n",
    "## This structure will change in the future"
   ]
  },
  {
   "cell_type": "markdown",
   "metadata": {},
   "source": [
    "#### __Add Feature Objects to Pipeline__\n",
    "<a id=\"add_feature\"></a>"
   ]
  },
  {
   "cell_type": "code",
   "execution_count": 48,
   "metadata": {},
   "outputs": [],
   "source": [
    "# Features are added to the pipeline\n",
    "#pipeline.add_feature_step(corr_features)\n",
    "#pipeline.add_feature_step(freq_features)\n",
    "#pipeline.add_feature_step(stat_features)\n",
    "pipeline.add_feature_step(acc_features, input_signals=[['ACCx','ACCy','ACCz']],signal_names=['X','Y','Z'])"
   ]
  },
  {
   "cell_type": "code",
   "execution_count": 49,
   "metadata": {},
   "outputs": [
    {
     "data": {
      "text/plain": [
       "Bio_Pipeline:\n",
       "\tPreprocessors: Process list:\n",
       "\t1: clean(ACCx) -> ACCx\n",
       "\t2: clean(ACCy) -> ACCy\n",
       "\t3: clean(ACCz) -> ACCz\n",
       "\t4: normalize(ACCx) -> ACCx\n",
       "\t5: normalize(ACCy) -> ACCy\n",
       "\t6: normalize(ACCz) -> ACCz\n",
       "\n",
       "\tProcessors: Process list:\n",
       "\n",
       "\tPostprocessors: Process list:\n",
       "\n",
       "\tWindow Size(Seconds): 10\n",
       "\tStep Size: 5"
      ]
     },
     "execution_count": 49,
     "metadata": {},
     "output_type": "execute_result"
    }
   ],
   "source": [
    "# Represetation of the pipeline\n",
    "pipeline"
   ]
  },
  {
   "cell_type": "markdown",
   "metadata": {},
   "source": [
    "#### __Run Pipeline__\n",
    "<a id=\"run_pipeline\"></a>"
   ]
  },
  {
   "cell_type": "code",
   "execution_count": 50,
   "metadata": {},
   "outputs": [],
   "source": [
    "# Pipeline is run, this will process the input data in the pipeline\n",
    "pipeline.run_pipeline()"
   ]
  },
  {
   "cell_type": "code",
   "execution_count": 51,
   "metadata": {},
   "outputs": [
    {
     "data": {
      "text/plain": [
       "Signal object with 3 channel(s)\n",
       "ACCx (32Hz) (10.0s) (11 windows) ((11, 320))\n",
       "ACCy (32Hz) (10.0s) (11 windows) ((11, 320))\n",
       "ACCz (32Hz) (10.0s) (11 windows) ((11, 320))"
      ]
     },
     "execution_count": 51,
     "metadata": {},
     "output_type": "execute_result"
    }
   ],
   "source": [
    "# Represetation of the pipeline data after running\n",
    "pipeline.data\n",
    "\n",
    "# Data is cleaned\n",
    "# Data is normalized\n",
    "# Data is decomposed into tonic and phasic components, these componenets are added to the pipeline data as EDA_Tonic and EDA_Phasic channels\n",
    "# Lastly, data is resampled to 350Hz (All channels are resampled to 350Hz) (target_sample_rate=350)\n",
    "# Data is segmented into windows of 60 seconds with a step size of 20 seconds"
   ]
  },
  {
   "cell_type": "markdown",
   "metadata": {},
   "source": [
    "#### __Extract Features__\n",
    "<a id=\"extract_features\"></a>"
   ]
  },
  {
   "cell_type": "code",
   "execution_count": 55,
   "metadata": {},
   "outputs": [
    {
     "ename": "IndexError",
     "evalue": "index 0 is out of bounds for axis 0 with size 0",
     "output_type": "error",
     "traceback": [
      "\u001b[1;31m---------------------------------------------------------------------------\u001b[0m",
      "\u001b[1;31mIndexError\u001b[0m                                Traceback (most recent call last)",
      "Cell \u001b[1;32mIn[55], line 3\u001b[0m\n\u001b[0;32m      1\u001b[0m \u001b[39m# Statistical and signal features are extracted from the EDA_Tonic, EDA_Phasic and EDA_Raw channels\u001b[39;00m\n\u001b[0;32m      2\u001b[0m \u001b[39m# Supplied prefix is added to the feature name\u001b[39;00m\n\u001b[1;32m----> 3\u001b[0m pipeline\u001b[39m.\u001b[39;49mextract_features()\n",
      "File \u001b[1;32mc:\\Users\\cagatay\\Desktop\\Biobss Workspace\\pre_release\\BIOBSS\\biobss\\pipeline\\pipeline.py:125\u001b[0m, in \u001b[0;36mBio_Pipeline.extract_features\u001b[1;34m(self)\u001b[0m\n\u001b[0;32m    124\u001b[0m \u001b[39mdef\u001b[39;00m \u001b[39mextract_features\u001b[39m(\u001b[39mself\u001b[39m):\n\u001b[1;32m--> 125\u001b[0m     \u001b[39mself\u001b[39m\u001b[39m.\u001b[39mfeatures \u001b[39m=\u001b[39m \u001b[39mself\u001b[39;49m\u001b[39m.\u001b[39;49mfeature_list\u001b[39m.\u001b[39;49mrun_feature_queue(\u001b[39mself\u001b[39;49m\u001b[39m.\u001b[39;49mdata)\n",
      "File \u001b[1;32mc:\\Users\\cagatay\\Desktop\\Biobss Workspace\\pre_release\\BIOBSS\\biobss\\pipeline\\feature_queue.py:35\u001b[0m, in \u001b[0;36mFeature_Queue.run_feature_queue\u001b[1;34m(self, bio_data, reset)\u001b[0m\n\u001b[0;32m     33\u001b[0m     \u001b[39mself\u001b[39m\u001b[39m.\u001b[39mreset()\n\u001b[0;32m     34\u001b[0m \u001b[39mfor\u001b[39;00m i \u001b[39min\u001b[39;00m \u001b[39mrange\u001b[39m(\u001b[39mlen\u001b[39m(\u001b[39mself\u001b[39m\u001b[39m.\u001b[39mextraction_list)):\n\u001b[1;32m---> 35\u001b[0m     res \u001b[39m=\u001b[39m \u001b[39mself\u001b[39;49m\u001b[39m.\u001b[39;49mrun_next(bio_data)\n\u001b[0;32m     36\u001b[0m     \u001b[39mif\u001b[39;00m(\u001b[39mself\u001b[39m\u001b[39m.\u001b[39mprefix[i] \u001b[39mis\u001b[39;00m \u001b[39mnot\u001b[39;00m \u001b[39mNone\u001b[39;00m):\n\u001b[0;32m     37\u001b[0m         res\u001b[39m.\u001b[39mcolumns \u001b[39m=\u001b[39m [\u001b[39mself\u001b[39m\u001b[39m.\u001b[39mprefix[i] \u001b[39m+\u001b[39m \u001b[39m\"\u001b[39m\u001b[39m_\u001b[39m\u001b[39m\"\u001b[39m \u001b[39m+\u001b[39m c \u001b[39mfor\u001b[39;00m c \u001b[39min\u001b[39;00m res\u001b[39m.\u001b[39mcolumns]\n",
      "File \u001b[1;32mc:\\Users\\cagatay\\Desktop\\Biobss Workspace\\pre_release\\BIOBSS\\biobss\\pipeline\\feature_queue.py:48\u001b[0m, in \u001b[0;36mFeature_Queue.run_next\u001b[1;34m(self, bio_data)\u001b[0m\n\u001b[0;32m     46\u001b[0m kwargs \u001b[39m=\u001b[39m \u001b[39mself\u001b[39m\u001b[39m.\u001b[39mkwargs[\u001b[39mself\u001b[39m\u001b[39m.\u001b[39mprocessed_index]\n\u001b[0;32m     47\u001b[0m \u001b[39mif\u001b[39;00m \u001b[39mself\u001b[39m\u001b[39m.\u001b[39mwindowed:\n\u001b[1;32m---> 48\u001b[0m     result \u001b[39m=\u001b[39m \u001b[39mself\u001b[39;49m\u001b[39m.\u001b[39;49mrun_windowed(inputs, args, kwargs, bio_data)\n\u001b[0;32m     49\u001b[0m \u001b[39melse\u001b[39;00m:\n\u001b[0;32m     50\u001b[0m     result \u001b[39m=\u001b[39m \u001b[39mself\u001b[39m\u001b[39m.\u001b[39mrun_single(inputs, args, kwargs, bio_data)\n",
      "File \u001b[1;32mc:\\Users\\cagatay\\Desktop\\Biobss Workspace\\pre_release\\BIOBSS\\biobss\\pipeline\\feature_queue.py:124\u001b[0m, in \u001b[0;36mFeature_Queue.run_windowed\u001b[1;34m(self, inputs, args, kwargs, bio_data)\u001b[0m\n\u001b[0;32m    120\u001b[0m     \u001b[39mraise\u001b[39;00m \u001b[39mValueError\u001b[39;00m(\n\u001b[0;32m    121\u001b[0m         \u001b[39m\"\u001b[39m\u001b[39mTimestamps must be the same for all input signals.\u001b[39m\u001b[39m\"\u001b[39m)\n\u001b[0;32m    123\u001b[0m \u001b[39mfor\u001b[39;00m i \u001b[39min\u001b[39;00m \u001b[39mrange\u001b[39m(n_windows):\n\u001b[1;32m--> 124\u001b[0m     results\u001b[39m.\u001b[39mappend(\u001b[39mself\u001b[39;49m\u001b[39m.\u001b[39;49mrun_single(inputs, args, kwargs, bio_data, i))\n\u001b[0;32m    125\u001b[0m results \u001b[39m=\u001b[39m pd\u001b[39m.\u001b[39mconcat(results)\n\u001b[0;32m    126\u001b[0m \u001b[39mreturn\u001b[39;00m results\n",
      "File \u001b[1;32mc:\\Users\\cagatay\\Desktop\\Biobss Workspace\\pre_release\\BIOBSS\\biobss\\pipeline\\feature_queue.py:84\u001b[0m, in \u001b[0;36mFeature_Queue.run_single\u001b[1;34m(self, inputs, args, kwargs, bio_data, index)\u001b[0m\n\u001b[0;32m     80\u001b[0m \u001b[39mif\u001b[39;00m(\u001b[39mnot\u001b[39;00m np\u001b[39m.\u001b[39mall(timestamps \u001b[39m==\u001b[39m timestamps[\u001b[39m0\u001b[39m])):\n\u001b[0;32m     81\u001b[0m     \u001b[39mraise\u001b[39;00m \u001b[39mValueError\u001b[39;00m(\n\u001b[0;32m     82\u001b[0m         \u001b[39m\"\u001b[39m\u001b[39mTimestamps must be the same for all input signals.\u001b[39m\u001b[39m\"\u001b[39m)\n\u001b[1;32m---> 84\u001b[0m result \u001b[39m=\u001b[39m \u001b[39mself\u001b[39;49m\u001b[39m.\u001b[39;49mextraction_list[\u001b[39mself\u001b[39;49m\u001b[39m.\u001b[39;49mprocessed_index]\u001b[39m.\u001b[39;49mprocess(\n\u001b[0;32m     85\u001b[0m     \u001b[39m*\u001b[39;49margs, \u001b[39m*\u001b[39;49m\u001b[39m*\u001b[39;49mkwargs)\n\u001b[0;32m     86\u001b[0m result \u001b[39m=\u001b[39m \u001b[39mself\u001b[39m\u001b[39m.\u001b[39m_process_results_single(result)\n\u001b[0;32m     87\u001b[0m result\u001b[39m.\u001b[39mindex \u001b[39m=\u001b[39m [timestamps[\u001b[39m0\u001b[39m]]\n",
      "File \u001b[1;32mc:\\Users\\cagatay\\Desktop\\Biobss Workspace\\pre_release\\BIOBSS\\biobss\\pipeline\\feature_extraction.py:24\u001b[0m, in \u001b[0;36mFeature.process\u001b[1;34m(self, *args, **kwargs)\u001b[0m\n\u001b[0;32m     22\u001b[0m kwargs\u001b[39m.\u001b[39mupdate(\u001b[39mself\u001b[39m\u001b[39m.\u001b[39mkwargs)\n\u001b[0;32m     23\u001b[0m kwargs\u001b[39m=\u001b[39m\u001b[39mself\u001b[39m\u001b[39m.\u001b[39m_process_args(\u001b[39m*\u001b[39m\u001b[39m*\u001b[39mkwargs)\n\u001b[1;32m---> 24\u001b[0m feature_output \u001b[39m=\u001b[39m \u001b[39mself\u001b[39;49m\u001b[39m.\u001b[39;49m__extract(\u001b[39m*\u001b[39;49margs,\u001b[39m*\u001b[39;49m\u001b[39m*\u001b[39;49mkwargs)\n\u001b[0;32m     25\u001b[0m \u001b[39mreturn\u001b[39;00m feature_output\n",
      "File \u001b[1;32mc:\\Users\\cagatay\\Desktop\\Biobss Workspace\\pre_release\\BIOBSS\\biobss\\pipeline\\feature_extraction.py:41\u001b[0m, in \u001b[0;36mFeature.__extract\u001b[1;34m(self, *args, **kwargs)\u001b[0m\n\u001b[0;32m     39\u001b[0m \u001b[39mdef\u001b[39;00m \u001b[39m__extract\u001b[39m(\u001b[39mself\u001b[39m, \u001b[39m*\u001b[39margs,\u001b[39m*\u001b[39m\u001b[39m*\u001b[39mkwargs):\n\u001b[1;32m---> 41\u001b[0m     result \u001b[39m=\u001b[39m \u001b[39mself\u001b[39;49m\u001b[39m.\u001b[39;49mfunction(\u001b[39m*\u001b[39;49margs,\u001b[39m*\u001b[39;49m\u001b[39m*\u001b[39;49mkwargs)\n\u001b[0;32m     42\u001b[0m     \u001b[39mreturn\u001b[39;00m result\n",
      "File \u001b[1;32mc:\\Users\\cagatay\\Desktop\\Biobss Workspace\\pre_release\\BIOBSS\\biobss\\imutools\\acc_features.py:53\u001b[0m, in \u001b[0;36mget_acc_features\u001b[1;34m(signals, signal_names, sampling_rate, feature_types, magnitude)\u001b[0m\n\u001b[0;32m     50\u001b[0m \u001b[39mif\u001b[39;00m domain \u001b[39min\u001b[39;00m [\u001b[39m'\u001b[39m\u001b[39mFreq\u001b[39m\u001b[39m'\u001b[39m, \u001b[39m'\u001b[39m\u001b[39mStat\u001b[39m\u001b[39m'\u001b[39m]:\n\u001b[0;32m     52\u001b[0m     domain_function \u001b[39m=\u001b[39m get_domain_function(domain)\n\u001b[1;32m---> 53\u001b[0m     features\u001b[39m.\u001b[39mupdate(domain_function(signals\u001b[39m=\u001b[39;49msignals,signal_names\u001b[39m=\u001b[39;49msignal_names,sampling_rate\u001b[39m=\u001b[39;49msampling_rate))\n\u001b[0;32m     54\u001b[0m     \u001b[39mif\u001b[39;00m magnitude:\n\u001b[0;32m     55\u001b[0m         \u001b[39msum\u001b[39m\u001b[39m=\u001b[39m\u001b[39m0\u001b[39m\n",
      "File \u001b[1;32mc:\\Users\\cagatay\\Desktop\\Biobss Workspace\\pre_release\\BIOBSS\\biobss\\imutools\\acc_freqdomain.py:75\u001b[0m, in \u001b[0;36macc_freq_features\u001b[1;34m(signals, signal_names, sampling_rate)\u001b[0m\n\u001b[0;32m     72\u001b[0m     f, pxx \u001b[39m=\u001b[39m sig_psd(sig\u001b[39m=\u001b[39msignal, sampling_rate\u001b[39m=\u001b[39msampling_rate, method\u001b[39m=\u001b[39m\u001b[39m'\u001b[39m\u001b[39mwelch\u001b[39m\u001b[39m'\u001b[39m)\n\u001b[0;32m     74\u001b[0m     \u001b[39mfor\u001b[39;00m key,func \u001b[39min\u001b[39;00m FREQ_FEATURES\u001b[39m.\u001b[39mitems():\n\u001b[1;32m---> 75\u001b[0m         features_freq[\u001b[39m\"\u001b[39m\u001b[39m_\u001b[39m\u001b[39m\"\u001b[39m\u001b[39m.\u001b[39mjoin([signal_name, key])]\u001b[39m=\u001b[39mfunc(sigfft,freq,pxx,f)\n\u001b[0;32m     77\u001b[0m \u001b[39mreturn\u001b[39;00m features_freq\n",
      "File \u001b[1;32mc:\\Users\\cagatay\\Desktop\\Biobss Workspace\\pre_release\\BIOBSS\\biobss\\imutools\\acc_freqdomain.py:27\u001b[0m, in \u001b[0;36m<lambda>\u001b[1;34m(sigfft, freq, _0, _1)\u001b[0m\n\u001b[0;32m      4\u001b[0m \u001b[39mfrom\u001b[39;00m \u001b[39mbiobss\u001b[39;00m\u001b[39m.\u001b[39;00m\u001b[39mcommon\u001b[39;00m\u001b[39m.\u001b[39;00m\u001b[39msignal_fft\u001b[39;00m \u001b[39mimport\u001b[39;00m \u001b[39m*\u001b[39m\n\u001b[0;32m      5\u001b[0m \u001b[39mfrom\u001b[39;00m \u001b[39mbiobss\u001b[39;00m\u001b[39m.\u001b[39;00m\u001b[39mcommon\u001b[39;00m\u001b[39m.\u001b[39;00m\u001b[39msignal_psd\u001b[39;00m \u001b[39mimport\u001b[39;00m \u001b[39m*\u001b[39m\n\u001b[0;32m      8\u001b[0m FREQ_FEATURES \u001b[39m=\u001b[39m {\n\u001b[0;32m      9\u001b[0m     \u001b[39m\"\u001b[39m\u001b[39mfft_mean\u001b[39m\u001b[39m\"\u001b[39m: \u001b[39mlambda\u001b[39;00m sigfft, _0, _1, _2: np\u001b[39m.\u001b[39mmean(sigfft), \n\u001b[0;32m     10\u001b[0m     \u001b[39m\"\u001b[39m\u001b[39mfft_std\u001b[39m\u001b[39m\"\u001b[39m: \u001b[39mlambda\u001b[39;00m sigfft, _0, _1, _2: np\u001b[39m.\u001b[39mstd(sigfft),\n\u001b[0;32m     11\u001b[0m     \u001b[39m\"\u001b[39m\u001b[39mfft_mad\u001b[39m\u001b[39m\"\u001b[39m: \u001b[39mlambda\u001b[39;00m sigfft, _0, _1, _2: np\u001b[39m.\u001b[39mmean(np\u001b[39m.\u001b[39mabs(sigfft \u001b[39m-\u001b[39m np\u001b[39m.\u001b[39mmean(sigfft))),\n\u001b[0;32m     12\u001b[0m     \u001b[39m\"\u001b[39m\u001b[39mfft_min\u001b[39m\u001b[39m\"\u001b[39m: \u001b[39mlambda\u001b[39;00m sigfft, _0, _1, _2: np\u001b[39m.\u001b[39mmin(sigfft),\n\u001b[0;32m     13\u001b[0m     \u001b[39m\"\u001b[39m\u001b[39mfft_max\u001b[39m\u001b[39m\"\u001b[39m: \u001b[39mlambda\u001b[39;00m sigfft, _0, _1, _2: np\u001b[39m.\u001b[39mmax(sigfft),\n\u001b[0;32m     14\u001b[0m     \u001b[39m\"\u001b[39m\u001b[39mfft_range\u001b[39m\u001b[39m\"\u001b[39m: \u001b[39mlambda\u001b[39;00m sigfft, _0, _1, _2: np\u001b[39m.\u001b[39mmax(sigfft) \u001b[39m-\u001b[39m np\u001b[39m.\u001b[39mmin(sigfft),\n\u001b[0;32m     15\u001b[0m     \u001b[39m\"\u001b[39m\u001b[39mfft_median\u001b[39m\u001b[39m\"\u001b[39m: \u001b[39mlambda\u001b[39;00m sigfft, _0, _1, _2: np\u001b[39m.\u001b[39mmedian(sigfft),\n\u001b[0;32m     16\u001b[0m     \u001b[39m\"\u001b[39m\u001b[39mfft_medad\u001b[39m\u001b[39m\"\u001b[39m: \u001b[39mlambda\u001b[39;00m sigfft, _0, _1, _2: np\u001b[39m.\u001b[39mmedian(np\u001b[39m.\u001b[39mabs(sigfft \u001b[39m-\u001b[39m np\u001b[39m.\u001b[39mmedian(sigfft))),\n\u001b[0;32m     17\u001b[0m     \u001b[39m\"\u001b[39m\u001b[39mfft_iqr\u001b[39m\u001b[39m\"\u001b[39m: \u001b[39mlambda\u001b[39;00m sigfft, _0, _1, _2: np\u001b[39m.\u001b[39mpercentile(sigfft, \u001b[39m75\u001b[39m) \u001b[39m-\u001b[39m np\u001b[39m.\u001b[39mpercentile(sigfft, \u001b[39m25\u001b[39m),\n\u001b[0;32m     18\u001b[0m     \u001b[39m\"\u001b[39m\u001b[39mfft_abmean\u001b[39m\u001b[39m\"\u001b[39m: \u001b[39mlambda\u001b[39;00m sigfft, _0, _1, _2: np\u001b[39m.\u001b[39msum(sigfft \u001b[39m>\u001b[39m np\u001b[39m.\u001b[39mmean(sigfft)),\n\u001b[0;32m     19\u001b[0m     \u001b[39m\"\u001b[39m\u001b[39mfft_npeaks\u001b[39m\u001b[39m\"\u001b[39m: \u001b[39mlambda\u001b[39;00m sigfft, _0, _1, _2: \u001b[39mlen\u001b[39m(signal\u001b[39m.\u001b[39mfind_peaks(sigfft)[\u001b[39m0\u001b[39m]),\n\u001b[0;32m     20\u001b[0m     \u001b[39m\"\u001b[39m\u001b[39mfft_skew\u001b[39m\u001b[39m\"\u001b[39m: \u001b[39mlambda\u001b[39;00m sigfft, _0, _1, _2: stats\u001b[39m.\u001b[39mskew(sigfft),\n\u001b[0;32m     21\u001b[0m     \u001b[39m\"\u001b[39m\u001b[39mfft_kurtosis\u001b[39m\u001b[39m\"\u001b[39m: \u001b[39mlambda\u001b[39;00m sigfft, _0, _1, _2: stats\u001b[39m.\u001b[39mkurtosis(sigfft),\n\u001b[0;32m     22\u001b[0m     \u001b[39m\"\u001b[39m\u001b[39mfft_energy\u001b[39m\u001b[39m\"\u001b[39m: \u001b[39mlambda\u001b[39;00m sigfft, _0, _1, _2: np\u001b[39m.\u001b[39msum(sigfft\u001b[39m*\u001b[39m\u001b[39m*\u001b[39m\u001b[39m2\u001b[39m)\u001b[39m/\u001b[39m\u001b[39m100\u001b[39m,\n\u001b[0;32m     23\u001b[0m     \u001b[39m\"\u001b[39m\u001b[39mfft_entropy\u001b[39m\u001b[39m\"\u001b[39m: \u001b[39mlambda\u001b[39;00m sigfft, _0, _1, _2: np\u001b[39m.\u001b[39msum(sigfft\u001b[39m*\u001b[39mnp\u001b[39m.\u001b[39mlog(sigfft)),\n\u001b[0;32m     24\u001b[0m     \u001b[39m\"\u001b[39m\u001b[39mf1sc\u001b[39m\u001b[39m\"\u001b[39m: \u001b[39mlambda\u001b[39;00m _0,_1,pxx,fxx: sig_power(pxx,fxx,[\u001b[39m0.1\u001b[39m,\u001b[39m0.2\u001b[39m]),\n\u001b[0;32m     25\u001b[0m     \u001b[39m\"\u001b[39m\u001b[39mf2sc\u001b[39m\u001b[39m\"\u001b[39m: \u001b[39mlambda\u001b[39;00m _0,_1,pxx,fxx: sig_power(pxx,fxx,[\u001b[39m0.2\u001b[39m,\u001b[39m0.3\u001b[39m]),\n\u001b[0;32m     26\u001b[0m     \u001b[39m\"\u001b[39m\u001b[39mf3sc\u001b[39m\u001b[39m\"\u001b[39m: \u001b[39mlambda\u001b[39;00m _0,_1,pxx,fxx: sig_power(pxx,fxx,[\u001b[39m0.3\u001b[39m,\u001b[39m0.4\u001b[39m]),\n\u001b[1;32m---> 27\u001b[0m     \u001b[39m\"\u001b[39m\u001b[39mmax_freq\u001b[39m\u001b[39m\"\u001b[39m: \u001b[39mlambda\u001b[39;00m sigfft, freq, _0, _1: fft_peaks(sigfft,freq,\u001b[39m1\u001b[39;49m,loc\u001b[39m=\u001b[39;49m\u001b[39mTrue\u001b[39;49;00m),\n\u001b[0;32m     28\u001b[0m }\n\u001b[0;32m     30\u001b[0m \u001b[39mdef\u001b[39;00m \u001b[39macc_freq_features\u001b[39m(signals: \u001b[39mlist\u001b[39m, signal_names:\u001b[39mlist\u001b[39m, sampling_rate:\u001b[39mfloat\u001b[39m) \u001b[39m-\u001b[39m\u001b[39m>\u001b[39m \u001b[39mdict\u001b[39m:\n\u001b[0;32m     31\u001b[0m     \u001b[39m\"\"\"Calculates frequency-domain features for ACC signal(s).\u001b[39;00m\n\u001b[0;32m     32\u001b[0m \n\u001b[0;32m     33\u001b[0m \u001b[39m    From:\u001b[39;00m\n\u001b[1;32m   (...)\u001b[0m\n\u001b[0;32m     65\u001b[0m \u001b[39m        dict: Dictionary of frequency domain features.\u001b[39;00m\n\u001b[0;32m     66\u001b[0m \u001b[39m    \"\"\"\u001b[39;00m\n",
      "File \u001b[1;32mc:\\Users\\cagatay\\Desktop\\Biobss Workspace\\pre_release\\BIOBSS\\biobss\\common\\signal_fft.py:49\u001b[0m, in \u001b[0;36mfft_peaks\u001b[1;34m(sigfft, freq, peakno, loc)\u001b[0m\n\u001b[0;32m     47\u001b[0m     \u001b[39mreturn\u001b[39;00m sorted_peaks[peakno\u001b[39m-\u001b[39m\u001b[39m1\u001b[39m]\n\u001b[0;32m     48\u001b[0m \u001b[39melse\u001b[39;00m:\n\u001b[1;32m---> 49\u001b[0m     \u001b[39mreturn\u001b[39;00m sorted_freq[peakno\u001b[39m-\u001b[39;49m\u001b[39m1\u001b[39;49m]\n",
      "\u001b[1;31mIndexError\u001b[0m: index 0 is out of bounds for axis 0 with size 0"
     ]
    },
    {
     "data": {
      "image/png": "[encoded data removed]",
      "text/plain": [
       "<Figure size 640x480 with 1 Axes>"
      ]
     },
     "metadata": {},
     "output_type": "display_data"
    }
   ],
   "source": [
    "# Statistical and signal features are extracted from the EDA_Tonic, EDA_Phasic and EDA_Raw channels\n",
    "# Supplied prefix is added to the feature name\n",
    "pipeline.extract_features()\n"
   ]
  },
  {
   "cell_type": "code",
   "execution_count": 18,
   "metadata": {},
   "outputs": [
    {
     "data": {
      "text/html": [
       "<div>\n",
       "<style scoped>\n",
       "    .dataframe tbody tr th:only-of-type {\n",
       "        vertical-align: middle;\n",
       "    }\n",
       "\n",
       "    .dataframe tbody tr th {\n",
       "        vertical-align: top;\n",
       "    }\n",
       "\n",
       "    .dataframe thead th {\n",
       "        text-align: right;\n",
       "    }\n",
       "</style>\n",
       "<table border=\"1\" class=\"dataframe\">\n",
       "  <thead>\n",
       "    <tr style=\"text-align: right;\">\n",
       "      <th></th>\n",
       "      <th>X_fft_mean</th>\n",
       "      <th>X_fft_std</th>\n",
       "      <th>X_fft_mad</th>\n",
       "      <th>X_fft_min</th>\n",
       "      <th>X_fft_max</th>\n",
       "      <th>X_fft_range</th>\n",
       "      <th>X_fft_median</th>\n",
       "      <th>X_fft_medad</th>\n",
       "      <th>X_fft_iqr</th>\n",
       "      <th>X_fft_abmean</th>\n",
       "      <th>...</th>\n",
       "      <th>magn_pcount</th>\n",
       "      <th>magn_abmean</th>\n",
       "      <th>magn_npeaks</th>\n",
       "      <th>magn_skew</th>\n",
       "      <th>magn_kurtosis</th>\n",
       "      <th>magn_energy</th>\n",
       "      <th>magn_momentum</th>\n",
       "      <th>X_Y_corr</th>\n",
       "      <th>X_Z_corr</th>\n",
       "      <th>Y_Z_corr</th>\n",
       "    </tr>\n",
       "  </thead>\n",
       "  <tbody>\n",
       "    <tr>\n",
       "      <th>0.0</th>\n",
       "      <td>0.015602</td>\n",
       "      <td>0.042894</td>\n",
       "      <td>0.014939</td>\n",
       "      <td>5.612409e-16</td>\n",
       "      <td>0.761791</td>\n",
       "      <td>0.761791</td>\n",
       "      <td>0.007208</td>\n",
       "      <td>0.005544</td>\n",
       "      <td>0.014043</td>\n",
       "      <td>246</td>\n",
       "      <td>...</td>\n",
       "      <td>1920</td>\n",
       "      <td>498</td>\n",
       "      <td>473</td>\n",
       "      <td>2.140182</td>\n",
       "      <td>5.176801</td>\n",
       "      <td>57.6</td>\n",
       "      <td>1.642593</td>\n",
       "      <td>0.439974</td>\n",
       "      <td>0.797361</td>\n",
       "      <td>0.481873</td>\n",
       "    </tr>\n",
       "  </tbody>\n",
       "</table>\n",
       "<p>1 rows × 147 columns</p>\n",
       "</div>"
      ],
      "text/plain": [
       "     X_fft_mean  X_fft_std  X_fft_mad     X_fft_min  X_fft_max  X_fft_range  \\\n",
       "0.0    0.015602   0.042894   0.014939  5.612409e-16   0.761791     0.761791   \n",
       "\n",
       "     X_fft_median  X_fft_medad  X_fft_iqr  X_fft_abmean  ...  magn_pcount  \\\n",
       "0.0      0.007208     0.005544   0.014043           246  ...         1920   \n",
       "\n",
       "     magn_abmean  magn_npeaks  magn_skew  magn_kurtosis  magn_energy  \\\n",
       "0.0          498          473   2.140182       5.176801         57.6   \n",
       "\n",
       "     magn_momentum  X_Y_corr  X_Z_corr  Y_Z_corr  \n",
       "0.0       1.642593  0.439974  0.797361  0.481873  \n",
       "\n",
       "[1 rows x 147 columns]"
      ]
     },
     "execution_count": 18,
     "metadata": {},
     "output_type": "execute_result"
    }
   ],
   "source": [
    "# Represetation of the pipeline features after extraction\n",
    "# Each row is a feature vector for a window\n",
    "# index is the timestamp of the window (this can be selected as start, end or center of the window)\n",
    "pipeline.features"
   ]
  }
 ],
 "metadata": {
  "kernelspec": {
   "display_name": "biobss_dev",
   "language": "python",
   "name": "python3"
  },
  "language_info": {
   "codemirror_mode": {
    "name": "ipython",
    "version": 3
   },
   "file_extension": ".py",
   "mimetype": "text/x-python",
   "name": "python",
   "nbconvert_exporter": "python",
   "pygments_lexer": "ipython3",
   "version": "3.8.0"
  },
  "orig_nbformat": 4,
  "vscode": {
   "interpreter": {
    "hash": "e2da08f22468fb3696c83331e9a8c56525a02dc4129e32fd96f2f3d0a3b229d8"
   }
  }
 },
 "nbformat": 4,
 "nbformat_minor": 2
}
