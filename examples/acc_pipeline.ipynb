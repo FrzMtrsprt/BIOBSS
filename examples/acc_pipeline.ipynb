{
 "cells": [
  {
   "cell_type": "markdown",
   "metadata": {},
   "source": [
    "__BIOBSS - ACC Pipeline__\n",
    "\n",
    "_This notebook includes guidelines to help using pipeline module for ACC signal processing and feature extraction._"
   ]
  },
  {
   "cell_type": "code",
   "execution_count": 1,
   "metadata": {},
   "outputs": [],
   "source": [
    "#Import BIOBSS and other required packages\n",
    "\n",
    "#import biobss\n",
    "import os\n",
    "import sys\n",
    "import pandas as pd\n",
    "import numpy as np\n",
    "import matplotlib.pyplot as plt\n",
    "#import biobss from local to run without installing\n",
    "import sys\n",
    "sys.path.append(\"../\")\n",
    "import biobss"
   ]
  },
  {
   "cell_type": "markdown",
   "metadata": {},
   "source": [
    "# Table of Contents\n",
    "1. [ACC Sample Data](#sampledata)<br>\n",
    "2. [Peak Detection](#acc_peak)<br>\n",
    "3. [Create Bio Process Objects](#create_bioprocess)<br>\n",
    "4. [Create Feature Objects](#create_feature)<br>\n",
    "5. [Create Bio Pipeline Object](#create_pipeline)<br>\n",
    "6. [Create Bio Channel Objects](#create_biochannel)<br>\n",
    "7. [Set Pipeline Inputs](#set_input)<br>\n",
    "8. [Add Bio Process Objects to Pipeline](#add_bioprocess)<br>\n",
    "9. [Add Feature Objects to Pipeline](#add_feature)\n",
    "10. [Run Pipeline](#run_pipeline)<br>\n",
    "11. [Extract Features](#extract_features)<br>"
   ]
  },
  {
   "cell_type": "markdown",
   "metadata": {},
   "source": [
    "### __ACC Sample Data__\n",
    "<a id=\"sampledata\"></a>"
   ]
  },
  {
   "cell_type": "markdown",
   "metadata": {},
   "source": [
    "ACC sample data is provided as a csv file in BIOBSS\\sample data. The data file contains 3-axis ACC signals of 5-minutes length, sampled at 32 Hz. "
   ]
  },
  {
   "cell_type": "code",
   "execution_count": 2,
   "metadata": {},
   "outputs": [],
   "source": [
    "#Load the sample data\n",
    "data, info = biobss.utils.load_sample_data(data_type='ACC')\n",
    "accx = np.asarray(data['ACCx'])\n",
    "accy = np.asarray(data['ACCy'])\n",
    "accz = np.asarray(data['ACCz'])\n",
    "fs = info['sampling_rate']\n",
    "L = info['signal_length']"
   ]
  },
  {
   "cell_type": "markdown",
   "metadata": {},
   "source": [
    "### __Create Bio Process Objects__\n",
    "<a id=\"create_bioprocess\"></a>"
   ]
  },
  {
   "cell_type": "markdown",
   "metadata": {},
   "source": [
    "Any process can be added to the pipeline if the input is a signal and ouput is a signal or collection of signals. The process can be added by passing the method to a Bio_Process constructor. The Bio_Process constructor takes the following arguments:\n",
    "\n",
    "- process_method: The method to be added to the pipeline\n",
    "- inplace: If True, result of the process will modify the input signal. If False, the result of the process will be returned as a new signal and added as a new channel.\n",
    "- prefix: The prefix to be added to the output channel name. If inplace is True, prefix will be ignored.\n",
    "  - If inplace is False, the output channel name will be prefix + input channel name.\n",
    "  - <code> (Default: None) (if inplace = False  and prefix = None, prefix will be set to 'processed') </code>\n",
    "- return_index : If a return_index is set, selected index of the result will be set as result. If return_index is None, the whole result will be set as result. (Default: None)\n",
    "- argmap: this dictionary maps different named arguments. For example, Bio_Channel already have a sampling_rate attribute. If the process method requires sampling rate with a different name, it can be mapped to the Bio_Channel attribute.<code> EXAMPLE : argmap = {'sampling_rate': 'fs'} or argmap = {'sampling_rate': 'sample_rate'} </code>\n",
    "- **kwargs: Keyword arguments to be passed to the process method\n",
    "\n",
    "\n",
    "\n",
    "\n",
    "\n",
    "\n",
    "Pipeline processes the given input sequentially. The input is passed from one process to the next."
   ]
  },
  {
   "cell_type": "code",
   "execution_count": 3,
   "metadata": {},
   "outputs": [],
   "source": [
    "# Create steps for the pipeline\n",
    "\n",
    "# Filter steps process,return filtered signal for all input signals\n",
    "clean=biobss.pipeline.Bio_Process(process_name=\"clean\",\n",
    "    process_method=biobss.preprocess.filter_signal, argmap={\"sampling_rate\":\"sampling_rate\"}, signal_type='ACC', method='lowpass')\n",
    "\n",
    "# Signal normalization step, return normalized signal for all input sisgnals\n",
    "normalize = biobss.pipeline.Bio_Process(process_name=\"normalize\",\n",
    "    process_method=biobss.preprocess.normalize_signal)\n",
    "\n"
   ]
  },
  {
   "cell_type": "markdown",
   "metadata": {},
   "source": [
    "### __Create Feature Objects__\n",
    "<a id=\"create_feature\"></a>"
   ]
  },
  {
   "cell_type": "code",
   "execution_count": 4,
   "metadata": {},
   "outputs": [],
   "source": [
    "# Create feature extraction steps\n",
    "\n",
    "# Extract time domain features. input_signals dictionary contains feature prefixes as keys and input signals as values\n",
    "# For example rms of EDA_Tonic is extracted as Tonic_rms in this case\n",
    "#corr_features = biobss.pipeline.Feature(name=\"corr_features\", function=biobss.imutools.get_corr_features, parameters={\"modality\": \"ACC\", \"sigtype\": \"ACC\",\"signal_names\":['ACCx','ACCy','ACCz']}, input_signals={'ACC':['ACCx', 'ACCy', 'ACCz']}, sampling_rate=fs)\n",
    "#freq_features = biobss.pipeline.Feature(name=\"freq_features\", function=biobss.imutools.get_freq_features, parameters={\"modality\": \"ACC\", \"sigtype\": \"ACC\",\"signal_names\":['ACCx','ACCy','ACCz']}, input_signals={'ACC':['ACCx', 'ACCy', 'ACCz']}, sampling_rate=fs, prefix='signal')\n",
    "#stat_features = biobss.pipeline.Feature(name=\"stat_features\", function=biobss.imutools.get_stat_features, parameters={\"modality\": \"ACC\", \"sigtype\": \"ACC\",\"signal_names\":['ACCx','ACCy','ACCz']}, input_signals={'ACC':['ACCx', 'ACCy', 'ACCz']}, sampling_rate=fs)\n",
    "acc_features = biobss.pipeline.Feature(name=\"acc_features\", function=biobss.imutools.get_acc_features,  sampling_rate=fs, magnitude=True)"
   ]
  },
  {
   "cell_type": "markdown",
   "metadata": {},
   "source": [
    "### __Create Bio Pipeline Object__\n",
    "<a id=\"create_pipeline\"></a>"
   ]
  },
  {
   "cell_type": "code",
   "execution_count": 5,
   "metadata": {},
   "outputs": [],
   "source": [
    "# BIOBSS Pipeline is created\n",
    "# windowed_process=True means that the pipeline will process the signal in windows\n",
    "# window_size=60 means that the pipeline will process 60 seconds of data at a time\n",
    "# step_size=20 means signal will be shifted by 20 seconds for each window\n",
    "pipeline = biobss.pipeline.Bio_Pipeline(windowed_process=False)"
   ]
  },
  {
   "cell_type": "markdown",
   "metadata": {},
   "source": [
    "### __Create Bio Channel Objects__\n",
    "<a id=\"create_biochannel\"></a>"
   ]
  },
  {
   "cell_type": "code",
   "execution_count": 6,
   "metadata": {},
   "outputs": [
    {
     "data": {
      "text/plain": [
       "ACCx (32Hz) ((60.0,)s) (1 windows) ((1920,)) ((1920,)) (int64)[-27 -27 -27 ... -46 -45 -46]"
      ]
     },
     "execution_count": 6,
     "metadata": {},
     "output_type": "execute_result"
    }
   ],
   "source": [
    "# Input is created as Bio_Channel object\n",
    "# Bio_Channel object requires following parameters: name, signal, sampling_rate\n",
    "# Optionally timestamp can be provided\n",
    "# If timestamp is provided, resolution of the timestamp should be provided. Possible resolutions are:'min', 's', 'ms', 'us'\n",
    "# If timestamp is not provided, timestamp will be created using sampling_rate. Default resolution is 's'\n",
    "channel_x=biobss.pipeline.Bio_Channel(signal=accx,name=\"ACCx\",sampling_rate=fs)\n",
    "channel_y=biobss.pipeline.Bio_Channel(signal=accy,name=\"ACCy\",sampling_rate=fs)\n",
    "channel_z=biobss.pipeline.Bio_Channel(signal=accz,name=\"ACCz\",sampling_rate=fs)\n",
    "\n",
    "# a Bio Channel object is created with sample data, with the name EDA_Raw and sampling rate 700\n",
    "# timestamp is not provided, so timestamp will be created using sampling_rate\n",
    "\n",
    "# Simply bio_channel the channel object will print the channel properties\n",
    "channel_x"
   ]
  },
  {
   "cell_type": "code",
   "execution_count": 7,
   "metadata": {},
   "outputs": [
    {
     "data": {
      "text/plain": [
       "array([-27, -27, -27, ..., -46, -45, -46], dtype=int64)"
      ]
     },
     "execution_count": 7,
     "metadata": {},
     "output_type": "execute_result"
    }
   ],
   "source": [
    "# bio_channel.channel accesses the data in the channel object\n",
    "channel_x.channel"
   ]
  },
  {
   "cell_type": "markdown",
   "metadata": {},
   "source": [
    "### __Create Bio Data Object__\n",
    "<a id=\"create_biodata\"></a>"
   ]
  },
  {
   "cell_type": "code",
   "execution_count": 8,
   "metadata": {},
   "outputs": [],
   "source": [
    "bio_data = biobss.pipeline.Bio_Data()"
   ]
  },
  {
   "cell_type": "code",
   "execution_count": 9,
   "metadata": {},
   "outputs": [],
   "source": [
    "bio_data.add_channel(channel_x, 'ACCx')\n",
    "bio_data.add_channel(channel_y, 'ACCy')\n",
    "bio_data.add_channel(channel_z, 'ACCz')"
   ]
  },
  {
   "cell_type": "code",
   "execution_count": 10,
   "metadata": {},
   "outputs": [
    {
     "data": {
      "text/plain": [
       "Signal object with 3 channel(s)\n",
       "ACCx (32Hz) ((60.0,)s) (1 windows) ((1920,))\n",
       "ACCy (32Hz) ((60.0,)s) (1 windows) ((1920,))\n",
       "ACCz (32Hz) ((60.0,)s) (1 windows) ((1920,))"
      ]
     },
     "execution_count": 10,
     "metadata": {},
     "output_type": "execute_result"
    }
   ],
   "source": [
    "bio_data"
   ]
  },
  {
   "cell_type": "markdown",
   "metadata": {},
   "source": [
    "### __Set Pipeline Inputs__\n",
    "<a id=\"set_input\"></a>"
   ]
  },
  {
   "cell_type": "code",
   "execution_count": 11,
   "metadata": {},
   "outputs": [
    {
     "data": {
      "text/plain": [
       "Signal object with 3 channel(s)\n",
       "ACCx (32Hz) ((60.0,)s) (1 windows) ((1920,))\n",
       "ACCy (32Hz) ((60.0,)s) (1 windows) ((1920,))\n",
       "ACCz (32Hz) ((60.0,)s) (1 windows) ((1920,))"
      ]
     },
     "execution_count": 11,
     "metadata": {},
     "output_type": "execute_result"
    }
   ],
   "source": [
    "# Pipeline input can be set from an array, a dataframe, pandas series, list, Bio_Channel, Bio_Data\n",
    "\n",
    "# In this case, the pipeline input is set with an array\n",
    "#pipeline.set_input(accx,sampling_rate=fs,name='ACCx_Raw')\n",
    "#pipeline.set_input(accy,sampling_rate=fs,name='ACCy_Raw')\n",
    "#pipeline.set_input(accz,sampling_rate=fs,name='ACCz_Raw')\n",
    "\n",
    "# Alternatively, the pipeline input can be set with a Bio_Channel object, in this case the name and sampling rate are not required as they are already provided in the Bio_Channel object\n",
    "#pipeline.set_input(channel_x)\n",
    "#pipeline.set_input(channel_y)\n",
    "#pipeline.set_input(channel_z)\n",
    "\n",
    "pipeline.set_input(bio_data)\n",
    "pipeline.input"
   ]
  },
  {
   "cell_type": "markdown",
   "metadata": {},
   "source": [
    "#### __Add Bio Process Objects to Pipeline__\n",
    "<a id=\"add_bioprocess\"></a>"
   ]
  },
  {
   "cell_type": "code",
   "execution_count": 12,
   "metadata": {},
   "outputs": [],
   "source": [
    "# Pipeline steps are added to the pipeline sequentially, the order of the steps is important as the output of one step is the input of the next step\n",
    "# These steps will be processed in the order they are added to the pipeline\n",
    "pipeline.preprocess_queue.add_process(clean,input_signals=['ACCx'],output_signals=['ACCx'])\n",
    "pipeline.preprocess_queue.add_process(clean,input_signals=['ACCy'],output_signals=['ACCy'])\n",
    "pipeline.preprocess_queue.add_process(clean,input_signals=['ACCz'],output_signals=['ACCz'])\n",
    "pipeline.preprocess_queue.add_process(normalize,input_signals=['ACCx'],output_signals=['ACCx'])\n",
    "pipeline.preprocess_queue.add_process(normalize,input_signals=['ACCy'],output_signals=['ACCy'])\n",
    "pipeline.preprocess_queue.add_process(normalize,input_signals=['ACCz'],output_signals=['ACCz'])\n",
    "\n",
    "\n",
    "\n",
    "# Currently all the steps are added to the preprocess_queue\n",
    "# After the preprocess_queue is processed, data will be segmented into windows (if windowed_process=True)\n",
    "# For running process in windows, the process_queue is used\n",
    "\n",
    "## This structure will change in the future"
   ]
  },
  {
   "cell_type": "markdown",
   "metadata": {},
   "source": [
    "#### __Add Feature Objects to Pipeline__\n",
    "<a id=\"add_feature\"></a>"
   ]
  },
  {
   "cell_type": "code",
   "execution_count": 13,
   "metadata": {},
   "outputs": [],
   "source": [
    "# Features are added to the pipeline\n",
    "#pipeline.add_feature_step(corr_features)\n",
    "#pipeline.add_feature_step(freq_features)\n",
    "#pipeline.add_feature_step(stat_features)\n",
    "pipeline.add_feature_step(acc_features, input_signals=[['ACCx','ACCy','ACCz']],signal_names=['X','Y','Z'])"
   ]
  },
  {
   "cell_type": "code",
   "execution_count": 14,
   "metadata": {},
   "outputs": [
    {
     "data": {
      "text/plain": [
       "Bio_Pipeline:\n",
       "\tPreprocessors: Process list:\n",
       "\t1: clean(ACCx) -> ACCx\n",
       "\t2: clean(ACCy) -> ACCy\n",
       "\t3: clean(ACCz) -> ACCz\n",
       "\t4: normalize(ACCx) -> ACCx\n",
       "\t5: normalize(ACCy) -> ACCy\n",
       "\t6: normalize(ACCz) -> ACCz\n",
       "\n",
       "\tProcessors: Process list:\n",
       "\n",
       "\tPostprocessors: Process list:\n",
       "\n",
       "\tWindow Size(Seconds): Not Windowed\n",
       "\tStep Size: Not Windowed"
      ]
     },
     "execution_count": 14,
     "metadata": {},
     "output_type": "execute_result"
    }
   ],
   "source": [
    "# Represetation of the pipeline\n",
    "pipeline"
   ]
  },
  {
   "cell_type": "markdown",
   "metadata": {},
   "source": [
    "#### __Run Pipeline__\n",
    "<a id=\"run_pipeline\"></a>"
   ]
  },
  {
   "cell_type": "code",
   "execution_count": 15,
   "metadata": {},
   "outputs": [],
   "source": [
    "# Pipeline is run, this will process the input data in the pipeline\n",
    "pipeline.run_pipeline()"
   ]
  },
  {
   "cell_type": "code",
   "execution_count": 16,
   "metadata": {},
   "outputs": [
    {
     "data": {
      "text/plain": [
       "Signal object with 3 channel(s)\n",
       "ACCx (32Hz) ((60.0,)s) (1 windows) ((1920,))\n",
       "ACCy (32Hz) ((60.0,)s) (1 windows) ((1920,))\n",
       "ACCz (32Hz) ((60.0,)s) (1 windows) ((1920,))"
      ]
     },
     "execution_count": 16,
     "metadata": {},
     "output_type": "execute_result"
    }
   ],
   "source": [
    "# Represetation of the pipeline data after running\n",
    "pipeline.data\n",
    "\n",
    "# Data is cleaned\n",
    "# Data is normalized\n",
    "# Data is decomposed into tonic and phasic components, these componenets are added to the pipeline data as EDA_Tonic and EDA_Phasic channels\n",
    "# Lastly, data is resampled to 350Hz (All channels are resampled to 350Hz) (target_sample_rate=350)\n",
    "# Data is segmented into windows of 60 seconds with a step size of 20 seconds"
   ]
  },
  {
   "cell_type": "markdown",
   "metadata": {},
   "source": [
    "#### __Extract Features__\n",
    "<a id=\"extract_features\"></a>"
   ]
  },
  {
   "cell_type": "code",
   "execution_count": 17,
   "metadata": {},
   "outputs": [
    {
     "ename": "ValueError",
     "evalue": "Timestamps must be the same for all input signals.",
     "output_type": "error",
     "traceback": [
      "\u001b[1;31m---------------------------------------------------------------------------\u001b[0m",
      "\u001b[1;31mValueError\u001b[0m                                Traceback (most recent call last)",
      "\u001b[1;32mc:\\Users\\cagatay.tasci\\Desktop\\Biobss\\conflict\\BIOBSS\\examples\\acc_pipeline.ipynb Cell 32\u001b[0m in \u001b[0;36m<cell line: 3>\u001b[1;34m()\u001b[0m\n\u001b[0;32m      <a href='vscode-notebook-cell:/c%3A/Users/cagatay.tasci/Desktop/Biobss/conflict/BIOBSS/examples/acc_pipeline.ipynb#X43sZmlsZQ%3D%3D?line=0'>1</a>\u001b[0m \u001b[39m# Statistical and signal features are extracted from the EDA_Tonic, EDA_Phasic and EDA_Raw channels\u001b[39;00m\n\u001b[0;32m      <a href='vscode-notebook-cell:/c%3A/Users/cagatay.tasci/Desktop/Biobss/conflict/BIOBSS/examples/acc_pipeline.ipynb#X43sZmlsZQ%3D%3D?line=1'>2</a>\u001b[0m \u001b[39m# Supplied prefix is added to the feature name\u001b[39;00m\n\u001b[1;32m----> <a href='vscode-notebook-cell:/c%3A/Users/cagatay.tasci/Desktop/Biobss/conflict/BIOBSS/examples/acc_pipeline.ipynb#X43sZmlsZQ%3D%3D?line=2'>3</a>\u001b[0m pipeline\u001b[39m.\u001b[39;49mextract_features()\n",
      "File \u001b[1;32mc:\\Users\\cagatay.tasci\\Desktop\\Biobss\\conflict\\BIOBSS\\examples\\..\\biobss\\pipeline\\pipeline.py:125\u001b[0m, in \u001b[0;36mBio_Pipeline.extract_features\u001b[1;34m(self)\u001b[0m\n\u001b[0;32m    124\u001b[0m \u001b[39mdef\u001b[39;00m \u001b[39mextract_features\u001b[39m(\u001b[39mself\u001b[39m):\n\u001b[1;32m--> 125\u001b[0m     \u001b[39mself\u001b[39m\u001b[39m.\u001b[39mfeatures \u001b[39m=\u001b[39m \u001b[39mself\u001b[39;49m\u001b[39m.\u001b[39;49mfeature_list\u001b[39m.\u001b[39;49mrun_feature_queue(\u001b[39mself\u001b[39;49m\u001b[39m.\u001b[39;49mdata)\n",
      "File \u001b[1;32mc:\\Users\\cagatay.tasci\\Desktop\\Biobss\\conflict\\BIOBSS\\examples\\..\\biobss\\pipeline\\feature_queue.py:35\u001b[0m, in \u001b[0;36mFeature_Queue.run_feature_queue\u001b[1;34m(self, bio_data, reset)\u001b[0m\n\u001b[0;32m     33\u001b[0m     \u001b[39mself\u001b[39m\u001b[39m.\u001b[39mreset()\n\u001b[0;32m     34\u001b[0m \u001b[39mfor\u001b[39;00m i \u001b[39min\u001b[39;00m \u001b[39mrange\u001b[39m(\u001b[39mlen\u001b[39m(\u001b[39mself\u001b[39m\u001b[39m.\u001b[39mextraction_list)):\n\u001b[1;32m---> 35\u001b[0m     res \u001b[39m=\u001b[39m \u001b[39mself\u001b[39;49m\u001b[39m.\u001b[39;49mrun_next(bio_data)\n\u001b[0;32m     36\u001b[0m     \u001b[39mif\u001b[39;00m(\u001b[39mself\u001b[39m\u001b[39m.\u001b[39mprefix[i] \u001b[39mis\u001b[39;00m \u001b[39mnot\u001b[39;00m \u001b[39mNone\u001b[39;00m):\n\u001b[0;32m     37\u001b[0m         res\u001b[39m.\u001b[39mcolumns \u001b[39m=\u001b[39m [\u001b[39mself\u001b[39m\u001b[39m.\u001b[39mprefix[i] \u001b[39m+\u001b[39m \u001b[39m\"\u001b[39m\u001b[39m_\u001b[39m\u001b[39m\"\u001b[39m \u001b[39m+\u001b[39m c \u001b[39mfor\u001b[39;00m c \u001b[39min\u001b[39;00m res\u001b[39m.\u001b[39mcolumns]\n",
      "File \u001b[1;32mc:\\Users\\cagatay.tasci\\Desktop\\Biobss\\conflict\\BIOBSS\\examples\\..\\biobss\\pipeline\\feature_queue.py:50\u001b[0m, in \u001b[0;36mFeature_Queue.run_next\u001b[1;34m(self, bio_data)\u001b[0m\n\u001b[0;32m     48\u001b[0m     result \u001b[39m=\u001b[39m \u001b[39mself\u001b[39m\u001b[39m.\u001b[39mrun_windowed(inputs, args, kwargs, bio_data)\n\u001b[0;32m     49\u001b[0m \u001b[39melse\u001b[39;00m:\n\u001b[1;32m---> 50\u001b[0m     result \u001b[39m=\u001b[39m \u001b[39mself\u001b[39;49m\u001b[39m.\u001b[39;49mrun_single(inputs, args, kwargs, bio_data)\n\u001b[0;32m     52\u001b[0m \u001b[39mreturn\u001b[39;00m result\n",
      "File \u001b[1;32mc:\\Users\\cagatay.tasci\\Desktop\\Biobss\\conflict\\BIOBSS\\examples\\..\\biobss\\pipeline\\feature_queue.py:81\u001b[0m, in \u001b[0;36mFeature_Queue.run_single\u001b[1;34m(self, inputs, args, kwargs, bio_data, index)\u001b[0m\n\u001b[0;32m     79\u001b[0m timestamps \u001b[39m=\u001b[39m np\u001b[39m.\u001b[39marray(timestamps)\n\u001b[0;32m     80\u001b[0m \u001b[39mif\u001b[39;00m(\u001b[39mnot\u001b[39;00m np\u001b[39m.\u001b[39mall(timestamps \u001b[39m==\u001b[39m timestamps[\u001b[39m0\u001b[39m])):\n\u001b[1;32m---> 81\u001b[0m     \u001b[39mraise\u001b[39;00m \u001b[39mValueError\u001b[39;00m(\n\u001b[0;32m     82\u001b[0m         \u001b[39m\"\u001b[39m\u001b[39mTimestamps must be the same for all input signals.\u001b[39m\u001b[39m\"\u001b[39m)\n\u001b[0;32m     84\u001b[0m result \u001b[39m=\u001b[39m \u001b[39mself\u001b[39m\u001b[39m.\u001b[39mextraction_list[\u001b[39mself\u001b[39m\u001b[39m.\u001b[39mprocessed_index]\u001b[39m.\u001b[39mprocess(\n\u001b[0;32m     85\u001b[0m     \u001b[39m*\u001b[39margs, \u001b[39m*\u001b[39m\u001b[39m*\u001b[39mkwargs)\n\u001b[0;32m     86\u001b[0m result \u001b[39m=\u001b[39m \u001b[39mself\u001b[39m\u001b[39m.\u001b[39m_process_results_single(result)\n",
      "\u001b[1;31mValueError\u001b[0m: Timestamps must be the same for all input signals."
     ]
    }
   ],
   "source": [
    "# Statistical and signal features are extracted from the EDA_Tonic, EDA_Phasic and EDA_Raw channels\n",
    "# Supplied prefix is added to the feature name\n",
    "pipeline.extract_features()\n"
   ]
  },
  {
   "cell_type": "code",
   "execution_count": null,
   "metadata": {},
   "outputs": [],
   "source": [
    "# Represetation of the pipeline features after extraction\n",
    "# Each row is a feature vector for a window\n",
    "# index is the timestamp of the window (this can be selected as start, end or center of the window)\n",
    "pipeline.features"
   ]
  }
 ],
 "metadata": {
  "kernelspec": {
   "display_name": "biolib",
   "language": "python",
   "name": "python3"
  },
  "language_info": {
   "codemirror_mode": {
    "name": "ipython",
    "version": 3
   },
   "file_extension": ".py",
   "mimetype": "text/x-python",
   "name": "python",
   "nbconvert_exporter": "python",
   "pygments_lexer": "ipython3",
   "version": "3.8.12"
  },
  "orig_nbformat": 4,
  "vscode": {
   "interpreter": {
    "hash": "2fa1c4f98c7b87941450f311ed7a57ace56542b965a97c9ab1a41e28cb5fe538"
   }
  }
 },
 "nbformat": 4,
 "nbformat_minor": 2
}
