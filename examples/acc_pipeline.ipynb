{
 "cells": [
  {
   "cell_type": "markdown",
   "metadata": {},
   "source": [
    "__BIOBSS - ACC Pipeline__\n",
    "\n",
    "_This notebook includes guidelines to help using pipeline module for ACC signal processing and feature extraction._"
   ]
  },
  {
   "cell_type": "code",
   "execution_count": null,
   "metadata": {},
   "outputs": [],
   "source": [
    "#Import BIOBSS and other required packages\n",
    "\n",
    "\n",
    "import os\n",
    "import sys\n",
    "import pandas as pd\n",
    "import numpy as np\n",
    "import matplotlib.pyplot as plt\n",
    "\n",
    "sys.path.append(\"../\")\n",
    "os.getcwd()\n",
    "import biobss"
   ]
  },
  {
   "cell_type": "markdown",
   "metadata": {},
   "source": [
    "# Table of Contents\n",
    "1. [ACC Sample Data](#sampledata)<br>\n",
    "2. [Peak Detection](#acc_peak)<br>\n",
    "3. [Create Bio Process Objects](#create_bioprocess)<br>\n",
    "4. [Create Feature Objects](#create_feature)<br>\n",
    "5. [Create Bio Pipeline Object](#create_pipeline)<br>\n",
    "6. [Create Bio Channel Objects](#create_biochannel)<br>\n",
    "7. [Set Pipeline Inputs](#set_input)<br>\n",
    "8. [Add Bio Process Objects to Pipeline](#add_bioprocess)<br>\n",
    "9. [Add Feature Objects to Pipeline](#add_feature)\n",
    "10. [Run Pipeline](#run_pipeline)<br>\n",
    "11. [Extract Features](#extract_features)<br>"
   ]
  },
  {
   "cell_type": "markdown",
   "metadata": {},
   "source": [
    "### __ACC Sample Data__\n",
    "<a id=\"sampledata\"></a>"
   ]
  },
  {
   "cell_type": "markdown",
   "metadata": {},
   "source": [
    "ACC sample data is provided as a csv file in BIOBSS\\sample data. The data file contains 3-axis ACC signals of 5-minutes length, sampled at 32 Hz. "
   ]
  },
  {
   "cell_type": "code",
   "execution_count": null,
   "metadata": {},
   "outputs": [],
   "source": [
    "#Load the sample data\n",
    "data, info = biobss.utils.load_sample_data(data_type='ACC')\n",
    "accx = np.asarray(data['ACCx'])\n",
    "accy = np.asarray(data['ACCy'])\n",
    "accz = np.asarray(data['ACCz'])\n",
    "fs = info['sampling_rate']\n",
    "L = info['signal_length']"
   ]
  },
  {
   "cell_type": "markdown",
   "metadata": {},
   "source": [
    "### __Create Bio Process Objects__\n",
    "<a id=\"create_bioprocess\"></a>"
   ]
  },
  {
   "cell_type": "markdown",
   "metadata": {},
   "source": [
    "Any process can be added to the pipeline if the input is a signal and ouput is a signal or collection of signals. The process can be added by passing the method to a Bio_Process constructor. The Bio_Process constructor takes the following arguments:\n",
    "\n",
    "- process_method: The method to be added to the pipeline\n",
    "- inplace: If True, result of the process will modify the input signal. If False, the result of the process will be returned as a new signal and added as a new channel.\n",
    "- prefix: The prefix to be added to the output channel name. If inplace is True, prefix will be ignored.\n",
    "  - If inplace is False, the output channel name will be prefix + input channel name.\n",
    "  - <code> (Default: None) (if inplace = False  and prefix = None, prefix will be set to 'processed') </code>\n",
    "- return_index : If a return_index is set, selected index of the result will be set as result. If return_index is None, the whole result will be set as result. (Default: None)\n",
    "- argmap: this dictionary maps different named arguments. For example, Bio_Channel already have a sampling_rate attribute. If the process method requires sampling rate with a different name, it can be mapped to the Bio_Channel attribute.<code> EXAMPLE : argmap = {'sampling_rate': 'fs'} or argmap = {'sampling_rate': 'sample_rate'} </code>\n",
    "- **kwargs: Keyword arguments to be passed to the process method\n",
    "\n",
    "\n",
    "\n",
    "\n",
    "\n",
    "\n",
    "Pipeline processes the given input sequentially. The input is passed from one process to the next."
   ]
  },
  {
   "cell_type": "code",
   "execution_count": null,
   "metadata": {},
   "outputs": [],
   "source": [
    "# Create steps for the pipeline\n",
    "\n",
    "# Filter steps process,return filtered signal for all input signals\n",
    "clean=biobss.pipeline.Bio_Process(\n",
    "    process_method=biobss.preprocess.filter_signal, argmap={\"sampling_rate\":\"sampling_rate\"}, signal_type='ACC', method='lowpass')\n",
    "\n",
    "# Signal normalization step, return normalized signal for all input signals\n",
    "normalize = biobss.pipeline.Bio_Process(\n",
    "    process_method=biobss.preprocess.normalize_signal)\n",
    "\n"
   ]
  },
  {
   "cell_type": "markdown",
   "metadata": {},
   "source": [
    "### __Create Feature Objects__\n",
    "<a id=\"create_feature\"></a>"
   ]
  },
  {
   "cell_type": "code",
   "execution_count": null,
   "metadata": {},
   "outputs": [],
   "source": [
    "# Create feature extraction steps\n",
    "\n",
    "# Extract time domain features. input_signals dictionary contains feature prefixes as keys and input signals as values\n",
    "# For example rms of EDA_Tonic is extracted as Tonic_rms in this case\n",
    "#corr_features = biobss.pipeline.Feature(name=\"corr_features\", function=biobss.imutools.get_corr_features, parameters={\"modality\": \"ACC\", \"sigtype\": \"ACC\",\"signal_names\":['ACCx','ACCy','ACCz']}, input_signals={'ACC':['ACCx', 'ACCy', 'ACCz']}, sampling_rate=fs)\n",
    "#freq_features = biobss.pipeline.Feature(name=\"freq_features\", function=biobss.imutools.get_freq_features, parameters={\"modality\": \"ACC\", \"sigtype\": \"ACC\",\"signal_names\":['ACCx','ACCy','ACCz']}, input_signals={'ACC':['ACCx', 'ACCy', 'ACCz']}, sampling_rate=fs, prefix='signal')\n",
    "#stat_features = biobss.pipeline.Feature(name=\"stat_features\", function=biobss.imutools.get_stat_features, parameters={\"modality\": \"ACC\", \"sigtype\": \"ACC\",\"signal_names\":['ACCx','ACCy','ACCz']}, input_signals={'ACC':['ACCx', 'ACCy', 'ACCz']}, sampling_rate=fs)\n",
    "acc_features = biobss.pipeline.Feature(name=\"acc_features\", function=biobss.imutools.get_acc_features, parameters={\"modality\": \"ACC\", \"sigtype\": \"ACC\", \"signal_names\":['ACCx','ACCy','ACCz']}, input_signals={'ACC':['ACCx', 'ACCy', 'ACCz']}, sampling_rate=fs, magnitude=True)"
   ]
  },
  {
   "cell_type": "markdown",
   "metadata": {},
   "source": [
    "### __Create Bio Pipeline Object__\n",
    "<a id=\"create_pipeline\"></a>"
   ]
  },
  {
   "cell_type": "code",
   "execution_count": null,
   "metadata": {},
   "outputs": [],
   "source": [
    "# BIOBSS Pipeline is created\n",
    "# windowed_process=True means that the pipeline will process the signal in windows\n",
    "# window_size=60 means that the pipeline will process 60 seconds of data at a time\n",
    "# step_size=20 means signal will be shifted by 20 seconds for each window\n",
    "pipeline = biobss.pipeline.Bio_Pipeline(windowed_process=False)"
   ]
  },
  {
   "cell_type": "markdown",
   "metadata": {},
   "source": [
    "### __Create Bio Channel Objects__\n",
    "<a id=\"create_biochannel\"></a>"
   ]
  },
  {
   "cell_type": "code",
   "execution_count": null,
   "metadata": {},
   "outputs": [],
   "source": [
    "# Input is created as Bio_Channel object\n",
    "# Bio_Channel object requires following parameters: name, signal, sampling_rate\n",
    "# Optionally timestamp can be provided\n",
    "# If timestamp is provided, resolution of the timestamp should be provided. Possible resolutions are:'min', 's', 'ms', 'us'\n",
    "# If timestamp is not provided, timestamp will be created using sampling_rate. Default resolution is 's'\n",
    "channel_x=biobss.pipeline.Bio_Channel(signal=accx,name=\"ACCx\",sampling_rate=fs)\n",
    "channel_y=biobss.pipeline.Bio_Channel(signal=accy,name=\"ACCy\",sampling_rate=fs)\n",
    "channel_z=biobss.pipeline.Bio_Channel(signal=accz,name=\"ACCz\",sampling_rate=fs)\n",
    "\n",
    "# a Bio Channel object is created with sample data, with the name EDA_Raw and sampling rate 700\n",
    "# timestamp is not provided, so timestamp will be created using sampling_rate\n",
    "\n",
    "# Simply bio_channel the channel object will print the channel properties\n",
    "channel_x"
   ]
  },
  {
   "cell_type": "code",
   "execution_count": null,
   "metadata": {},
   "outputs": [],
   "source": [
    "# bio_channel.channel accesses the data in the channel object\n",
    "channel_x.channel"
   ]
  },
  {
   "cell_type": "markdown",
   "metadata": {},
   "source": [
    "### __Create Bio Data Object__\n",
    "<a id=\"create_biodata\"></a>"
   ]
  },
  {
   "cell_type": "code",
   "execution_count": null,
   "metadata": {},
   "outputs": [],
   "source": [
    "bio_data = biobss.pipeline.Bio_Data()"
   ]
  },
  {
   "cell_type": "code",
   "execution_count": null,
   "metadata": {},
   "outputs": [],
   "source": [
    "bio_data.add_channel(channel_x, 'ACCx')\n",
    "bio_data.add_channel(channel_y, 'ACCy')\n",
    "bio_data.add_channel(channel_z, 'ACCz')"
   ]
  },
  {
   "cell_type": "code",
   "execution_count": null,
   "metadata": {},
   "outputs": [],
   "source": [
    "bio_data"
   ]
  },
  {
   "cell_type": "markdown",
   "metadata": {},
   "source": [
    "### __Set Pipeline Inputs__\n",
    "<a id=\"set_input\"></a>"
   ]
  },
  {
   "cell_type": "code",
   "execution_count": null,
   "metadata": {},
   "outputs": [],
   "source": [
    "# Pipeline input can be set from an array, a dataframe, pandas series, list, Bio_Channel, Bio_Data\n",
    "\n",
    "# In this case, the pipeline input is set with an array\n",
    "#pipeline.set_input(accx,sampling_rate=fs,name='ACCx_Raw')\n",
    "#pipeline.set_input(accy,sampling_rate=fs,name='ACCy_Raw')\n",
    "#pipeline.set_input(accz,sampling_rate=fs,name='ACCz_Raw')\n",
    "\n",
    "# Alternatively, the pipeline input can be set with a Bio_Channel object, in this case the name and sampling rate are not required as they are already provided in the Bio_Channel object\n",
    "#pipeline.set_input(channel_x)\n",
    "#pipeline.set_input(channel_y)\n",
    "#pipeline.set_input(channel_z)\n",
    "\n",
    "pipeline.set_input(bio_data)\n",
    "pipeline.input"
   ]
  },
  {
   "cell_type": "markdown",
   "metadata": {},
   "source": [
    "#### __Add Bio Process Objects to Pipeline__\n",
    "<a id=\"add_bioprocess\"></a>"
   ]
  },
  {
   "cell_type": "code",
   "execution_count": null,
   "metadata": {},
   "outputs": [],
   "source": [
    "# Pipeline steps are added to the pipeline sequentially, the order of the steps is important as the output of one step is the input of the next step\n",
    "# These steps will be processed in the order they are added to the pipeline\n",
    "pipeline.preprocess_queue.add_process(clean)\n",
    "pipeline.preprocess_queue.add_process(normalize)\n",
    "\n",
    "\n",
    "# Currently all the steps are added to the preprocess_queue\n",
    "# After the preprocess_queue is processed, data will be segmented into windows (if windowed_process=True)\n",
    "# For running process in windows, the process_queue is used\n",
    "\n",
    "## This structure will change in the future"
   ]
  },
  {
   "cell_type": "markdown",
   "metadata": {},
   "source": [
    "#### __Add Feature Objects to Pipeline__\n",
    "<a id=\"add_feature\"></a>"
   ]
  },
  {
   "cell_type": "code",
   "execution_count": null,
   "metadata": {},
   "outputs": [],
   "source": [
    "# Features are added to the pipeline\n",
    "#pipeline.add_feature_step(corr_features)\n",
    "#pipeline.add_feature_step(freq_features)\n",
    "#pipeline.add_feature_step(stat_features)\n",
    "pipeline.add_feature_step(acc_features)"
   ]
  },
  {
   "cell_type": "code",
   "execution_count": null,
   "metadata": {},
   "outputs": [],
   "source": [
    "# Represetation of the pipeline\n",
    "pipeline"
   ]
  },
  {
   "cell_type": "markdown",
   "metadata": {},
   "source": [
    "#### __Run Pipeline__\n",
    "<a id=\"run_pipeline\"></a>"
   ]
  },
  {
   "cell_type": "code",
   "execution_count": null,
   "metadata": {},
   "outputs": [],
   "source": [
    "# Pipeline is run, this will process the input data in the pipeline\n",
    "pipeline.run_pipeline()"
   ]
  },
  {
   "cell_type": "code",
   "execution_count": null,
   "metadata": {},
   "outputs": [],
   "source": [
    "# Represetation of the pipeline data after running\n",
    "pipeline.data\n",
    "\n",
    "# Data is cleaned\n",
    "# Data is normalized\n",
    "# Data is decomposed into tonic and phasic components, these componenets are added to the pipeline data as EDA_Tonic and EDA_Phasic channels\n",
    "# Lastly, data is resampled to 350Hz (All channels are resampled to 350Hz) (target_sample_rate=350)\n",
    "# Data is segmented into windows of 60 seconds with a step size of 20 seconds"
   ]
  },
  {
   "cell_type": "markdown",
   "metadata": {},
   "source": [
    "#### __Extract Features__\n",
    "<a id=\"extract_features\"></a>"
   ]
  },
  {
   "cell_type": "code",
   "execution_count": null,
   "metadata": {},
   "outputs": [],
   "source": [
    "# Statistical and signal features are extracted from the EDA_Tonic, EDA_Phasic and EDA_Raw channels\n",
    "# Supplied prefix is added to the feature name\n",
    "pipeline.extract_features()\n",
    "\n"
   ]
  },
  {
   "cell_type": "code",
   "execution_count": null,
   "metadata": {},
   "outputs": [],
   "source": [
    "# Represetation of the pipeline features after extraction\n",
    "# Each row is a feature vector for a window\n",
    "# index is the timestamp of the window (this can be selected as start, end or center of the window)\n",
    "pipeline.features"
   ]
  }
 ],
 "metadata": {
  "kernelspec": {
   "display_name": "Python 3.8.13 ('biolib')",
   "language": "python",
   "name": "python3"
  },
  "language_info": {
   "codemirror_mode": {
    "name": "ipython",
    "version": 3
   },
   "file_extension": ".py",
   "mimetype": "text/x-python",
   "name": "python",
   "nbconvert_exporter": "python",
   "pygments_lexer": "ipython3",
   "version": "3.8.13"
  },
  "orig_nbformat": 4,
  "vscode": {
   "interpreter": {
    "hash": "3a4bcfb23c7e6ad66c655087280fa9f4d0273121ae7909f7735d1e02563a2438"
   }
  }
 },
 "nbformat": 4,
 "nbformat_minor": 2
}
